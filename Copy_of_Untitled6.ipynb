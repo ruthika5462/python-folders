{
  "cells": [
    {
      "cell_type": "markdown",
      "metadata": {
        "id": "view-in-github",
        "colab_type": "text"
      },
      "source": [
        "<a href=\"https://colab.research.google.com/github/ruthika5462/python-folders/blob/main/Copy_of_Untitled6.ipynb\" target=\"_parent\"><img src=\"https://colab.research.google.com/assets/colab-badge.svg\" alt=\"Open In Colab\"/></a>"
      ]
    },
    {
      "cell_type": "code",
      "execution_count": null,
      "metadata": {
        "colab": {
          "base_uri": "https://localhost:8080/"
        },
        "id": "9EQkzSrqPJhx",
        "outputId": "08a3d575-2dcf-49ee-8711-20b92dc9e4b3"
      },
      "outputs": [
        {
          "name": "stdout",
          "output_type": "stream",
          "text": [
            "total: 50\n",
            "<class 'int'>\n",
            "11128096\n",
            "11127456\n",
            "11128256\n"
          ]
        }
      ],
      "source": [
        "a=25\n",
        "b=25\n",
        "c=a+b\n",
        "print(\"total:\",c)\n",
        "print(type(a))\n",
        "a=45\n",
        "print(id(a))\n",
        "print(id(b))\n",
        "print(id(c))\n"
      ]
    },
    {
      "cell_type": "code",
      "execution_count": null,
      "metadata": {
        "colab": {
          "base_uri": "https://localhost:8080/"
        },
        "id": "b8hC0EA1Shw6",
        "outputId": "afa5f147-b1f3-4067-94fa-fb5c9471b6de"
      },
      "outputs": [
        {
          "name": "stdout",
          "output_type": "stream",
          "text": [
            "['False', 'None', 'True', 'and', 'as', 'assert', 'async', 'await', 'break', 'class', 'continue', 'def', 'del', 'elif', 'else', 'except', 'finally', 'for', 'from', 'global', 'if', 'import', 'in', 'is', 'lambda', 'nonlocal', 'not', 'or', 'pass', 'raise', 'return', 'try', 'while', 'with', 'yield']\n"
          ]
        }
      ],
      "source": [
        "import keyword\n",
        "print(keyword.kwlist)"
      ]
    },
    {
      "cell_type": "code",
      "execution_count": null,
      "metadata": {
        "colab": {
          "base_uri": "https://localhost:8080/"
        },
        "id": "1G40A_4fTqRS",
        "outputId": "46e4a770-4595-439f-f970-7b402a518d0a"
      },
      "outputs": [
        {
          "name": "stdout",
          "output_type": "stream",
          "text": [
            "enter name :ruthika\n",
            "<class 'str'>\n",
            "ruthika\n"
          ]
        }
      ],
      "source": [
        "##input statement\n",
        "name = input(\"enter name :\")\n",
        "print(type(name))\n",
        "print(name)"
      ]
    },
    {
      "cell_type": "code",
      "execution_count": null,
      "metadata": {
        "colab": {
          "base_uri": "https://localhost:8080/",
          "height": 130
        },
        "id": "A82AgRw9UpDT",
        "outputId": "a962ba1b-abe8-4eed-b881-de989ba51d9f"
      },
      "outputs": [
        {
          "ename": "SyntaxError",
          "evalue": "ignored",
          "output_type": "error",
          "traceback": [
            "\u001b[0;36m  File \u001b[0;32m\"<ipython-input-15-0f3a166f015f>\"\u001b[0;36m, line \u001b[0;32m2\u001b[0m\n\u001b[0;31m    b =float(input(\"enter the value of b:\",b)\u001b[0m\n\u001b[0m    ^\u001b[0m\n\u001b[0;31mSyntaxError\u001b[0m\u001b[0;31m:\u001b[0m invalid syntax\n"
          ]
        }
      ],
      "source": [
        "a =float(input(\"Enter the value of a:\",a)\n",
        "b =float(input(\"enter the value of b:\",b)\n",
        "c=a+b\n",
        "print(c)"
      ]
    },
    {
      "cell_type": "code",
      "execution_count": null,
      "metadata": {
        "colab": {
          "base_uri": "https://localhost:8080/"
        },
        "id": "ncV_S9GjVc5F",
        "outputId": "052ee453-3907-4932-84fa-0f333bfd68c1"
      },
      "outputs": [
        {
          "name": "stdout",
          "output_type": "stream",
          "text": [
            "enter 3 namesruthika manju jayaprakash\n",
            "name 1: ruthika\n",
            "name 2: manju\n",
            "name 3: jayaprakash\n"
          ]
        }
      ],
      "source": [
        "name1,name2,name3=input(\"enter 3 names\").split()\n",
        "print(\"name 1:\",name1)\n",
        "print(\"name 2:\",name2)\n",
        "print(\"name 3:\",name3)"
      ]
    },
    {
      "cell_type": "code",
      "execution_count": null,
      "metadata": {
        "colab": {
          "base_uri": "https://localhost:8080/"
        },
        "id": "FcZd3CG9WD06",
        "outputId": "260c3d82-fe87-4643-c068-2a0460985738"
      },
      "outputs": [
        {
          "name": "stdout",
          "output_type": "stream",
          "text": [
            " typesetting industry truth about pasword hasing bruteforce method\n"
          ]
        }
      ],
      "source": [
        "a=\"\"\" typesetting industry truth about pasword hasing bruteforce method\"\"\"\n",
        "print(a)"
      ]
    },
    {
      "cell_type": "code",
      "execution_count": null,
      "metadata": {
        "colab": {
          "base_uri": "https://localhost:8080/"
        },
        "id": "jTVolJ6tWjlS",
        "outputId": "053ed5e4-7807-4bfb-c2c7-8b9720aa46da"
      },
      "outputs": [
        {
          "name": "stdout",
          "output_type": "stream",
          "text": [
            "23\n",
            "24\n"
          ]
        }
      ],
      "source": [
        "para=[23,24,25,26,23]\n",
        "print(para[0])\n",
        "print(para[1])"
      ]
    },
    {
      "cell_type": "code",
      "execution_count": null,
      "metadata": {
        "colab": {
          "base_uri": "https://localhost:8080/"
        },
        "id": "_gg0BiixWyTy",
        "outputId": "441ff26c-c978-4f84-a75f-c9ec4be013b5"
      },
      "outputs": [
        {
          "name": "stdout",
          "output_type": "stream",
          "text": [
            "['24', '56', '78']\n",
            "24|56|78\n",
            "enter a para:\n"
          ]
        }
      ],
      "source": [
        "para=[\"24\",\"56\",\"78\"]\n",
        "print(para)\n",
        "print('|'.join(para))\n"
      ]
    },
    {
      "cell_type": "code",
      "execution_count": null,
      "metadata": {
        "colab": {
          "background_save": true,
          "base_uri": "https://localhost:8080/"
        },
        "id": "NG64aS_AXcOc",
        "outputId": "7ce4cd58-21ca-4991-a62e-add0ad91949d"
      },
      "outputs": [
        {
          "name": "stdout",
          "output_type": "stream",
          "text": [
            "enter the para\n"
          ]
        }
      ],
      "source": [
        "para=[]\n",
        "print(\"enter the para\")\n",
        "while True:\n",
        "  line=input()\n",
        "  if line:\n",
        "    para.append(line)\n",
        "  else:\n",
        "      break\n",
        "   print(para)\n",
        "    "
      ]
    },
    {
      "cell_type": "code",
      "execution_count": null,
      "metadata": {
        "id": "aTlbrDNYerzL",
        "colab": {
          "base_uri": "https://localhost:8080/"
        },
        "outputId": "cf91aa08-8ddd-46ee-db94-37a865974976"
      },
      "outputs": [
        {
          "output_type": "stream",
          "name": "stdout",
          "text": [
            "10\n",
            "<class 'int'>\n"
          ]
        }
      ],
      "source": [
        "a=10\n",
        "print(a)\n",
        "print(type(a))"
      ]
    },
    {
      "cell_type": "code",
      "source": [
        "a=10.0\n",
        "print(a)\n",
        "print(type(a))\n",
        "b=int(a)\n",
        "print(b)\n",
        "print(type(b))\n",
        "a=int(input(\"enter the value of a:\"))\n",
        "b=int(input(\"enter the value of b:\"))\n",
        "c=a+b\n",
        "print(\"total:\"+ str(c))"
      ],
      "metadata": {
        "colab": {
          "base_uri": "https://localhost:8080/"
        },
        "id": "X61FDlmmC2Ot",
        "outputId": "0890e98b-5e73-4f2d-ad65-d05da92e98cc"
      },
      "execution_count": null,
      "outputs": [
        {
          "output_type": "stream",
          "name": "stdout",
          "text": [
            "10.0\n",
            "<class 'float'>\n",
            "10\n",
            "<class 'int'>\n",
            "enter the value of a:10\n",
            "enter the value of b:30\n",
            "total:40\n"
          ]
        }
      ]
    },
    {
      "cell_type": "code",
      "source": [
        "##string and string functions\n",
        "s=\"Ruthika\"\n",
        "print(s)\n",
        "print(type(s))\n",
        "print(s.upper())\n",
        "print(s.lower())\n",
        "print(s.capitalize())\n",
        "print(s.title())\n",
        "print(s.count(\"t\"))\n",
        "print(s.endswith(\"es\"))\n",
        "print(s.endswith(\"ed\"))\n",
        "print(s.find(\"o\",5))\n",
        "print(s.replace(\"o\",'0'))\n",
        "a=\"ruthika\"\n",
        "print(a.isupper())\n",
        "print(a.islower())\n",
        "print(a.isalnum())\n",
        "print(a.isalpha())\n",
        "s=\"she\\nis\\ngood\"\n",
        "print(s)\n",
        "print(s.splitlines())\n",
        "print(s.splitlines(True))\n",
        "print(len(s))\n",
        "print(len(s.strip()))\n",
        "print(len(s.lstrip()))\n",
        "\n",
        "\n",
        "\n"
      ],
      "metadata": {
        "colab": {
          "base_uri": "https://localhost:8080/"
        },
        "id": "JQG-3YyPDzbP",
        "outputId": "3885d389-0c1a-48df-b74a-e60d445ef31e"
      },
      "execution_count": null,
      "outputs": [
        {
          "output_type": "stream",
          "name": "stdout",
          "text": [
            "Ruthika\n",
            "<class 'str'>\n",
            "RUTHIKA\n",
            "ruthika\n",
            "Ruthika\n",
            "Ruthika\n",
            "1\n",
            "False\n",
            "False\n",
            "-1\n",
            "Ruthika\n",
            "False\n",
            "True\n",
            "True\n",
            "True\n",
            "she\n",
            "is\n",
            "good\n",
            "['she', 'is', 'good']\n",
            "['she\\n', 'is\\n', 'good']\n",
            "11\n",
            "11\n",
            "11\n"
          ]
        }
      ]
    },
    {
      "cell_type": "code",
      "source": [
        "##string manipulation\n",
        "s=\"sample\"\n",
        "print(s)\n",
        "print(s[0:2])\n",
        "print(s[:5])\n",
        "print(s[1:5])\n",
        "print(s[-1])\n",
        "print(s[3:5])\n",
        "print(s[-2:-1])\n",
        "print(s[::-1])\n"
      ],
      "metadata": {
        "colab": {
          "base_uri": "https://localhost:8080/"
        },
        "id": "KnrjRJl7HTZF",
        "outputId": "d7cfb258-e94e-4695-d072-92082fd337c6"
      },
      "execution_count": null,
      "outputs": [
        {
          "output_type": "stream",
          "name": "stdout",
          "text": [
            "sample\n",
            "sa\n",
            "sampl\n",
            "ampl\n",
            "e\n",
            "pl\n",
            "l\n",
            "elpmas\n"
          ]
        }
      ]
    },
    {
      "cell_type": "code",
      "source": [
        "##arithmetic operators\n",
        "a=123\n",
        "b=3\n",
        "print(a+b)\n",
        "print(a-b)\n",
        "print(a/b)\n",
        "print(a*b)\n",
        "print(a**b)\n",
        "print(a//b)\n"
      ],
      "metadata": {
        "colab": {
          "base_uri": "https://localhost:8080/"
        },
        "id": "qXxmSTheV5tC",
        "outputId": "5e8d9521-c6fa-487c-d961-e0f383ccf8f1"
      },
      "execution_count": null,
      "outputs": [
        {
          "output_type": "stream",
          "name": "stdout",
          "text": [
            "126\n",
            "120\n",
            "41.0\n",
            "369\n",
            "1860867\n",
            "41\n"
          ]
        }
      ]
    },
    {
      "cell_type": "code",
      "source": [
        "##assingment operator\n",
        "a=125\n",
        "print(a)\n",
        "a+=5\n",
        "print(a)\n",
        "a-=10\n",
        "print(a)\n",
        "a*=10\n",
        "print(a)\n",
        "a/=10\n",
        "print(a)\n",
        "a%=10\n",
        "print(a)\n",
        "a**=10\n",
        "print(a)\n",
        "a//=10\n",
        "print(a)"
      ],
      "metadata": {
        "colab": {
          "base_uri": "https://localhost:8080/"
        },
        "id": "OXsA81P-WrwI",
        "outputId": "c8499089-1976-4410-f29c-5f1c56d787dd"
      },
      "execution_count": null,
      "outputs": [
        {
          "output_type": "stream",
          "name": "stdout",
          "text": [
            "125\n",
            "130\n",
            "120\n",
            "1200\n",
            "120.0\n",
            "0.0\n",
            "0.0\n",
            "0.0\n"
          ]
        }
      ]
    },
    {
      "cell_type": "code",
      "source": [
        "##comparision operator\n",
        "a=10\n",
        "b=20\n",
        "print(a==b)\n",
        "print(a!=b)\n",
        "print(a>b)\n",
        "print(a<b)\n",
        "print(a>=b)\n",
        "print(a<=b)"
      ],
      "metadata": {
        "colab": {
          "base_uri": "https://localhost:8080/"
        },
        "id": "nsFPQMsoXwKQ",
        "outputId": "317b2990-bb93-435e-ec7c-904b011e5a39"
      },
      "execution_count": null,
      "outputs": [
        {
          "output_type": "stream",
          "name": "stdout",
          "text": [
            "False\n",
            "True\n",
            "False\n",
            "True\n",
            "False\n",
            "True\n"
          ]
        }
      ]
    },
    {
      "cell_type": "code",
      "source": [
        "##logical operator\n",
        "a=25\n",
        "print(a>=10 and a<=20)\n",
        "print(a>=10  or a<=20)\n",
        "print(not a>=10  and a<=20)\n"
      ],
      "metadata": {
        "colab": {
          "base_uri": "https://localhost:8080/"
        },
        "id": "Sn23yzCNY9WU",
        "outputId": "e5d944eb-be8e-4ea2-a62d-eed8a511a58b"
      },
      "execution_count": null,
      "outputs": [
        {
          "output_type": "stream",
          "name": "stdout",
          "text": [
            "False\n",
            "True\n",
            "False\n"
          ]
        }
      ]
    },
    {
      "cell_type": "code",
      "source": [
        "##bitwise operstor\n",
        "a=25\n",
        "b=45\n",
        "print(a&b)\n",
        "a=25\n",
        "b=45\n",
        "print(a|b)\n",
        "print(a^b)\n",
        "print(~a)\n",
        "print(a<<2)"
      ],
      "metadata": {
        "colab": {
          "base_uri": "https://localhost:8080/"
        },
        "id": "7UaT5eD1d_X3",
        "outputId": "d52adeb2-aef9-496a-af0c-731efc97726c"
      },
      "execution_count": null,
      "outputs": [
        {
          "output_type": "stream",
          "name": "stdout",
          "text": [
            "9\n",
            "61\n",
            "52\n",
            "-26\n"
          ]
        }
      ]
    },
    {
      "cell_type": "code",
      "source": [
        "##if statement\n",
        "##write a program to check the given number is even no\n",
        "n=int(input(\"enter the no:\"))\n",
        "if n%2==0:\n",
        "  print(n,\"is even number\")\n",
        "else:\n",
        "  print(n,\"is odd number\")\n"
      ],
      "metadata": {
        "colab": {
          "base_uri": "https://localhost:8080/"
        },
        "id": "qN-eObDGWB7k",
        "outputId": "94b91928-1624-423b-99e4-c9c2446bd315"
      },
      "execution_count": null,
      "outputs": [
        {
          "output_type": "stream",
          "name": "stdout",
          "text": [
            "enter the no:255\n",
            "255 is odd number\n"
          ]
        }
      ]
    },
    {
      "cell_type": "code",
      "source": [
        "##write a program to check vote eligibility\n",
        "name=(input(\"enter the name\"))\n",
        "age=int(input(\"enter the age\"))\n",
        "if age>=18:\n",
        "   print(name,\"age is\",age,\"eligible for vote\")\n",
        "else:\n",
        "  print(name,\"age is\",age,\"not eligible for vote\")"
      ],
      "metadata": {
        "colab": {
          "base_uri": "https://localhost:8080/"
        },
        "id": "xFyWjaopW8yC",
        "outputId": "fdc43537-b309-4632-8cd7-fda374972304"
      },
      "execution_count": null,
      "outputs": [
        {
          "output_type": "stream",
          "name": "stdout",
          "text": [
            "enter the nameruhtika\n",
            "enter the age19\n",
            "ruhtika age is 19 eligible for vote\n"
          ]
        }
      ]
    },
    {
      "cell_type": "code",
      "source": [
        "##elif statement in python\n",
        "days =int(input(\"enter the days:\"))\n",
        "if (days==0):\n",
        "  print(\"good no fine\")\n",
        "elif(days>=1 and days<=5):\n",
        "  print(\"fine amount:\",days*0.5)\n",
        "elif(days>=5 and days<=10):\n",
        "  print(\"fine amount:\",days*1)\n",
        "elif(days>10 and days<=30):\n",
        "  print(\"fine aount:\",days*5)\n",
        "else:\n",
        "  print(\"membership cancelled\")"
      ],
      "metadata": {
        "id": "x9FuTh1gX09y",
        "colab": {
          "base_uri": "https://localhost:8080/"
        },
        "outputId": "747fc72b-21fd-4a71-cac6-9a0e5556af85"
      },
      "execution_count": null,
      "outputs": [
        {
          "output_type": "stream",
          "name": "stdout",
          "text": [
            "enter the days:13\n",
            "fine aount: 65\n"
          ]
        }
      ]
    },
    {
      "cell_type": "code",
      "source": [
        "##nested if statement\n",
        "m1=int(input(\"enter mark1:\"))\n",
        "m2=int(input(\"enter mark2:\"))\n",
        "m3=int(input(\"enter mark3:\"))\n",
        "total=m1+m2+m3\n",
        "average=total/3.0\n",
        "print(\"total :\",total)\n",
        "print(\"average:\",average)\n",
        "if m1>=35 and m2>=35 and m3>=35:\n",
        "  print(\"result:pass\")\n",
        "  if average>=90 and average<=100:\n",
        "    print(\"grade :A\")\n",
        "  elif average>=80 and average<=90:\n",
        "    print(\"grade:B\")\n",
        "  elif average>=70 and average<=80:\n",
        "    print(\"grade :c\")\n",
        "else:\n",
        "  print(\"result: Fail\")\n",
        "  print(\"grade: No grade\")"
      ],
      "metadata": {
        "colab": {
          "base_uri": "https://localhost:8080/"
        },
        "id": "pyJhnSXjXxWO",
        "outputId": "73018aa5-5176-4f0c-f90d-921f532d66be"
      },
      "execution_count": null,
      "outputs": [
        {
          "output_type": "stream",
          "name": "stdout",
          "text": [
            "enter mark1:59\n",
            "enter mark2:89\n",
            "enter mark3:95\n",
            "total : 243\n",
            "average: 81.0\n",
            "result:pass\n",
            "grade:B\n"
          ]
        }
      ]
    },
    {
      "cell_type": "code",
      "source": [
        "##while loop\n",
        "i=1\n",
        "while i<=10:\n",
        "  print(i)\n",
        "  i+=1\n",
        "print(\"------------------\")\n",
        "print(\"Even no:\")\n",
        "n=20\n",
        "i=2\n",
        "while i<=20:\n",
        "  print(i)\n",
        "  i+=4\n",
        "print(\"__________________\")\n",
        "print(\"odd no\")\n",
        "n=23\n",
        "i=3\n",
        "while i<=23:\n",
        "  print(i)\n",
        "  i+=3"
      ],
      "metadata": {
        "colab": {
          "base_uri": "https://localhost:8080/"
        },
        "id": "4eGSlVSpZ_k9",
        "outputId": "f275ff25-669d-4f6f-f527-67b4d602ef10"
      },
      "execution_count": null,
      "outputs": [
        {
          "output_type": "stream",
          "name": "stdout",
          "text": [
            "1\n",
            "2\n",
            "3\n",
            "4\n",
            "5\n",
            "6\n",
            "7\n",
            "8\n",
            "9\n",
            "10\n",
            "------------------\n",
            "Even no:\n",
            "2\n",
            "6\n",
            "10\n",
            "14\n",
            "18\n",
            "__________________\n",
            "odd no\n",
            "3\n",
            "6\n",
            "9\n",
            "12\n",
            "15\n",
            "18\n",
            "21\n"
          ]
        }
      ]
    },
    {
      "cell_type": "code",
      "source": [
        "##continue statment\n",
        "i=1\n",
        "while i<=20:\n",
        "    if i%2==0:\n",
        "     i=i+1\n",
        "    continue\n",
        "    print(i)\n",
        "    i +=1"
      ],
      "metadata": {
        "id": "Nv5sO3S-bN9V"
      },
      "execution_count": null,
      "outputs": []
    },
    {
      "cell_type": "code",
      "source": [
        "###break statement\n",
        "i=1\n",
        "while i <=20:\n",
        "  if i++7:\n",
        "    break\n",
        " print(i)\n",
        "  i+=1"
      ],
      "metadata": {
        "id": "-Zu5CNnab-Ad"
      },
      "execution_count": null,
      "outputs": []
    }
  ],
  "metadata": {
    "colab": {
      "provenance": [],
      "authorship_tag": "ABX9TyNH8LOMJhBa3zx1rtm6fW5C",
      "include_colab_link": true
    },
    "kernelspec": {
      "display_name": "Python 3",
      "name": "python3"
    },
    "language_info": {
      "name": "python"
    }
  },
  "nbformat": 4,
  "nbformat_minor": 0
}