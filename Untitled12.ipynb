{
  "nbformat": 4,
  "nbformat_minor": 0,
  "metadata": {
    "colab": {
      "provenance": [],
      "authorship_tag": "ABX9TyMsi83gvDFNFjqN4b2n0eh9",
      "include_colab_link": true
    },
    "kernelspec": {
      "name": "python3",
      "display_name": "Python 3"
    },
    "language_info": {
      "name": "python"
    }
  },
  "cells": [
    {
      "cell_type": "markdown",
      "metadata": {
        "id": "view-in-github",
        "colab_type": "text"
      },
      "source": [
        "<a href=\"https://colab.research.google.com/github/ruthika5462/python-folders/blob/main/Untitled12.ipynb\" target=\"_parent\"><img src=\"https://colab.research.google.com/assets/colab-badge.svg\" alt=\"Open In Colab\"/></a>"
      ]
    },
    {
      "cell_type": "code",
      "execution_count": null,
      "metadata": {
        "id": "ZW_zYDVVQAuG"
      },
      "outputs": [],
      "source": [
        "##recursion \n",
        "def openRussiandoll(doll):\n",
        "  if doll==1:\n",
        "    print(\"all dolls are opened\")\n",
        "  else:\n",
        "    openRussiandolll(doll-1)"
      ]
    },
    {
      "cell_type": "code",
      "source": [
        "def recursionmethod(paramters):\n",
        "  if exit from condition satisfied:\n",
        "    return some value\n",
        "  else:\n",
        "    recursionmethod(modified parameters)"
      ],
      "metadata": {
        "id": "_aKsU2B5SEHk"
      },
      "execution_count": null,
      "outputs": []
    },
    {
      "cell_type": "code",
      "source": [
        "def firstmethod():\n",
        "    secondmethod()\n",
        "    print(\"i am first method\")\n",
        "def  secondmethod():\n",
        "      thirdmethod()\n",
        "      print(\"i am second method\")\n",
        "def  thirdmethod():\n",
        "     fourthmethod()\n",
        "     print(\"i am third method\")\n",
        "def fourthmethod():\n",
        "     print(\"i am fourth method\")"
      ],
      "metadata": {
        "id": "naKvHF93SjGO"
      },
      "execution_count": null,
      "outputs": []
    },
    {
      "cell_type": "code",
      "source": [
        "def recursiveMethod():\n",
        "  if n<1:  \n",
        "    print(\"n is less than 1\")\n",
        "  else:\n",
        "    recursiveMethod(n-1)\n",
        "    print(n)"
      ],
      "metadata": {
        "id": "E2dBYzfpUdJc"
      },
      "execution_count": 3,
      "outputs": []
    },
    {
      "cell_type": "code",
      "source": [
        "def poweroftwo(n):\n",
        "  if n == 0:\n",
        "    power = 1\n",
        "    while i<n:\n",
        "      power = power*2\n",
        "      i=i+1\n",
        "      return power"
      ],
      "metadata": {
        "id": "WnlQGG0PU4d1"
      },
      "execution_count": null,
      "outputs": []
    },
    {
      "cell_type": "code",
      "source": [
        "import sys\n",
        "sys.setrecursionlimit(10000)\n",
        "def factorial(n):\n",
        "  assert n>=0 and int(n)==n ##the number should be positive\n",
        "  if n in [0,1]:\n",
        "      return 1\n",
        "  else:\n",
        "       return n * factorial(n-1)\n",
        "\n",
        "print(factorial(4))"
      ],
      "metadata": {
        "colab": {
          "base_uri": "https://localhost:8080/"
        },
        "id": "oegvx2DPaLNi",
        "outputId": "d5d6eab3-99e5-4ce1-d087-a0050477e7e2"
      },
      "execution_count": 13,
      "outputs": [
        {
          "output_type": "stream",
          "name": "stdout",
          "text": [
            "24\n"
          ]
        }
      ]
    },
    {
      "cell_type": "code",
      "source": [
        "def fibonacci(n):\n",
        "  assert n>=0 and int(n)==n\n",
        "  if n in [0,1]:\n",
        "    return n\n",
        "  else:\n",
        "      return fibonacci(n-1) + fibonacci(n-2)\n",
        "print(fibonacci(8))\n"
      ],
      "metadata": {
        "colab": {
          "base_uri": "https://localhost:8080/"
        },
        "id": "dyqXAtnritbg",
        "outputId": "616abfee-91a5-4717-e7eb-d44342712ee3"
      },
      "execution_count": 22,
      "outputs": [
        {
          "output_type": "stream",
          "name": "stdout",
          "text": [
            "21\n"
          ]
        }
      ]
    },
    {
      "cell_type": "code",
      "source": [
        "def sumofdigits(n):\n",
        "  assert n>=0 and int(n) == n\n",
        "  if n == 0:\n",
        "    return 0\n",
        "  else:\n",
        "    return int(n%10) + sumofdigits(int(n/10))\n",
        "\n",
        "print(sumofdigits(1234))"
      ],
      "metadata": {
        "colab": {
          "base_uri": "https://localhost:8080/"
        },
        "id": "ONq-65KMnVB-",
        "outputId": "4530061e-fc78-446b-cbf6-b2a55b06b601"
      },
      "execution_count": 31,
      "outputs": [
        {
          "output_type": "stream",
          "name": "stdout",
          "text": [
            "10\n"
          ]
        }
      ]
    },
    {
      "cell_type": "code",
      "source": [
        "num=int(input(\"entera positive integer number\"))\n",
        "result = 0\n",
        "while num>0:\n",
        "  digit = num%10\n",
        "  result =result+digit\n",
        "  num = num//10\n",
        "print(\"sum is:\",result)"
      ],
      "metadata": {
        "colab": {
          "base_uri": "https://localhost:8080/"
        },
        "id": "Ez2cXYsfvv7l",
        "outputId": "16ff611f-c758-4278-d66c-470627106a4a"
      },
      "execution_count": 33,
      "outputs": [
        {
          "output_type": "stream",
          "name": "stdout",
          "text": [
            "entera positive integer number3445\n",
            "sum is: 16\n"
          ]
        }
      ]
    },
    {
      "cell_type": "code",
      "source": [
        "num=int(input(\"enter the postive integer number:\"))\n",
        "result =0\n",
        "for i in range(len(str(num))):\n",
        "  digit=num%10\n",
        "  result = result+digit\n",
        "  num=num//10\n",
        "print(\"sum is:\",result)"
      ],
      "metadata": {
        "colab": {
          "base_uri": "https://localhost:8080/"
        },
        "id": "n220x5xd0RdK",
        "outputId": "d191002f-6b3c-4f59-e3a8-aac6482d9df3"
      },
      "execution_count": 34,
      "outputs": [
        {
          "output_type": "stream",
          "name": "stdout",
          "text": [
            "enter the postive integer number:786\n",
            "sum is: 21\n"
          ]
        }
      ]
    },
    {
      "cell_type": "code",
      "source": [
        "def power(base,exp):\n",
        "  assert int(exp) == exp\n",
        "  if exp==0:\n",
        "    return 1\n",
        "  elif exp < 0:\n",
        "    return 1/base * power(base,exp-1)\n",
        "  return base*power(base,exp-1)\n",
        "print(power(-2,4))"
      ],
      "metadata": {
        "colab": {
          "base_uri": "https://localhost:8080/"
        },
        "id": "7x-qAkPt07oL",
        "outputId": "0d499d7c-4da3-47be-c088-1be47712479e"
      },
      "execution_count": 40,
      "outputs": [
        {
          "output_type": "stream",
          "name": "stdout",
          "text": [
            "16\n"
          ]
        }
      ]
    },
    {
      "cell_type": "code",
      "source": [
        "num =int(input(\"enter the integer number:\"))\n",
        "i= 0\n",
        "res = 0\n",
        "while res < num:\n",
        "  res = 1<<i\n",
        "  if res==num:\n",
        "    print(\"yes entered number is power of 2!: 2 power 2\",i)\n",
        "    break\n",
        "    i=i+1\n",
        "else:\n",
        "  print(\"no entered number is not power of 2\")\n",
        "\n",
        "\n"
      ],
      "metadata": {
        "colab": {
          "base_uri": "https://localhost:8080/"
        },
        "id": "f8tXOenf487f",
        "outputId": "19810cd3-eedb-44ad-964a-6f7db4ce7fab"
      },
      "execution_count": null,
      "outputs": [
        {
          "name": "stdout",
          "output_type": "stream",
          "text": [
            "enter the integer number:5\n"
          ]
        }
      ]
    },
    {
      "cell_type": "code",
      "source": [
        "def gcd(a,b):\n",
        "  if b ==0:\n",
        "    return a\n",
        "  else:\n",
        "    return gcd(b,a%b)\n",
        "    \n",
        "print(gcd(48,18))"
      ],
      "metadata": {
        "id": "MdK985lp8uDd"
      },
      "execution_count": null,
      "outputs": []
    }
  ]
}