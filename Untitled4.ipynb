{
  "nbformat": 4,
  "nbformat_minor": 0,
  "metadata": {
    "colab": {
      "provenance": [],
      "authorship_tag": "ABX9TyP5P1CgVodd2eZhbI8KOIUj",
      "include_colab_link": true
    },
    "kernelspec": {
      "name": "python3",
      "display_name": "Python 3"
    },
    "language_info": {
      "name": "python"
    }
  },
  "cells": [
    {
      "cell_type": "markdown",
      "metadata": {
        "id": "view-in-github",
        "colab_type": "text"
      },
      "source": [
        "<a href=\"https://colab.research.google.com/github/ruthika5462/python-folders/blob/main/Untitled4.ipynb\" target=\"_parent\"><img src=\"https://colab.research.google.com/assets/colab-badge.svg\" alt=\"Open In Colab\"/></a>"
      ]
    },
    {
      "cell_type": "code",
      "execution_count": null,
      "metadata": {
        "colab": {
          "base_uri": "https://localhost:8080/"
        },
        "id": "tpRSpo116Oa8",
        "outputId": "b7b374c4-bb85-4b66-86b8-15afd2026605"
      },
      "outputs": [
        {
          "output_type": "stream",
          "name": "stdout",
          "text": [
            "enter a digit7\n",
            "the number of digits in the number are: 1\n"
          ]
        }
      ],
      "source": [
        "##count the number of digitts in a number\n",
        "n=int(input(\"enter a digit\"))\n",
        "count=0\n",
        "while(n>0):\n",
        "  count=count+1\n",
        "  n=n//10     ##it is a floor division\n",
        "print(\"the number of digits in the number are:\",count)\n"
      ]
    },
    {
      "cell_type": "code",
      "source": [
        "##to print a inverted star pattern\n",
        "n=int(input(\"enter the number of rows:\"))\n",
        "for i in range(n,0,-1):\n",
        "  print((n-i)*''+i* '*')\n",
        "\n"
      ],
      "metadata": {
        "colab": {
          "base_uri": "https://localhost:8080/"
        },
        "id": "cQjtpjEt7Ke3",
        "outputId": "07092796-ba2b-4e2c-f577-f6d2315f78c7"
      },
      "execution_count": null,
      "outputs": [
        {
          "output_type": "stream",
          "name": "stdout",
          "text": [
            "enter the number of rows:10\n",
            "**********\n",
            "*********\n",
            "********\n",
            "*******\n",
            "******\n",
            "*****\n",
            "****\n",
            "***\n",
            "**\n",
            "*\n"
          ]
        }
      ]
    },
    {
      "cell_type": "code",
      "source": [
        "#diamond   ##check the classes in the property if not there it goes for another class\n",
        "class a:\n",
        "     def display(self):\n",
        "       print(\"i am display of class a\")\n",
        "class b(a):\n",
        "    def display (self):\n",
        "      print(\"iam display of class b\")\n",
        "class c(a):\n",
        "    def display(self):\n",
        "      print(\"iam display of class c\")\n",
        "class D (b,c):\n",
        "    def display(self):\n",
        "      print(\"i am display of class d\")\n",
        "o=D()\n",
        "o.display()\n",
        "    "
      ],
      "metadata": {
        "colab": {
          "base_uri": "https://localhost:8080/"
        },
        "id": "gbQwtQEH8Wbu",
        "outputId": "ef17f0d5-5ace-4691-f75d-6bb63f72b191"
      },
      "execution_count": null,
      "outputs": [
        {
          "output_type": "stream",
          "name": "stdout",
          "text": [
            "i am display of class d\n"
          ]
        }
      ]
    },
    {
      "cell_type": "code",
      "source": [
        "##operator overloading\n",
        "class addition:\n",
        "  def __init__(self,a):\n",
        "    self.a=a\n",
        "  def __add__(o1,o2):\n",
        "      return o1.a = o2.a\n",
        "o1=addition(10)\n",
        "o2=addition(20)\n",
        "\n",
        "print('total:',(o1+o2))"
      ],
      "metadata": {
        "colab": {
          "base_uri": "https://localhost:8080/",
          "height": 130
        },
        "id": "FWN0NCGc-NW9",
        "outputId": "910bdc83-c103-498f-9d57-070674a8a24a"
      },
      "execution_count": null,
      "outputs": [
        {
          "output_type": "error",
          "ename": "SyntaxError",
          "evalue": "ignored",
          "traceback": [
            "\u001b[0;36m  File \u001b[0;32m\"<ipython-input-9-0b3f59068c12>\"\u001b[0;36m, line \u001b[0;32m6\u001b[0m\n\u001b[0;31m    return o1.a = o2.a\u001b[0m\n\u001b[0m                ^\u001b[0m\n\u001b[0;31mSyntaxError\u001b[0m\u001b[0;31m:\u001b[0m invalid syntax\n"
          ]
        }
      ]
    },
    {
      "cell_type": "code",
      "source": [
        "##abstract method\n",
        "from abc import ABC ,abstractmethod\n",
        "class bank(ABC):\n",
        "   @abstractmethod\n",
        "   def loan(self):pass\n",
        "\n",
        "   @abstractmethod\n",
        "    def credit(self):pass\n",
        "\n",
        "   @abstractmethod\n",
        "    def debit(self):pass\n",
        "\n",
        "class hdfc(bank):\n",
        "      def loan(self):\n",
        "         print(\"he can provide  7.5% intrest loan\")\n",
        "      def credit(self):\n",
        "         print(\"hdfc provide credit\")\n",
        "      def debit(self):\n",
        "         print(\"hdfc provide debit\")\n",
        "      def card(self):\n",
        "         print(\"hdfc provide card\")\n",
        "o=hdfc()\n",
        "o.loan()\n",
        "o.loan()\n",
        "  "
      ],
      "metadata": {
        "id": "ZHFwrreP_qS7",
        "colab": {
          "base_uri": "https://localhost:8080/",
          "height": 130
        },
        "outputId": "ef552807-281d-4500-e693-d3d2d9595fa0"
      },
      "execution_count": 1,
      "outputs": [
        {
          "output_type": "error",
          "ename": "IndentationError",
          "evalue": "ignored",
          "traceback": [
            "\u001b[0;36m  File \u001b[0;32m\"<ipython-input-1-f8454de49087>\"\u001b[0;36m, line \u001b[0;32m8\u001b[0m\n\u001b[0;31m    def credit(self):pass\u001b[0m\n\u001b[0m    ^\u001b[0m\n\u001b[0;31mIndentationError\u001b[0m\u001b[0;31m:\u001b[0m unexpected indent\n"
          ]
        }
      ]
    },
    {
      "cell_type": "code",
      "source": [],
      "metadata": {
        "id": "uPAG1WL4CSum"
      },
      "execution_count": null,
      "outputs": []
    }
  ]
}