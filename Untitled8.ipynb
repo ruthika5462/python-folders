{
  "nbformat": 4,
  "nbformat_minor": 0,
  "metadata": {
    "colab": {
      "provenance": [],
      "authorship_tag": "ABX9TyMfizcE6wrjyXeFcONFbx6Q",
      "include_colab_link": true
    },
    "kernelspec": {
      "name": "python3",
      "display_name": "Python 3"
    },
    "language_info": {
      "name": "python"
    }
  },
  "cells": [
    {
      "cell_type": "markdown",
      "metadata": {
        "id": "view-in-github",
        "colab_type": "text"
      },
      "source": [
        "<a href=\"https://colab.research.google.com/github/ruthika5462/python-folders/blob/main/Untitled8.ipynb\" target=\"_parent\"><img src=\"https://colab.research.google.com/assets/colab-badge.svg\" alt=\"Open In Colab\"/></a>"
      ]
    },
    {
      "cell_type": "code",
      "execution_count": null,
      "metadata": {
        "colab": {
          "base_uri": "https://localhost:8080/"
        },
        "id": "TydePYkQloRQ",
        "outputId": "1356c871-de0b-4f6b-847a-790c005f0e4c"
      },
      "outputs": [
        {
          "output_type": "stream",
          "name": "stdout",
          "text": [
            "value of num1 before swapping: 10\n",
            "value of num2 before swapping: 20\n",
            "value of num1 after swapping: 20\n",
            "value of num2 after swapping: 10\n"
          ]
        }
      ],
      "source": [
        "##swap two numbers\n",
        "num1=10\n",
        "num2=20\n",
        "print(\"value of num1 before swapping:\",num1)\n",
        "print(\"value of num2 before swapping:\",num2)\n",
        "temp = num1 ##10\n",
        "num1=num2 #20\n",
        "num2=temp #10\n",
        "print(\"value of num1 after swapping:\",num1)\n",
        "print(\"value of num2 after swapping:\",num2)\n"
      ]
    },
    {
      "cell_type": "code",
      "source": [],
      "metadata": {
        "id": "Mvk9DxeIzDZ0"
      },
      "execution_count": null,
      "outputs": []
    },
    {
      "cell_type": "code",
      "source": [],
      "metadata": {
        "id": "itG-VDQbhdt0"
      },
      "execution_count": null,
      "outputs": []
    },
    {
      "cell_type": "code",
      "source": [
        "num1=input(\"enter thhe value of num1:\")\n",
        "num2=input(\"enter the value of num2:\")\n",
        "\n",
        "print(\"the value of num1 before swapping:\",num1)\n",
        "print(\"the value of num2 before swapping:\",num2)\n",
        "temp=num1\n",
        "num1=num2\n",
        "num2=temp\n",
        "print(\"the value of num2 after swapping:\",num1)\n",
        "print(\"the value of num2 after swapping:\",num2)"
      ],
      "metadata": {
        "colab": {
          "base_uri": "https://localhost:8080/"
        },
        "id": "41VG_FkioKfO",
        "outputId": "6ab7a225-2ec2-4a89-bbdf-9a1ec6b4ce9e"
      },
      "execution_count": null,
      "outputs": [
        {
          "output_type": "stream",
          "name": "stdout",
          "text": [
            "enter thhe value of num1:5\n",
            "enter the value of num2:4\n",
            "the value of num1 before swapping: 5\n",
            "the value of num2 before swapping: 4\n",
            "the value of num2 after swapping: 4\n",
            "the value of num2 after swapping: 5\n"
          ]
        }
      ]
    },
    {
      "cell_type": "code",
      "source": [
        "num1=input(\"enter thhe value of num1:\")\n",
        "num2=input(\"enter the value of num2:\")\n",
        "\n",
        "print(\"the value of num1 before swapping:\",num1)\n",
        "print(\"the value of num2 before swapping:\",num2)\n",
        "num1,num2 = num2,num1\n",
        "print(\"the value of num1 after swapping:\",num1)\n",
        "print(\"the value of num2 after swapping:\",num2)"
      ],
      "metadata": {
        "colab": {
          "base_uri": "https://localhost:8080/"
        },
        "id": "ser3DQA1pnrk",
        "outputId": "23863767-9f07-4668-ee76-75aad9c11243"
      },
      "execution_count": null,
      "outputs": [
        {
          "output_type": "stream",
          "name": "stdout",
          "text": [
            "enter thhe value of num1:2\n",
            "enter the value of num2:3\n",
            "the value of num1 before swapping: 2\n",
            "the value of num2 before swapping: 3\n",
            "the value of num1 after swapping: 3\n",
            "the value of num2 after swapping: 2\n"
          ]
        }
      ]
    },
    {
      "cell_type": "code",
      "source": [
        "#prime or not\n",
        "num =6\n",
        "count=0\n",
        "if num>1:\n",
        "  for i in range(1,num+1):\n",
        "       if(num%i)==0:\n",
        "        count=count+1\n",
        "  if count ==2:\n",
        "    print(\"number is prime\")\n",
        "  else:\n",
        "    print(\"number is not prime\")"
      ],
      "metadata": {
        "colab": {
          "base_uri": "https://localhost:8080/"
        },
        "id": "rOycZ0SVqG9y",
        "outputId": "f684aa61-de9a-4087-855c-883e7a554c28"
      },
      "execution_count": null,
      "outputs": [
        {
          "output_type": "stream",
          "name": "stdout",
          "text": [
            "number is not prime\n"
          ]
        }
      ]
    },
    {
      "cell_type": "code",
      "source": [
        "factorial=1\n",
        "num=9\n",
        "if num<0:\n",
        "  print(\"factorial doesnot exist for negative numbers\")\n",
        "elif num==0:\n",
        "  print(\"the factorial of 0 is 1\")\n",
        "else:\n",
        "  for i in range(1,num+1):\n",
        "    factorial=factorial * i\n",
        "    print(\"the factorial of\",num,\"is\",factorial)\n"
      ],
      "metadata": {
        "id": "ZtwNJroiuoGP",
        "colab": {
          "base_uri": "https://localhost:8080/"
        },
        "outputId": "3fbc66c8-b0cf-46ef-a36d-7af722b625d6"
      },
      "execution_count": null,
      "outputs": [
        {
          "output_type": "stream",
          "name": "stdout",
          "text": [
            "the factorial of 9 is 1\n",
            "the factorial of 9 is 2\n",
            "the factorial of 9 is 6\n",
            "the factorial of 9 is 24\n",
            "the factorial of 9 is 120\n",
            "the factorial of 9 is 720\n",
            "the factorial of 9 is 5040\n",
            "the factorial of 9 is 40320\n",
            "the factorial of 9 is 362880\n"
          ]
        }
      ]
    },
    {
      "cell_type": "code",
      "source": [
        "def factorial(n):\n",
        "  if (n==0 or n==1):\n",
        "     return 1\n",
        "  else:\n",
        "    return n*factorial(n-1)\n",
        "num=5\n",
        "print(\"factorial of a \",num,\"is\",factorial(num))"
      ],
      "metadata": {
        "colab": {
          "base_uri": "https://localhost:8080/"
        },
        "id": "MFzKSSjA5wWK",
        "outputId": "8ac17860-e2ad-4343-fd7b-2c8471d75ea9"
      },
      "execution_count": null,
      "outputs": [
        {
          "output_type": "stream",
          "name": "stdout",
          "text": [
            "factorial of a  5 is 120\n"
          ]
        }
      ]
    },
    {
      "cell_type": "code",
      "source": [
        "##fibonacci series\n",
        "n1=0\n",
        "n2=1\n",
        "print(n1)\n",
        "print(n2)\n",
        "for i in range(2,10):\n",
        "  sum=n1+n2\n",
        "  print(sum)\n",
        "  n1=n2\n",
        "  n2=sum"
      ],
      "metadata": {
        "colab": {
          "base_uri": "https://localhost:8080/"
        },
        "id": "ID7peHo_8Mfh",
        "outputId": "a896bb3b-9e57-4540-e3c9-a5dc9204ea28"
      },
      "execution_count": null,
      "outputs": [
        {
          "output_type": "stream",
          "name": "stdout",
          "text": [
            "0\n",
            "1\n",
            "1\n",
            "2\n",
            "3\n",
            "5\n",
            "8\n",
            "13\n",
            "21\n",
            "34\n"
          ]
        }
      ]
    },
    {
      "cell_type": "code",
      "source": [
        "##sum of elements in array\n",
        "arr=[1,2,3,4,5]\n",
        "print(sum(arr))\n",
        "print(sum(arr,-10))"
      ],
      "metadata": {
        "colab": {
          "base_uri": "https://localhost:8080/",
          "height": 217
        },
        "id": "1MGTWZR-_53I",
        "outputId": "8d569efd-c071-450e-c8a3-400bea30bb5f"
      },
      "execution_count": null,
      "outputs": [
        {
          "output_type": "error",
          "ename": "TypeError",
          "evalue": "ignored",
          "traceback": [
            "\u001b[0;31m---------------------------------------------------------------------------\u001b[0m",
            "\u001b[0;31mTypeError\u001b[0m                                 Traceback (most recent call last)",
            "\u001b[0;32m<ipython-input-14-eff45256fc0e>\u001b[0m in \u001b[0;36m<module>\u001b[0;34m\u001b[0m\n\u001b[1;32m      1\u001b[0m \u001b[0;31m##sum of elements in array\u001b[0m\u001b[0;34m\u001b[0m\u001b[0;34m\u001b[0m\u001b[0;34m\u001b[0m\u001b[0m\n\u001b[1;32m      2\u001b[0m \u001b[0marr\u001b[0m\u001b[0;34m=\u001b[0m\u001b[0;34m[\u001b[0m\u001b[0;36m1\u001b[0m\u001b[0;34m,\u001b[0m\u001b[0;36m2\u001b[0m\u001b[0;34m,\u001b[0m\u001b[0;36m3\u001b[0m\u001b[0;34m,\u001b[0m\u001b[0;36m4\u001b[0m\u001b[0;34m,\u001b[0m\u001b[0;36m5\u001b[0m\u001b[0;34m]\u001b[0m\u001b[0;34m\u001b[0m\u001b[0;34m\u001b[0m\u001b[0m\n\u001b[0;32m----> 3\u001b[0;31m \u001b[0mprint\u001b[0m\u001b[0;34m(\u001b[0m\u001b[0msum\u001b[0m\u001b[0;34m(\u001b[0m\u001b[0marr\u001b[0m\u001b[0;34m)\u001b[0m\u001b[0;34m)\u001b[0m\u001b[0;34m\u001b[0m\u001b[0;34m\u001b[0m\u001b[0m\n\u001b[0m\u001b[1;32m      4\u001b[0m \u001b[0mprint\u001b[0m\u001b[0;34m(\u001b[0m\u001b[0msum\u001b[0m\u001b[0;34m(\u001b[0m\u001b[0marr\u001b[0m\u001b[0;34m,\u001b[0m\u001b[0;34m-\u001b[0m\u001b[0;36m10\u001b[0m\u001b[0;34m)\u001b[0m\u001b[0;34m)\u001b[0m\u001b[0;34m\u001b[0m\u001b[0;34m\u001b[0m\u001b[0m\n",
            "\u001b[0;31mTypeError\u001b[0m: 'int' object is not callable"
          ]
        }
      ]
    },
    {
      "cell_type": "markdown",
      "source": [],
      "metadata": {
        "id": "EgiKrA0GLIIp"
      }
    },
    {
      "cell_type": "code",
      "source": [
        "##number pattern flodys triangle\n",
        "n=int(input(\"number of rows\"))\n",
        "k=0\n",
        "for i in range(n):\n",
        "  k=k+i\n",
        "m=n+k\n",
        "for i in range(n):\n",
        "  for j in range(i+1): ##for right triangle\n",
        "     print(format(m,\"<3\" ),end=\" \")\n",
        "     m=m-1\n",
        "  print()\n",
        "\n",
        "\n",
        "         \n"
      ],
      "metadata": {
        "colab": {
          "base_uri": "https://localhost:8080/"
        },
        "id": "4L0GAACjAqi1",
        "outputId": "66128b1f-b1c0-45e5-ea47-9841817eb1d7"
      },
      "execution_count": null,
      "outputs": [
        {
          "output_type": "stream",
          "name": "stdout",
          "text": [
            "number of rows12\n",
            "78  \n",
            "77  76  \n",
            "75  74  73  \n",
            "72  71  70  69  \n",
            "68  67  66  65  64  \n",
            "63  62  61  60  59  58  \n",
            "57  56  55  54  53  52  51  \n",
            "50  49  48  47  46  45  44  43  \n",
            "42  41  40  39  38  37  36  35  34  \n",
            "33  32  31  30  29  28  27  26  25  24  \n",
            "23  22  21  20  19  18  17  16  15  14  13  \n",
            "12  11  10  9   8   7   6   5   4   3   2   1   \n"
          ]
        }
      ]
    },
    {
      "cell_type": "code",
      "source": [
        "num=int(input(\"enter an integer number:\"))\n",
        "\n"
      ],
      "metadata": {
        "id": "Jz5ZtzxTLuyf"
      },
      "execution_count": null,
      "outputs": []
    },
    {
      "cell_type": "code",
      "source": [
        "for i in range(0,11):\n",
        "  print(i)\n",
        "  print(\"hello\",end=\" \");\n",
        "  print(\"hi\")"
      ],
      "metadata": {
        "colab": {
          "base_uri": "https://localhost:8080/"
        },
        "id": "2LF4dQi2hfl1",
        "outputId": "562324bd-9110-4df0-ede1-7f735c13787c"
      },
      "execution_count": null,
      "outputs": [
        {
          "output_type": "stream",
          "name": "stdout",
          "text": [
            "0\n",
            "hello hi\n",
            "1\n",
            "hello hi\n",
            "2\n",
            "hello hi\n",
            "3\n",
            "hello hi\n",
            "4\n",
            "hello hi\n",
            "5\n",
            "hello hi\n",
            "6\n",
            "hello hi\n",
            "7\n",
            "hello hi\n",
            "8\n",
            "hello hi\n",
            "9\n",
            "hello hi\n",
            "10\n",
            "hello hi\n"
          ]
        }
      ]
    },
    {
      "cell_type": "code",
      "source": [
        "num=int(input(\"enter the no of rows:\"))\n",
        "for i in range(1,num+1):\n",
        "  for j in range(1,i+1):\n",
        "    print(\"*\",end=\"\")\n",
        "  print()\n"
      ],
      "metadata": {
        "colab": {
          "base_uri": "https://localhost:8080/"
        },
        "id": "1Tk-YS5dlOCp",
        "outputId": "66cf63c8-7537-4188-c5b5-cf68efccf4c6"
      },
      "execution_count": null,
      "outputs": [
        {
          "output_type": "stream",
          "name": "stdout",
          "text": [
            "enter the no of rows5\n",
            "*\n",
            "**\n",
            "***\n",
            "****\n",
            "*****\n"
          ]
        }
      ]
    },
    {
      "cell_type": "code",
      "source": [
        "num=int(input(\"enter the no of rows:\"))\n",
        "k=1\n",
        "for i in range(1,num+1):\n",
        "  for j in range(1,i+1):\n",
        "    print(\"1\", end=\" \")\n",
        "    k=k+2\n",
        "  print()"
      ],
      "metadata": {
        "id": "YvyO1Oits1Fa",
        "colab": {
          "base_uri": "https://localhost:8080/"
        },
        "outputId": "a1ae3676-dd10-47f3-83f0-cfd8451879d9"
      },
      "execution_count": null,
      "outputs": [
        {
          "output_type": "stream",
          "name": "stdout",
          "text": [
            "enter the no of rows:3\n",
            "1 \n",
            "1 1 \n",
            "1 1 1 \n"
          ]
        }
      ]
    },
    {
      "cell_type": "code",
      "source": [
        "num=int(input(\"enter the no of rows:\"))\n",
        "for i in range(0,num):\n",
        "    for j in range(0,num-i-1):\n",
        "       print(end=\"\")\n",
        "    for j in range(0,2*i+1):\n",
        "       print(\"*\",end=\"\")\n",
        "    print()"
      ],
      "metadata": {
        "colab": {
          "base_uri": "https://localhost:8080/"
        },
        "id": "yIvD641z-XcE",
        "outputId": "b19cb86a-638b-47e1-ccdb-4440869276c2"
      },
      "execution_count": null,
      "outputs": [
        {
          "output_type": "stream",
          "name": "stdout",
          "text": [
            "enter the no of rows:5\n",
            "*\n",
            "***\n",
            "*****\n",
            "*******\n",
            "*********\n"
          ]
        }
      ]
    },
    {
      "cell_type": "code",
      "source": [
        "def pyramid(rows):\n",
        "  for i in range(rows):\n",
        "    print(''*(rows-i-1)+'*'*(2*i+1))"
      ],
      "metadata": {
        "id": "V7cJvKT9BJ-y"
      },
      "execution_count": null,
      "outputs": []
    },
    {
      "cell_type": "code",
      "source": [
        "##reverse of pyramid shape\n",
        "num=int(input(\"enter the no of rows:\"))\n",
        "for i in range(num,0,-1):\n",
        "  for j in range(0,num-i):\n",
        "      print(end=\" \")\n",
        "  for j in range(0,i):\n",
        "      print(\"*\", end=\" \")\n",
        "  print()"
      ],
      "metadata": {
        "colab": {
          "base_uri": "https://localhost:8080/"
        },
        "id": "XAxhokpraCOs",
        "outputId": "5028ce26-97f3-47c6-9567-54840505687a"
      },
      "execution_count": null,
      "outputs": [
        {
          "output_type": "stream",
          "name": "stdout",
          "text": [
            "enter the no of rows:4\n",
            "* * * * \n",
            " * * * \n",
            "  * * \n",
            "   * \n"
          ]
        }
      ]
    },
    {
      "cell_type": "code",
      "source": [
        "##printing stars in diamond shape\n",
        "def pyramid(rows):\n",
        "  for i in range(rows):\n",
        "    print(''*(rows-i-1)+'*'*(i+1))\n",
        "  for j in range(rows-1,0,-1):\n",
        "    print(''*(rows-j)+'*'(j))"
      ],
      "metadata": {
        "colab": {
          "base_uri": "https://localhost:8080/"
        },
        "id": "QpfFjWTnmHgA",
        "outputId": "4af0f2f7-39c8-4a09-e827-c50385480921"
      },
      "execution_count": null,
      "outputs": [
        {
          "output_type": "stream",
          "name": "stderr",
          "text": [
            "<>:6: SyntaxWarning: 'str' object is not callable; perhaps you missed a comma?\n",
            "<>:6: SyntaxWarning: 'str' object is not callable; perhaps you missed a comma?\n",
            "<ipython-input-4-aff802a31785>:6: SyntaxWarning: 'str' object is not callable; perhaps you missed a comma?\n",
            "  print(''*(rows-j)+'*'(j))\n"
          ]
        }
      ]
    },
    {
      "cell_type": "code",
      "source": [
        "##rightangle triangle shape\n",
        "num=int(input(\"enter the number of rows:\"))\n",
        "for i in range(num,0,-1):\n",
        "  for j in range(0,i):\n",
        "    print(\"*\",end=\" \")\n",
        "  print()"
      ],
      "metadata": {
        "colab": {
          "base_uri": "https://localhost:8080/"
        },
        "id": "qILnX6MmsztW",
        "outputId": "199cfe5a-59fb-4d05-e41f-78aece4eca94"
      },
      "execution_count": null,
      "outputs": [
        {
          "output_type": "stream",
          "name": "stdout",
          "text": [
            "enter the number of rows:5\n",
            "* * * * * \n",
            "* * * * \n",
            "* * * \n",
            "* * \n",
            "* \n"
          ]
        }
      ]
    },
    {
      "cell_type": "code",
      "source": [
        "for row in range(7):\n",
        "  for col in range(5):\n",
        "    if ((col==0 or col==4) and row!=0) or ((row==0 or row==4) and(col>0 and col<4)):\n",
        "      print(\"*\",end=\"\")\n",
        "    else:\n",
        "      print(end=\" \")\n",
        "  print()   \n",
        "\n",
        "      \n",
        "    "
      ],
      "metadata": {
        "id": "O6fsMkA9vM9a",
        "colab": {
          "base_uri": "https://localhost:8080/"
        },
        "outputId": "3880e4bc-ffdd-49a5-82c0-2ffec13bf3c0"
      },
      "execution_count": null,
      "outputs": [
        {
          "output_type": "stream",
          "name": "stdout",
          "text": [
            " *** \n",
            "*   *\n",
            "*   *\n",
            "*   *\n",
            "*****\n",
            "*   *\n",
            "*   *\n"
          ]
        }
      ]
    },
    {
      "cell_type": "code",
      "source": [
        "for  row in range(7):\n",
        "  for col in range(5):\n",
        "     if(col==0 or col==4) or((row==0 or row==3 or row==6) and(col>0 and col<4)):\n",
        "       print(\"*\",end=\"\")\n",
        "     else:\n",
        "       print(end=\" \")\n",
        "  print()\n"
      ],
      "metadata": {
        "colab": {
          "base_uri": "https://localhost:8080/"
        },
        "id": "Vk65iuMq9bHR",
        "outputId": "65a99aad-2265-441c-c73b-18d9ad4631f4"
      },
      "execution_count": null,
      "outputs": [
        {
          "output_type": "stream",
          "name": "stdout",
          "text": [
            "*****\n",
            "*   *\n",
            "*   *\n",
            "*****\n",
            "*   *\n",
            "*   *\n",
            "*****\n"
          ]
        }
      ]
    },
    {
      "cell_type": "code",
      "source": [
        "for row in range(7):\n",
        "  for  col in range(5):\n",
        "    if (col==0) or ((row==0 or row==6)and(col>0)):\n",
        "      print(\"*\",end=\" \")\n",
        "    else:\n",
        "      print(end=\" \")\n",
        "  print()\n"
      ],
      "metadata": {
        "colab": {
          "base_uri": "https://localhost:8080/"
        },
        "id": "q_7xUmYjCE45",
        "outputId": "7d3244bf-ef22-4220-d9a2-34de1afcbdc4"
      },
      "execution_count": null,
      "outputs": [
        {
          "output_type": "stream",
          "name": "stdout",
          "text": [
            "* * * * * \n",
            "*     \n",
            "*     \n",
            "*     \n",
            "*     \n",
            "*     \n",
            "* * * * * \n"
          ]
        }
      ]
    },
    {
      "cell_type": "code",
      "source": [
        "for row in range(7):\n",
        "  for col in range(5):\n",
        "    if(col==0) or (col==4 and(row!=0 and row!=6)) or((row==0 or row==6) and(col>0 and col<4)):\n",
        "      print(\"*\",end=\"\")\n",
        "    else:\n",
        "      print(end=\" \")\n",
        "  print()"
      ],
      "metadata": {
        "colab": {
          "base_uri": "https://localhost:8080/"
        },
        "id": "JVPb9huuC4Tw",
        "outputId": "ceb85bfa-6ded-49f8-cad7-7f5f3b23a4e6"
      },
      "execution_count": null,
      "outputs": [
        {
          "output_type": "stream",
          "name": "stdout",
          "text": [
            "**** \n",
            "*   *\n",
            "*   *\n",
            "*   *\n",
            "*   *\n",
            "*   *\n",
            "**** \n"
          ]
        }
      ]
    },
    {
      "cell_type": "code",
      "source": [
        "for row in range(7):\n",
        "  for col in range(5):\n",
        "     if col==0 or ((row==0 or row==3 or row==6)and (col>0)):\n",
        "      print(\"*\",end=\"\")\n",
        "     else:\n",
        "       print(end=\" \")\n",
        "  print()"
      ],
      "metadata": {
        "colab": {
          "base_uri": "https://localhost:8080/"
        },
        "id": "sz787BHwHjzs",
        "outputId": "6c760c10-b17e-414e-a191-038a76698bfb"
      },
      "execution_count": null,
      "outputs": [
        {
          "output_type": "stream",
          "name": "stdout",
          "text": [
            "*****\n",
            "*    \n",
            "*    \n",
            "*****\n",
            "*    \n",
            "*    \n",
            "*****\n"
          ]
        }
      ]
    },
    {
      "cell_type": "code",
      "source": [
        "for row in range(7):\n",
        "  for col in range(5):\n",
        "     if (col==0) or((row==0 or row==3)and(col>0)):\n",
        "       print(\"*\",end=\"\")\n",
        "     else:\n",
        "      print(end=\" \")\n",
        "  print()"
      ],
      "metadata": {
        "colab": {
          "base_uri": "https://localhost:8080/"
        },
        "id": "NcvFBIkpPL6j",
        "outputId": "68c26b89-2080-41d2-cfde-ded0c19ee7e8"
      },
      "execution_count": null,
      "outputs": [
        {
          "output_type": "stream",
          "name": "stdout",
          "text": [
            "*****\n",
            "*    \n",
            "*    \n",
            "*****\n",
            "*    \n",
            "*    \n",
            "*    \n"
          ]
        }
      ]
    },
    {
      "cell_type": "code",
      "source": [
        "for row in range(7):\n",
        "  for col in range(6):\n",
        "      if col==0 or(col==4 and(row!=1 and row!=2)) or((row==0 or row==6) and (col>0  and col<4)) or(row==3 and (col==3 or col==5)):\n",
        "         print(\"*\",end=\"\")\n",
        "      else:\n",
        "         print(end=\" \")\n",
        "  print()\n",
        "\n",
        "      "
      ],
      "metadata": {
        "id": "tPD1WIjpQ_-f",
        "colab": {
          "base_uri": "https://localhost:8080/"
        },
        "outputId": "7fbc6228-0a93-4ec7-a7c2-ad58d41a5e22"
      },
      "execution_count": null,
      "outputs": [
        {
          "output_type": "stream",
          "name": "stdout",
          "text": [
            "***** \n",
            "*     \n",
            "*     \n",
            "*  ***\n",
            "*   * \n",
            "*   * \n",
            "***** \n"
          ]
        }
      ]
    },
    {
      "cell_type": "code",
      "source": [
        "for row in range(7):\n",
        "  for col in range(5):\n",
        "      if col==0 or col==4 or (row==3 and (col>0 and col<4)):\n",
        "        print(\"*\",end=\"\")\n",
        "      else:\n",
        "         print(end=\" \")\n",
        "  print()\n",
        "\n"
      ],
      "metadata": {
        "colab": {
          "base_uri": "https://localhost:8080/"
        },
        "id": "MOS9FWwwcj0O",
        "outputId": "6d36db06-4abd-44b8-f54f-c5a711eea909"
      },
      "execution_count": null,
      "outputs": [
        {
          "output_type": "stream",
          "name": "stdout",
          "text": [
            "*   *\n",
            "*   *\n",
            "*   *\n",
            "*****\n",
            "*   *\n",
            "*   *\n",
            "*   *\n"
          ]
        }
      ]
    },
    {
      "cell_type": "code",
      "source": [
        "for row in range(7):\n",
        "  for col in range(5):\n",
        "    if col==2 or((row==0 or row==6) and col!=2):\n",
        "      print(\"*\",end=\"\")\n",
        "    else:\n",
        "      print(end=\" \")\n",
        "  print()"
      ],
      "metadata": {
        "colab": {
          "base_uri": "https://localhost:8080/"
        },
        "id": "1Q7kKiBBgLsc",
        "outputId": "57290f17-834e-400b-9d67-fc9fa7d0e4c7"
      },
      "execution_count": null,
      "outputs": [
        {
          "output_type": "stream",
          "name": "stdout",
          "text": [
            "*****\n",
            "  *  \n",
            "  *  \n",
            "  *  \n",
            "  *  \n",
            "  *  \n",
            "*****\n"
          ]
        }
      ]
    },
    {
      "cell_type": "code",
      "source": [
        "for row in range(7):\n",
        "   for col in range(5):\n",
        "     if col==2 or(row==0 and col!=2)or(row==6 and col<2):\n",
        "        print(\"*\",end=\" \")\n",
        "     else:\n",
        "        print(end=\" \")\n",
        "   print()\n"
      ],
      "metadata": {
        "colab": {
          "base_uri": "https://localhost:8080/"
        },
        "id": "3iua6Mw3hXcu",
        "outputId": "20249c09-6799-443d-875e-b3bfb8ac1f55"
      },
      "execution_count": null,
      "outputs": [
        {
          "output_type": "stream",
          "name": "stdout",
          "text": [
            "* * * * * \n",
            "  *   \n",
            "  *   \n",
            "  *   \n",
            "  *   \n",
            "  *   \n",
            "* * *   \n"
          ]
        }
      ]
    },
    {
      "cell_type": "code",
      "source": [
        "i=0\n",
        "j=4\n",
        "for row in range(7):\n",
        "  for col in range(5):\n",
        "     if col==0 or (row==col+2 and col>1):\n",
        "       print(\"*\",end=\"\")\n",
        "     elif ((row==i and col==j) and col>0):\n",
        "       print(\"*\",end=\"\")\n",
        "       i=i+1\n",
        "       j=j-1\n",
        "     else:\n",
        "       print(end=\" \")\n",
        "  print()"
      ],
      "metadata": {
        "colab": {
          "base_uri": "https://localhost:8080/"
        },
        "id": "RgkBupPTh7RH",
        "outputId": "de5722d5-f19b-409d-f437-3ea7706877af"
      },
      "execution_count": null,
      "outputs": [
        {
          "output_type": "stream",
          "name": "stdout",
          "text": [
            "*   *\n",
            "*  * \n",
            "* *  \n",
            "**   \n",
            "* *  \n",
            "*  * \n",
            "*   *\n"
          ]
        }
      ]
    },
    {
      "cell_type": "code",
      "source": [
        "for row in range(7):\n",
        "  for col in range(5):\n",
        "    if col==0 or (row==6 and col>0):\n",
        "      print(\"*\",end=\"\")\n",
        "    else:\n",
        "      print(end=\" \")\n",
        "  print()"
      ],
      "metadata": {
        "colab": {
          "base_uri": "https://localhost:8080/"
        },
        "id": "4HQYT8uupC71",
        "outputId": "767c94a5-403d-49d8-e5e7-4e0421e60552"
      },
      "execution_count": null,
      "outputs": [
        {
          "output_type": "stream",
          "name": "stdout",
          "text": [
            "*    \n",
            "*    \n",
            "*    \n",
            "*    \n",
            "*    \n",
            "*    \n",
            "*****\n"
          ]
        }
      ]
    },
    {
      "cell_type": "code",
      "source": [
        "for rows in range(7):\n",
        "  for col in range(7):\n",
        "    if col==0 or col==6  or((row==col) and(col>0 and col<4)) or (row==1 and col==5)or (row==2 and col==4):\n",
        "       print(\"*\",end=\"\")\n",
        "    else:\n",
        "       print(end=\" \")\n",
        "  print()"
      ],
      "metadata": {
        "colab": {
          "base_uri": "https://localhost:8080/"
        },
        "id": "49O4xfxsqM8a",
        "outputId": "0e705d3b-e772-45ee-8146-c386baf0aeb0"
      },
      "execution_count": null,
      "outputs": [
        {
          "output_type": "stream",
          "name": "stdout",
          "text": [
            "*     *\n",
            "*     *\n",
            "*     *\n",
            "*     *\n",
            "*     *\n",
            "*     *\n",
            "*     *\n"
          ]
        }
      ]
    },
    {
      "cell_type": "code",
      "source": [
        "for row in range(6):\n",
        "  for col in range(6):\n",
        "     if col==0 or col==5 or (row==col and (col>0 and col<5)):\n",
        "        print(\"*\",end=\" \")\n",
        "     else:\n",
        "        print(end=\" \")\n",
        "  print()"
      ],
      "metadata": {
        "colab": {
          "base_uri": "https://localhost:8080/"
        },
        "id": "lEFVa_dcte8T",
        "outputId": "ffb8b2f9-2a82-4b14-a8af-a0edaa33f72f"
      },
      "execution_count": null,
      "outputs": [
        {
          "output_type": "stream",
          "name": "stdout",
          "text": [
            "*     * \n",
            "* *    * \n",
            "*  *   * \n",
            "*   *  * \n",
            "*    * * \n",
            "*     * \n"
          ]
        }
      ]
    },
    {
      "cell_type": "code",
      "source": [
        "for row in range(7):\n",
        "   for col in range(5):\n",
        "      if ((col==0 or col ==4) and (row!=0 and row!=6))or((row==0 or row==6) and (col>0 and col<4)):\n",
        "          print(\"*\",end=\"\")\n",
        "      else:\n",
        "          print(end=\" \")\n",
        "   print()"
      ],
      "metadata": {
        "id": "d5RdiUwrvQtD",
        "colab": {
          "base_uri": "https://localhost:8080/"
        },
        "outputId": "af8988be-ca4a-4f1d-c4ba-f4ec3fbeb1f5"
      },
      "execution_count": null,
      "outputs": [
        {
          "output_type": "stream",
          "name": "stdout",
          "text": [
            " *** \n",
            "*   *\n",
            "*   *\n",
            "*   *\n",
            "*   *\n",
            "*   *\n",
            " *** \n"
          ]
        }
      ]
    },
    {
      "cell_type": "code",
      "source": [
        "for row in range(7):\n",
        "  for col in range(5):\n",
        "    if col==0 or (col==4 and(row==1 or row==2))or((row==0 or row==3)and(col>0 and col<4)):\n",
        "      print(\"*\",end=\"\")\n",
        "    else:\n",
        "      print(end=\" \")\n",
        "  print()\n"
      ],
      "metadata": {
        "colab": {
          "base_uri": "https://localhost:8080/"
        },
        "id": "Z9-M5kng4N_e",
        "outputId": "fada1751-a3a6-4715-86a2-d2bb1b716738"
      },
      "execution_count": null,
      "outputs": [
        {
          "output_type": "stream",
          "name": "stdout",
          "text": [
            "**** \n",
            "*   *\n",
            "*   *\n",
            "**** \n",
            "*    \n",
            "*    \n",
            "*    \n"
          ]
        }
      ]
    },
    {
      "cell_type": "code",
      "source": [
        "for row in range(8):\n",
        "   for col in range(5):\n",
        "     if ((col==0 or col==4 )and (row>0 and row<6))or((row==0 or row==6)and (col>0 and col<4))or (row==5 and col==1)or(row==7 or col==3):\n",
        "       print(\"*\",end=\" \")\n",
        "     else:\n",
        "       print(end=\" \")\n",
        "   print()"
      ],
      "metadata": {
        "colab": {
          "base_uri": "https://localhost:8080/"
        },
        "id": "moN62HE26Sny",
        "outputId": "2b1f4a92-28e2-4e71-f62a-ac27b93a9afc"
      },
      "execution_count": null,
      "outputs": [
        {
          "output_type": "stream",
          "name": "stdout",
          "text": [
            " * * *  \n",
            "*   * * \n",
            "*   * * \n",
            "*   * * \n",
            "*   * * \n",
            "* *  * * \n",
            " * * *  \n",
            "* * * * * \n"
          ]
        }
      ]
    },
    {
      "cell_type": "code",
      "source": [
        "for row in range(7):\n",
        "  for col in range(5):\n",
        "    if col==0 or(col==4 and(row!=0 and row!=3))or((row==0 or row==3) and(col>0 and col<4)):\n",
        "      print(\"*\",end=\"\") \n",
        "    else:\n",
        "      print(end=\" \")\n",
        "  print()"
      ],
      "metadata": {
        "colab": {
          "base_uri": "https://localhost:8080/"
        },
        "id": "GOGNH6EC826D",
        "outputId": "804d07e1-e130-471f-a73c-d92bfdee29ad"
      },
      "execution_count": null,
      "outputs": [
        {
          "output_type": "stream",
          "name": "stdout",
          "text": [
            "**** \n",
            "*   *\n",
            "*   *\n",
            "**** \n",
            "*   *\n",
            "*   *\n",
            "*   *\n"
          ]
        }
      ]
    },
    {
      "cell_type": "code",
      "source": [
        "for row in range(7):\n",
        "  for col in range(5):\n",
        "    if ((row==0 or row==3 or row==6 )and(col>0 and col<4))or (col==0 and (row>0 and row<3)) or (col==4 and (row>3 and row<6)):\n",
        "        print(\"*\",end=\" \")\n",
        "    else:\n",
        "        print(end=\" \") \n",
        "  print() "
      ],
      "metadata": {
        "colab": {
          "base_uri": "https://localhost:8080/"
        },
        "id": "7LlwP4qFAxGW",
        "outputId": "652c195d-c196-4a4d-ca43-978c5b882bf1"
      },
      "execution_count": null,
      "outputs": [
        {
          "output_type": "stream",
          "name": "stdout",
          "text": [
            " * * *  \n",
            "*     \n",
            "*     \n",
            " * * *  \n",
            "    * \n",
            "    * \n",
            " * * *  \n"
          ]
        }
      ]
    },
    {
      "cell_type": "code",
      "source": [
        "for row in range(7):\n",
        "  for col in range(5):\n",
        "    if col==2 or(row==0 and col!=2):\n",
        "      print(\"*\",end=\"\")\n",
        "    else:\n",
        "      print(end=\" \")\n",
        "  print()  ##next line\n"
      ],
      "metadata": {
        "colab": {
          "base_uri": "https://localhost:8080/"
        },
        "id": "nW1SuCu6F_te",
        "outputId": "77ad33c3-737e-464c-afc4-bfe40c1f3ec1"
      },
      "execution_count": null,
      "outputs": [
        {
          "output_type": "stream",
          "name": "stdout",
          "text": [
            "*****\n",
            "  *  \n",
            "  *  \n",
            "  *  \n",
            "  *  \n",
            "  *  \n",
            "  *  \n"
          ]
        }
      ]
    },
    {
      "cell_type": "code",
      "source": [
        "for  row in range(7):\n",
        "  for col in range(5):\n",
        "    if ((col==0 or col==4)and row!=6) or  (row==6 and(col>0 and col<4)):\n",
        "      print(\"*\",end=\"\")\n",
        "    else:\n",
        "      print(end=\" \")\n",
        "  print()"
      ],
      "metadata": {
        "colab": {
          "base_uri": "https://localhost:8080/"
        },
        "id": "7YFOVgwfHVfY",
        "outputId": "23a2abf8-9baa-428c-c7d3-3fa8c1f2afef"
      },
      "execution_count": null,
      "outputs": [
        {
          "output_type": "stream",
          "name": "stdout",
          "text": [
            "*   *\n",
            "*   *\n",
            "*   *\n",
            "*   *\n",
            "*   *\n",
            "*   *\n",
            " *** \n"
          ]
        }
      ]
    },
    {
      "cell_type": "code",
      "source": [
        "i=0\n",
        "j=6\n",
        "for row in range(4):\n",
        "   for col in range(7):\n",
        "       if   row==col:\n",
        "         print(\"*\",end=\"\")\n",
        "       elif row==i and col==j:\n",
        "         print(\"*\",end=\"\")\n",
        "         i=i+1\n",
        "         j=j-1\n",
        "       else:\n",
        "         print(end=\" \")\n",
        "   print()"
      ],
      "metadata": {
        "colab": {
          "base_uri": "https://localhost:8080/"
        },
        "id": "mjPdYmlBzFfv",
        "outputId": "c65a5636-fc34-451d-acdc-8d242e4e77ec"
      },
      "execution_count": 6,
      "outputs": [
        {
          "output_type": "stream",
          "name": "stdout",
          "text": [
            "*     *\n",
            " *   * \n",
            "  * *  \n",
            "   *   \n"
          ]
        }
      ]
    },
    {
      "cell_type": "code",
      "source": [
        "i=0\n",
        "j=3\n",
        "for row in range(4):\n",
        "  for col in range(7):\n",
        "    if col==0 or col==6 or (col==5 and row==2) or (col==4 and row==1):\n",
        "      print(\"*\",end=\"\")\n",
        "    elif row==i and col==j:\n",
        "       print(\"*\",end=\"\")\n",
        "       i=i+1\n",
        "       j=j-1\n",
        "    else:\n",
        "      print(end=\" \")\n",
        "  print()\n"
      ],
      "metadata": {
        "colab": {
          "base_uri": "https://localhost:8080/"
        },
        "id": "2gC-KoH04PSE",
        "outputId": "0969ff9f-f4c0-4523-8be0-506abac6949c"
      },
      "execution_count": 9,
      "outputs": [
        {
          "output_type": "stream",
          "name": "stdout",
          "text": [
            "*  *  *\n",
            "* * * *\n",
            "**   **\n",
            "*     *\n"
          ]
        }
      ]
    },
    {
      "cell_type": "code",
      "source": [
        "i=0\n",
        "j=4\n",
        "for row in range(5):\n",
        "  for col in range(5):\n",
        "    if row==i and col==j:\n",
        "      print(\"*\",end=\"\")\n",
        "      i=i+1\n",
        "      j=j-1\n",
        "    elif row==col:\n",
        "      print(\"*\",end=\"\")\n",
        "    else:\n",
        "      print(end=\" \")\n",
        "  print()\n"
      ],
      "metadata": {
        "colab": {
          "base_uri": "https://localhost:8080/"
        },
        "id": "lIToCHbD7ItS",
        "outputId": "c57a6118-c84d-452c-daf6-bccce3d5f0a0"
      },
      "execution_count": 12,
      "outputs": [
        {
          "output_type": "stream",
          "name": "stdout",
          "text": [
            "*   *\n",
            " * * \n",
            "  *  \n",
            " * * \n",
            "*   *\n"
          ]
        }
      ]
    },
    {
      "cell_type": "code",
      "source": [
        "for row in range(5):\n",
        "  for col in range(5):\n",
        "    if (col==2 and row>1)or (row==col and col<2)or (row==0 and col==4)or(row==1 and col==3):\n",
        "      print(\"*\",end=\"\")\n",
        "    else:\n",
        "      print(end=\" \")\n",
        "  print()\n",
        "\n"
      ],
      "metadata": {
        "colab": {
          "base_uri": "https://localhost:8080/"
        },
        "id": "-Yb8zWDEAnIH",
        "outputId": "5c433dbd-2048-4266-8bb6-826c229dd86c"
      },
      "execution_count": 14,
      "outputs": [
        {
          "output_type": "stream",
          "name": "stdout",
          "text": [
            "*   *\n",
            " * * \n",
            "  *  \n",
            "  *  \n",
            "  *  \n"
          ]
        }
      ]
    },
    {
      "cell_type": "code",
      "source": [
        "i=1\n",
        "j=4\n",
        "for row in range(0,6):\n",
        "  for col in range(0,6):\n",
        "      if row==0 or row==5:\n",
        "         print(\"*\",end=\"\")\n",
        "      elif row==i and col==j:\n",
        "         print(\"*\",end=\"\")\n",
        "         i=i+1\n",
        "         j=j-1\n",
        "      else:\n",
        "         print(end=\" \")\n",
        "  print()"
      ],
      "metadata": {
        "colab": {
          "base_uri": "https://localhost:8080/"
        },
        "id": "C0u0O7S_C9wt",
        "outputId": "5752e8ff-d6f6-4fae-d26f-0e7397db3767"
      },
      "execution_count": 19,
      "outputs": [
        {
          "output_type": "stream",
          "name": "stdout",
          "text": [
            "******\n",
            "    * \n",
            "   *  \n",
            "  *   \n",
            " *    \n",
            "******\n"
          ]
        }
      ]
    }
  ]
}