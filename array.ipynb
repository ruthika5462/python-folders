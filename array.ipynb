{
  "nbformat": 4,
  "nbformat_minor": 0,
  "metadata": {
    "colab": {
      "provenance": [],
      "authorship_tag": "ABX9TyPwIkrmdlU/VICsWgURbBHn",
      "include_colab_link": true
    },
    "kernelspec": {
      "name": "python3",
      "display_name": "Python 3"
    },
    "language_info": {
      "name": "python"
    }
  },
  "cells": [
    {
      "cell_type": "markdown",
      "metadata": {
        "id": "view-in-github",
        "colab_type": "text"
      },
      "source": [
        "<a href=\"https://colab.research.google.com/github/ruthika5462/python-folders/blob/main/array.ipynb\" target=\"_parent\"><img src=\"https://colab.research.google.com/assets/colab-badge.svg\" alt=\"Open In Colab\"/></a>"
      ]
    },
    {
      "cell_type": "code",
      "execution_count": null,
      "metadata": {
        "colab": {
          "base_uri": "https://localhost:8080/"
        },
        "id": "tpRSpo116Oa8",
        "outputId": "b7b374c4-bb85-4b66-86b8-15afd2026605"
      },
      "outputs": [
        {
          "output_type": "stream",
          "name": "stdout",
          "text": [
            "enter a digit7\n",
            "the number of digits in the number are: 1\n"
          ]
        }
      ],
      "source": [
        "##count the number of digitts in a number\n",
        "n=int(input(\"enter a digit\"))\n",
        "count=0\n",
        "while(n>0):\n",
        "  count=count+1\n",
        "  n=n//10     ##it is a floor division\n",
        "print(\"the number of digits in the number are:\",count)\n"
      ]
    },
    {
      "cell_type": "code",
      "source": [
        "##python array module\n",
        "import array as myarray\n",
        "##creating an array\n",
        "arr=myarray.array('i',[1,2,3])\n",
        "arr1=myarray.array('d',[1.0,2.1,2.4,2.5,2.6])\n",
        "arr2=myarray.array('u',['a','b','c'])\n",
        "##type codes\n",
        "print(arr.typecode)\n",
        "print(arr1.typecode)\n",
        "print(arr2.typecode)\n",
        "#first lloking at the array\n",
        "print(arr)\n",
        "print(arr1)\n",
        "print(arr2)"
      ],
      "metadata": {
        "id": "uPAG1WL4CSum",
        "colab": {
          "base_uri": "https://localhost:8080/"
        },
        "outputId": "c8858109-7193-4d40-a2c8-2167ffca3b6b"
      },
      "execution_count": null,
      "outputs": [
        {
          "output_type": "stream",
          "name": "stdout",
          "text": [
            "i\n",
            "d\n",
            "u\n",
            "array('i', [1, 2, 3])\n",
            "array('d', [1.0, 2.1, 2.4, 2.5, 2.6])\n",
            "array('u', 'abc')\n"
          ]
        }
      ]
    },
    {
      "cell_type": "code",
      "source": [
        "##printing length of an array\n",
        "print(len(arr))\n",
        "print(len(arr1))\n",
        "print(len(arr2))"
      ],
      "metadata": {
        "colab": {
          "base_uri": "https://localhost:8080/"
        },
        "id": "J89lWYzeT4Lh",
        "outputId": "028ee3ed-4b86-42ef-81eb-c2fd595a800b"
      },
      "execution_count": null,
      "outputs": [
        {
          "output_type": "stream",
          "name": "stdout",
          "text": [
            "3\n",
            "5\n",
            "3\n"
          ]
        }
      ]
    },
    {
      "cell_type": "code",
      "source": [
        "for i in range (0,len(arr)):\n",
        "  print(arr[i],end=\"\")\n",
        "print(\"\\n\")\n",
        "for i in range(0,len(arr1)):\n",
        "  print(arr1[i],end=\"\")\n",
        "for i in range(0,len(arr2)):\n",
        "  print(arr2[i],end=\"\")"
      ],
      "metadata": {
        "colab": {
          "base_uri": "https://localhost:8080/"
        },
        "id": "c3zg-KDpUFY7",
        "outputId": "eb0427be-08c1-4fec-be72-90414822accc"
      },
      "execution_count": null,
      "outputs": [
        {
          "output_type": "stream",
          "name": "stdout",
          "text": [
            "123\n",
            "\n",
            "1.02.12.42.52.6abc"
          ]
        }
      ]
    },
    {
      "cell_type": "code",
      "source": [
        "##acessing elems from an array using index value\n",
        "x=list(range(1,100,2))\n",
        "new_array = myarray.array('i',x)\n",
        "##printing an array\n",
        "for i in range(0,len(new_array)):\n",
        "  print(new_array[i],end=\"\")\n",
        "print(\"/n\")\n",
        "##accesing the element at index \"25\"\n",
        "print(new_array[25])"
      ],
      "metadata": {
        "colab": {
          "base_uri": "https://localhost:8080/"
        },
        "id": "QxJekczsVrzI",
        "outputId": "3b108be3-4f15-4cfe-ee3d-d820fd7cbf27"
      },
      "execution_count": null,
      "outputs": [
        {
          "output_type": "stream",
          "name": "stdout",
          "text": [
            "123456789101112131415161718192021222324252627282930313233343536373839404142434445464748495051525354555657585960616263646566676869707172737475767778798081828384858687888990919293949596979899/n\n",
            "26\n"
          ]
        }
      ]
    },
    {
      "cell_type": "code",
      "source": [],
      "metadata": {
        "id": "6Cmu7kCuQ6so",
        "colab": {
          "base_uri": "https://localhost:8080/",
          "height": 130
        },
        "outputId": "8395a624-2646-414b-b29f-ffad92b0c813"
      },
      "execution_count": null,
      "outputs": [
        {
          "output_type": "error",
          "ename": "SyntaxError",
          "evalue": "ignored",
          "traceback": [
            "\u001b[0;36m  File \u001b[0;32m\"<ipython-input-3-cb61eb004edd>\"\u001b[0;36m, line \u001b[0;32m3\u001b[0m\n\u001b[0;31m    return i\u001b[0m\n\u001b[0m    ^\u001b[0m\n\u001b[0;31mSyntaxError\u001b[0m\u001b[0;31m:\u001b[0m 'return' outside function\n"
          ]
        }
      ]
    },
    {
      "cell_type": "code",
      "source": [
        "import array\n",
        "a=array.array('i',[1,2,3,3,5,6])\n",
        "a"
      ],
      "metadata": {
        "colab": {
          "base_uri": "https://localhost:8080/"
        },
        "id": "ufGziL468jCy",
        "outputId": "75a02364-5f33-47ba-8769-a523d8127e16"
      },
      "execution_count": 2,
      "outputs": [
        {
          "output_type": "execute_result",
          "data": {
            "text/plain": [
              "array('i', [1, 2, 3, 3, 5, 6])"
            ]
          },
          "metadata": {},
          "execution_count": 2
        }
      ]
    },
    {
      "cell_type": "code",
      "source": [
        "import array as arr\n",
        "a=arr.array('i',[1,2,3,4,5])\n",
        "a"
      ],
      "metadata": {
        "colab": {
          "base_uri": "https://localhost:8080/"
        },
        "id": "GPoQc7KI_Skd",
        "outputId": "7760daa5-9bfa-4720-8b40-fde87e2d6486"
      },
      "execution_count": 4,
      "outputs": [
        {
          "output_type": "execute_result",
          "data": {
            "text/plain": [
              "array('i', [1, 2, 3, 4, 5])"
            ]
          },
          "metadata": {},
          "execution_count": 4
        }
      ]
    },
    {
      "cell_type": "code",
      "source": [
        "from array  import*\n",
        "\n"
      ],
      "metadata": {
        "id": "px6SHOdd_mml"
      },
      "execution_count": null,
      "outputs": []
    },
    {
      "cell_type": "code",
      "source": [
        "##accesing array elements\n",
        "a[2]\n",
        "a[-1]\n"
      ],
      "metadata": {
        "colab": {
          "base_uri": "https://localhost:8080/"
        },
        "id": "iWSKEY-R_0cs",
        "outputId": "04f05e72-e5bf-4345-bbef-195db565ed3c"
      },
      "execution_count": 6,
      "outputs": [
        {
          "output_type": "execute_result",
          "data": {
            "text/plain": [
              "5"
            ]
          },
          "metadata": {},
          "execution_count": 6
        }
      ]
    },
    {
      "cell_type": "code",
      "source": [
        "##basic array operations\n",
        "import array as arr\n",
        "a=arr.array('d',[1.1,2.1,3.1])\n",
        "len(a)"
      ],
      "metadata": {
        "colab": {
          "base_uri": "https://localhost:8080/"
        },
        "id": "CLddtxreAbYd",
        "outputId": "5634835f-9b8c-40b4-a16d-746b5941d2f1"
      },
      "execution_count": 7,
      "outputs": [
        {
          "output_type": "execute_result",
          "data": {
            "text/plain": [
              "3"
            ]
          },
          "metadata": {},
          "execution_count": 7
        }
      ]
    },
    {
      "cell_type": "code",
      "source": [
        "##adding elements in a arrray\n",
        "import array as arr\n",
        "a=arr.array('d',[1.1,2.1,3.1])\n",
        "a.append(3.4)\n",
        "print(\"array a=\",a)\n",
        "b=arr.array('d',[5,6,7,8])\n",
        "b.extend([6,4,3,2])\n",
        "print(\"array b=\",b)\n",
        "c=arr.array('d',[4,5,6,7])\n",
        "c.insert(2,3)\n",
        "print(\"arrays=\",c)"
      ],
      "metadata": {
        "colab": {
          "base_uri": "https://localhost:8080/"
        },
        "id": "xBdFuSiIA2WD",
        "outputId": "66a1c73e-7b4f-446e-fd4f-07a82fc4c68e"
      },
      "execution_count": 14,
      "outputs": [
        {
          "output_type": "stream",
          "name": "stdout",
          "text": [
            "array a= array('d', [1.1, 2.1, 3.1, 3.4])\n",
            "array b= array('d', [5.0, 6.0, 7.0, 8.0, 6.0, 4.0, 3.0, 2.0])\n",
            "arrays= array('d', [4.0, 5.0, 3.0, 6.0, 7.0])\n"
          ]
        }
      ]
    },
    {
      "cell_type": "code",
      "source": [
        "##removing elements of an array\n",
        "import array as arr\n",
        "a=arr.array('d',[1.1,2.3,4.5,3.1,7])\n",
        "print(\"popping last element\",a.pop())\n",
        "print(\"poppig 4 th element\",a.pop(3))\n",
        "a.remove(1.1)\n",
        "print(a)"
      ],
      "metadata": {
        "colab": {
          "base_uri": "https://localhost:8080/"
        },
        "id": "X392gavDC_0E",
        "outputId": "d1086b30-2f70-4c20-a3f4-f8e9b7c18866"
      },
      "execution_count": 15,
      "outputs": [
        {
          "output_type": "stream",
          "name": "stdout",
          "text": [
            "popping last element 7.0\n",
            "poppig 4 th element 3.1\n",
            "array('d', [2.3, 4.5])\n"
          ]
        }
      ]
    },
    {
      "cell_type": "code",
      "source": [
        "##array concatenation\n",
        "import array as arr\n",
        "a=arr.array('d',[1.1,2.1,3.1,2.6,7.8])\n",
        "b=arr.array('d',[3.7,8.6])\n",
        "c=arr.array('d')\n",
        "c=a+b\n",
        "print(\"array c=\",c)"
      ],
      "metadata": {
        "colab": {
          "base_uri": "https://localhost:8080/"
        },
        "id": "nwu39CQwEQqr",
        "outputId": "2940d478-426b-4702-8941-adc0262e5498"
      },
      "execution_count": 16,
      "outputs": [
        {
          "output_type": "stream",
          "name": "stdout",
          "text": [
            "array c= array('d', [1.1, 2.1, 3.1, 2.6, 7.8, 3.7, 8.6])\n"
          ]
        }
      ]
    },
    {
      "cell_type": "code",
      "source": [
        "##slicing an array\n",
        "import array as arr\n",
        "a=arr.array('d',[1.1,2.3,3.1,2.3,7.4])\n",
        "print(a[0:3])"
      ],
      "metadata": {
        "colab": {
          "base_uri": "https://localhost:8080/"
        },
        "id": "Go9X-HnpFMX7",
        "outputId": "fa12e127-4776-446e-b2ca-097a469f2524"
      },
      "execution_count": 17,
      "outputs": [
        {
          "output_type": "stream",
          "name": "stdout",
          "text": [
            "array('d', [1.1, 2.3, 3.1])\n"
          ]
        }
      ]
    },
    {
      "cell_type": "code",
      "source": [
        "##for loop\n",
        "import array as arr\n",
        "a=arr.array('d',[1.1,2,5,6,7])\n",
        "print(\"all values\")\n",
        "for x in a:\n",
        "  print(x)\n",
        "  for x in a[0:-3]:\n",
        "    print(x)"
      ],
      "metadata": {
        "colab": {
          "base_uri": "https://localhost:8080/"
        },
        "id": "CIjgOuRjGCAw",
        "outputId": "612d6681-586c-47d6-ae87-75f1ef127b89"
      },
      "execution_count": 21,
      "outputs": [
        {
          "output_type": "stream",
          "name": "stdout",
          "text": [
            "all values\n",
            "1.1\n",
            "1.1\n",
            "2.0\n",
            "2.0\n",
            "1.1\n",
            "2.0\n",
            "5.0\n",
            "1.1\n",
            "2.0\n",
            "6.0\n",
            "1.1\n",
            "2.0\n",
            "7.0\n",
            "1.1\n",
            "2.0\n"
          ]
        }
      ]
    },
    {
      "cell_type": "code",
      "source": [
        "##while loop\n",
        "import array as arr\n",
        "a=arr.array('d',[1.1,5,67,74,3,4])\n",
        "b=0\n",
        "while b<len(a):\n",
        "  print(a[b])\n",
        "  b=b+1"
      ],
      "metadata": {
        "colab": {
          "base_uri": "https://localhost:8080/"
        },
        "id": "b4B9EXp9GwQ4",
        "outputId": "179c7852-9d14-4145-ff4b-39897ff90d87"
      },
      "execution_count": 22,
      "outputs": [
        {
          "output_type": "stream",
          "name": "stdout",
          "text": [
            "1.1\n",
            "5.0\n",
            "67.0\n",
            "74.0\n",
            "3.0\n",
            "4.0\n"
          ]
        }
      ]
    },
    {
      "cell_type": "code",
      "source": [
        "temp=0\n",
        "while temp<a[2]:\n",
        "   print(a[temp])\n",
        "   temp=temp+1 "
      ],
      "metadata": {
        "colab": {
          "base_uri": "https://localhost:8080/",
          "height": 321
        },
        "id": "TUXAriKVHbAq",
        "outputId": "9c794bdb-ea51-46cc-cfe8-6b004045b8d4"
      },
      "execution_count": 24,
      "outputs": [
        {
          "output_type": "stream",
          "name": "stdout",
          "text": [
            "1.1\n",
            "5.0\n",
            "67.0\n",
            "74.0\n",
            "3.0\n",
            "4.0\n"
          ]
        },
        {
          "output_type": "error",
          "ename": "IndexError",
          "evalue": "ignored",
          "traceback": [
            "\u001b[0;31m---------------------------------------------------------------------------\u001b[0m",
            "\u001b[0;31mIndexError\u001b[0m                                Traceback (most recent call last)",
            "\u001b[0;32m<ipython-input-24-41a39afba3aa>\u001b[0m in \u001b[0;36m<module>\u001b[0;34m\u001b[0m\n\u001b[1;32m      1\u001b[0m \u001b[0mtemp\u001b[0m\u001b[0;34m=\u001b[0m\u001b[0;36m0\u001b[0m\u001b[0;34m\u001b[0m\u001b[0;34m\u001b[0m\u001b[0m\n\u001b[1;32m      2\u001b[0m \u001b[0;32mwhile\u001b[0m \u001b[0mtemp\u001b[0m\u001b[0;34m<\u001b[0m\u001b[0ma\u001b[0m\u001b[0;34m[\u001b[0m\u001b[0;36m2\u001b[0m\u001b[0;34m]\u001b[0m\u001b[0;34m:\u001b[0m\u001b[0;34m\u001b[0m\u001b[0;34m\u001b[0m\u001b[0m\n\u001b[0;32m----> 3\u001b[0;31m    \u001b[0mprint\u001b[0m\u001b[0;34m(\u001b[0m\u001b[0ma\u001b[0m\u001b[0;34m[\u001b[0m\u001b[0mtemp\u001b[0m\u001b[0;34m]\u001b[0m\u001b[0;34m)\u001b[0m\u001b[0;34m\u001b[0m\u001b[0;34m\u001b[0m\u001b[0m\n\u001b[0m\u001b[1;32m      4\u001b[0m    \u001b[0mtemp\u001b[0m\u001b[0;34m=\u001b[0m\u001b[0mtemp\u001b[0m\u001b[0;34m+\u001b[0m\u001b[0;36m1\u001b[0m\u001b[0;34m\u001b[0m\u001b[0;34m\u001b[0m\u001b[0m\n",
            "\u001b[0;31mIndexError\u001b[0m: array index out of range"
          ]
        }
      ]
    },
    {
      "cell_type": "code",
      "source": [
        "tem=0\n",
        "while tem<len(a):\n",
        "  print(a[tem])\n",
        "  tem+=1"
      ],
      "metadata": {
        "colab": {
          "base_uri": "https://localhost:8080/"
        },
        "id": "zXFNStcFH57f",
        "outputId": "bbe57fd1-db12-4774-fe23-2081aaa0fbd4"
      },
      "execution_count": 25,
      "outputs": [
        {
          "output_type": "stream",
          "name": "stdout",
          "text": [
            "1.1\n",
            "5.0\n",
            "67.0\n",
            "74.0\n",
            "3.0\n",
            "4.0\n"
          ]
        }
      ]
    },
    {
      "cell_type": "code",
      "source": [
        "from array import*\n",
        "vals=array('i',[5,9,8,4,2])\n",
        "print(vals.buffer_info())\n",
        "vals.reverse()\n",
        "print(vals)\n",
        "for i in range(5):\n",
        "     print(vals(i))"
      ],
      "metadata": {
        "colab": {
          "base_uri": "https://localhost:8080/",
          "height": 235
        },
        "id": "eG_fZSb-Ig3f",
        "outputId": "01f902dc-60e8-4c65-9952-582a816b1231"
      },
      "execution_count": 30,
      "outputs": [
        {
          "output_type": "stream",
          "name": "stdout",
          "text": [
            "(140289476857232, 5)\n",
            "array('i', [2, 4, 8, 9, 5])\n"
          ]
        },
        {
          "output_type": "error",
          "ename": "TypeError",
          "evalue": "ignored",
          "traceback": [
            "\u001b[0;31m---------------------------------------------------------------------------\u001b[0m",
            "\u001b[0;31mTypeError\u001b[0m                                 Traceback (most recent call last)",
            "\u001b[0;32m<ipython-input-30-747057595f1f>\u001b[0m in \u001b[0;36m<module>\u001b[0;34m\u001b[0m\n\u001b[1;32m      5\u001b[0m \u001b[0mprint\u001b[0m\u001b[0;34m(\u001b[0m\u001b[0mvals\u001b[0m\u001b[0;34m)\u001b[0m\u001b[0;34m\u001b[0m\u001b[0;34m\u001b[0m\u001b[0m\n\u001b[1;32m      6\u001b[0m \u001b[0;32mfor\u001b[0m \u001b[0mi\u001b[0m \u001b[0;32min\u001b[0m \u001b[0mrange\u001b[0m\u001b[0;34m(\u001b[0m\u001b[0;36m5\u001b[0m\u001b[0;34m)\u001b[0m\u001b[0;34m:\u001b[0m\u001b[0;34m\u001b[0m\u001b[0;34m\u001b[0m\u001b[0m\n\u001b[0;32m----> 7\u001b[0;31m      \u001b[0mprint\u001b[0m\u001b[0;34m(\u001b[0m\u001b[0mvals\u001b[0m\u001b[0;34m(\u001b[0m\u001b[0mi\u001b[0m\u001b[0;34m)\u001b[0m\u001b[0;34m)\u001b[0m\u001b[0;34m\u001b[0m\u001b[0;34m\u001b[0m\u001b[0m\n\u001b[0m",
            "\u001b[0;31mTypeError\u001b[0m: 'array.array' object is not callable"
          ]
        }
      ]
    },
    {
      "cell_type": "code",
      "source": [
        "from numpy import array\n",
        "arr = array([2,3,4,5])\n",
        "div=arr/2\n",
        "print(div)\n"
      ],
      "metadata": {
        "colab": {
          "base_uri": "https://localhost:8080/"
        },
        "id": "zvnM842INJ4G",
        "outputId": "4ed6bfbc-a08d-4ca2-c5bb-232f36eda6fd"
      },
      "execution_count": 31,
      "outputs": [
        {
          "output_type": "stream",
          "name": "stdout",
          "text": [
            "[1.  1.5 2.  2.5]\n"
          ]
        }
      ]
    },
    {
      "cell_type": "code",
      "source": [
        "from array import*\n",
        "nums=array(\"i\",[1,2,3,4,5])\n",
        "for i in nums:\n",
        "  print(i)\n",
        "  print(nums.typecode)\n",
        "  print(nums.count(1))"
      ],
      "metadata": {
        "colab": {
          "base_uri": "https://localhost:8080/"
        },
        "id": "nYVhZ0UGSBO4",
        "outputId": "d1343dbe-3254-47e9-a3b3-776e40e00140"
      },
      "execution_count": 36,
      "outputs": [
        {
          "output_type": "stream",
          "name": "stdout",
          "text": [
            "1\n",
            "i\n",
            "1\n",
            "2\n",
            "i\n",
            "1\n",
            "3\n",
            "i\n",
            "1\n",
            "4\n",
            "i\n",
            "1\n",
            "5\n",
            "i\n",
            "1\n"
          ]
        }
      ]
    },
    {
      "cell_type": "code",
      "source": [
        "from numpy import*\n",
        "arr1 = array([[1,2,3,6,2,9],[4,5,6,7,5,3]])\n",
        "print(arr1)\n",
        "print(arr1.dtype)\n",
        "print(arr1.ndim)\n",
        "print(arr1.shape)\n",
        "print(arr1.size)\n",
        "arr2 = arr1.flatten()\n",
        "print(arr2)\n",
        "arr3=arr2.reshape(2,2,3)\n",
        "print(arr3)\n",
        "\n",
        "\n",
        "\n",
        "\n"
      ],
      "metadata": {
        "colab": {
          "base_uri": "https://localhost:8080/"
        },
        "id": "MG2i9RCPSv9l",
        "outputId": "1d6848a4-f37d-4bf2-9f4c-5e92b7ad7cd7"
      },
      "execution_count": 46,
      "outputs": [
        {
          "output_type": "stream",
          "name": "stdout",
          "text": [
            "[[1 2 3 6 2 9]\n",
            " [4 5 6 7 5 3]]\n",
            "int64\n",
            "2\n",
            "(2, 6)\n",
            "12\n",
            "[1 2 3 6 2 9 4 5 6 7 5 3]\n",
            "[[[1 2 3]\n",
            "  [6 2 9]]\n",
            "\n",
            " [[4 5 6]\n",
            "  [7 5 3]]]\n"
          ]
        }
      ]
    },
    {
      "cell_type": "code",
      "source": [
        "from numpy import*\n",
        "m=matrix('1 2;3 6;4 5; 6 7')\n",
        "print(m)\n",
        "print(diagonal(m))\n",
        "print(m.max())"
      ],
      "metadata": {
        "colab": {
          "base_uri": "https://localhost:8080/"
        },
        "id": "HrY3yGf6gBVV",
        "outputId": "0ba810bd-5c83-4246-b1bb-9b447ae24930"
      },
      "execution_count": 51,
      "outputs": [
        {
          "output_type": "stream",
          "name": "stdout",
          "text": [
            "[[1 2]\n",
            " [3 6]\n",
            " [4 5]\n",
            " [6 7]]\n",
            "[1 6]\n",
            "7\n"
          ]
        }
      ]
    },
    {
      "cell_type": "code",
      "source": [
        "from numpy import*\n",
        "m1 = matrix('1 2 3; 6 4 5; 1 6 7')\n",
        "m2 = matrix('1 2 3;6 4 5; 2 6 7')\n",
        "m3=m1 * m2\n",
        "print(m3)"
      ],
      "metadata": {
        "colab": {
          "base_uri": "https://localhost:8080/"
        },
        "id": "R7tjHuzZg-4H",
        "outputId": "1e522512-dd47-40eb-d3c9-3557e3177a5a"
      },
      "execution_count": 54,
      "outputs": [
        {
          "output_type": "stream",
          "name": "stdout",
          "text": [
            "[[19 28 34]\n",
            " [40 58 73]\n",
            " [51 68 82]]\n"
          ]
        }
      ]
    },
    {
      "cell_type": "code",
      "source": [
        "import numpy as np\n",
        "a=np.array([[1,2],[3,4]])\n",
        "b=np.array([[10,20],[30,40]])\n",
        "a+b"
      ],
      "metadata": {
        "colab": {
          "base_uri": "https://localhost:8080/"
        },
        "id": "CxMu_BhSSTt-",
        "outputId": "3c07b917-267d-486f-ce9e-64a5d516a2fc"
      },
      "execution_count": 55,
      "outputs": [
        {
          "output_type": "execute_result",
          "data": {
            "text/plain": [
              "array([[11, 22],\n",
              "       [33, 44]])"
            ]
          },
          "metadata": {},
          "execution_count": 55
        }
      ]
    },
    {
      "cell_type": "code",
      "source": [
        "import numpy as np\n",
        "a=np.array([[10,20],[30,40]])\n",
        "b=np.array([[1,2],[3,4]])\n",
        "print(a*b)\n",
        "print(a.dot(b))\n",
        "print(help(np.dot))"
      ],
      "metadata": {
        "colab": {
          "base_uri": "https://localhost:8080/"
        },
        "id": "DDhTcdkUj8IO",
        "outputId": "80097878-dad5-434c-e8fc-c1dc011c5eb5"
      },
      "execution_count": 57,
      "outputs": [
        {
          "output_type": "stream",
          "name": "stdout",
          "text": [
            "[[ 10  40]\n",
            " [ 90 160]]\n",
            "[[ 70 100]\n",
            " [150 220]]\n",
            "Help on function dot in module numpy:\n",
            "\n",
            "dot(...)\n",
            "    dot(a, b, out=None)\n",
            "    \n",
            "    Dot product of two arrays. Specifically,\n",
            "    \n",
            "    - If both `a` and `b` are 1-D arrays, it is inner product of vectors\n",
            "      (without complex conjugation).\n",
            "    \n",
            "    - If both `a` and `b` are 2-D arrays, it is matrix multiplication,\n",
            "      but using :func:`matmul` or ``a @ b`` is preferred.\n",
            "    \n",
            "    - If either `a` or `b` is 0-D (scalar), it is equivalent to :func:`multiply`\n",
            "      and using ``numpy.multiply(a, b)`` or ``a * b`` is preferred.\n",
            "    \n",
            "    - If `a` is an N-D array and `b` is a 1-D array, it is a sum product over\n",
            "      the last axis of `a` and `b`.\n",
            "    \n",
            "    - If `a` is an N-D array and `b` is an M-D array (where ``M>=2``), it is a\n",
            "      sum product over the last axis of `a` and the second-to-last axis of `b`::\n",
            "    \n",
            "        dot(a, b)[i,j,k,m] = sum(a[i,j,:] * b[k,:,m])\n",
            "    \n",
            "    Parameters\n",
            "    ----------\n",
            "    a : array_like\n",
            "        First argument.\n",
            "    b : array_like\n",
            "        Second argument.\n",
            "    out : ndarray, optional\n",
            "        Output argument. This must have the exact kind that would be returned\n",
            "        if it was not used. In particular, it must have the right type, must be\n",
            "        C-contiguous, and its dtype must be the dtype that would be returned\n",
            "        for `dot(a,b)`. This is a performance feature. Therefore, if these\n",
            "        conditions are not met, an exception is raised, instead of attempting\n",
            "        to be flexible.\n",
            "    \n",
            "    Returns\n",
            "    -------\n",
            "    output : ndarray\n",
            "        Returns the dot product of `a` and `b`.  If `a` and `b` are both\n",
            "        scalars or both 1-D arrays then a scalar is returned; otherwise\n",
            "        an array is returned.\n",
            "        If `out` is given, then it is returned.\n",
            "    \n",
            "    Raises\n",
            "    ------\n",
            "    ValueError\n",
            "        If the last dimension of `a` is not the same size as\n",
            "        the second-to-last dimension of `b`.\n",
            "    \n",
            "    See Also\n",
            "    --------\n",
            "    vdot : Complex-conjugating dot product.\n",
            "    tensordot : Sum products over arbitrary axes.\n",
            "    einsum : Einstein summation convention.\n",
            "    matmul : '@' operator as method with out parameter.\n",
            "    linalg.multi_dot : Chained dot product.\n",
            "    \n",
            "    Examples\n",
            "    --------\n",
            "    >>> np.dot(3, 4)\n",
            "    12\n",
            "    \n",
            "    Neither argument is complex-conjugated:\n",
            "    \n",
            "    >>> np.dot([2j, 3j], [2j, 3j])\n",
            "    (-13+0j)\n",
            "    \n",
            "    For 2-D arrays it is the matrix product:\n",
            "    \n",
            "    >>> a = [[1, 0], [0, 1]]\n",
            "    >>> b = [[4, 1], [2, 2]]\n",
            "    >>> np.dot(a, b)\n",
            "    array([[4, 1],\n",
            "           [2, 2]])\n",
            "    \n",
            "    >>> a = np.arange(3*4*5*6).reshape((3,4,5,6))\n",
            "    >>> b = np.arange(3*4*5*6)[::-1].reshape((5,4,6,3))\n",
            "    >>> np.dot(a, b)[2,3,2,1,2,2]\n",
            "    499128\n",
            "    >>> sum(a[2,3,2,:] * b[1,2,:,2])\n",
            "    499128\n",
            "\n",
            "None\n"
          ]
        }
      ]
    },
    {
      "cell_type": "code",
      "source": [],
      "metadata": {
        "colab": {
          "base_uri": "https://localhost:8080/",
          "height": 130
        },
        "id": "HRwhhCaemsie",
        "outputId": "d761e023-a39e-41bb-96bd-367a08f07d78"
      },
      "execution_count": 58,
      "outputs": [
        {
          "output_type": "error",
          "ename": "SyntaxError",
          "evalue": "ignored",
          "traceback": [
            "\u001b[0;36m  File \u001b[0;32m\"<ipython-input-58-83addb00db41>\"\u001b[0;36m, line \u001b[0;32m2\u001b[0m\n\u001b[0;31m    a=np.array([1,2,,3],[5,6,7])\u001b[0m\n\u001b[0m                    ^\u001b[0m\n\u001b[0;31mSyntaxError\u001b[0m\u001b[0;31m:\u001b[0m invalid syntax\n"
          ]
        }
      ]
    },
    {
      "cell_type": "code",
      "source": [
        "array1 = [5,3,2,4,5,6]\n",
        "n = len(array1)\n",
        "for i in range(o,n):\n",
        "  for j in range(i+)"
      ],
      "metadata": {
        "id": "2eX0eBs3u0pZ"
      },
      "execution_count": null,
      "outputs": []
    }
  ]
}