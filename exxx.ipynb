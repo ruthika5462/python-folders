{
  "nbformat": 4,
  "nbformat_minor": 0,
  "metadata": {
    "colab": {
      "provenance": [],
      "authorship_tag": "ABX9TyPZ9+JeP/RAT4peQBymwis9",
      "include_colab_link": true
    },
    "kernelspec": {
      "name": "python3",
      "display_name": "Python 3"
    },
    "language_info": {
      "name": "python"
    }
  },
  "cells": [
    {
      "cell_type": "markdown",
      "metadata": {
        "id": "view-in-github",
        "colab_type": "text"
      },
      "source": [
        "<a href=\"https://colab.research.google.com/github/ruthika5462/python-folders/blob/main/exxx.ipynb\" target=\"_parent\"><img src=\"https://colab.research.google.com/assets/colab-badge.svg\" alt=\"Open In Colab\"/></a>"
      ]
    },
    {
      "cell_type": "code",
      "execution_count": 10,
      "metadata": {
        "colab": {
          "base_uri": "https://localhost:8080/"
        },
        "id": "nseqydoSuoDn",
        "outputId": "005eba6e-44b4-4604-ca5a-9379be75a4e7"
      },
      "outputs": [
        {
          "output_type": "stream",
          "name": "stdout",
          "text": [
            "enter the number of rows:5\n",
            "15 \n",
            "14 13 \n",
            "12 11 10 \n",
            "9  8  7  6  \n",
            "5  4  3  2  1  \n"
          ]
        }
      ],
      "source": [
        "n=int(input(\"enter the number of rows:\"))\n",
        "k=0\n",
        "for i in range(n):\n",
        "  k=k+i\n",
        "m=n+k\n",
        "for i in range(n):\n",
        "  for j in range(i+1):\n",
        "    print(format(m,\"<3\"),end=\"\")\n",
        "    m=m-1\n",
        "  print()"
      ]
    },
    {
      "cell_type": "code",
      "source": [
        "def roman_numbers(num):\n",
        "  if num>3999:\n",
        "    print(\"enter number less than  3999\")\n",
        "    return\n",
        "  value=[1000,900,500,400,100,90,50,40,10,9,5,4,1]\n",
        "  symbol=[\"M\",\"CM\",\"D\",\"CD\",\"D\",\"XD\",\"L\",\"XL\",\"L\",\"X\",\"IX\",\"V\",\"IV\",\"I\"]\n",
        "  roman =\" \"\n",
        "  i=0\n",
        "  while num>0:\n",
        "    div=num//value[i]\n",
        "    num = num%value[i]\n",
        "    while div:\n",
        "      roman = roman+symbol[i]\n",
        "      div=div-1\n",
        "    i=i+1\n",
        "  return roman\n",
        "num=int(input(\"enter an integer number:\"))\n",
        "print(roman_numbers(num))\n",
        "\n",
        "\n",
        "\n"
      ],
      "metadata": {
        "colab": {
          "base_uri": "https://localhost:8080/"
        },
        "id": "8-qWQ4Cqx8n1",
        "outputId": "db5d66e5-ab24-4d36-9572-849df05f4a15"
      },
      "execution_count": 14,
      "outputs": [
        {
          "output_type": "stream",
          "name": "stdout",
          "text": [
            "enter an integer number:80\n",
            " LLLL\n"
          ]
        }
      ]
    },
    {
      "cell_type": "code",
      "source": [
        "print(76%50)"
      ],
      "metadata": {
        "colab": {
          "base_uri": "https://localhost:8080/"
        },
        "id": "_e9yVEYH2hWN",
        "outputId": "a2034b00-7ba3-460e-de61-8fff70e84a9a"
      },
      "execution_count": 11,
      "outputs": [
        {
          "output_type": "stream",
          "name": "stdout",
          "text": [
            "26\n"
          ]
        }
      ]
    }
  ]
}