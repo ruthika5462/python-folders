{
  "cells": [
    {
      "cell_type": "markdown",
      "metadata": {
        "id": "view-in-github",
        "colab_type": "text"
      },
      "source": [
        "<a href=\"https://colab.research.google.com/github/ruthika5462/python-folders/blob/main/functions.ipynb\" target=\"_parent\"><img src=\"https://colab.research.google.com/assets/colab-badge.svg\" alt=\"Open In Colab\"/></a>"
      ]
    },
    {
      "cell_type": "code",
      "execution_count": null,
      "metadata": {
        "colab": {
          "base_uri": "https://localhost:8080/",
          "height": 131
        },
        "id": "AWQ_YEOE5OBX",
        "outputId": "26badf92-227e-483e-986c-373b91367a9a"
      },
      "outputs": [
        {
          "ename": "SyntaxError",
          "evalue": "ignored",
          "output_type": "error",
          "traceback": [
            "\u001b[0;36m  File \u001b[0;32m\"<ipython-input-27-56975372546a>\"\u001b[0;36m, line \u001b[0;32m3\u001b[0m\n\u001b[0;31m    print(\"union:\", A || B)\u001b[0m\n\u001b[0m                       ^\u001b[0m\n\u001b[0;31mSyntaxError\u001b[0m\u001b[0;31m:\u001b[0m invalid syntax\n"
          ]
        }
      ],
      "source": [
        "A={0,2,4,5,6}\n",
        "B={1,2,3,4,5}\n",
        "print(\"union:\", A || B)\n",
        "print(\"intersection\",A & B)\n",
        "print(\"Diffrence\",A-B)\n",
        "print(\"symmetric diffrence\",A^B)"
      ]
    },
    {
      "cell_type": "code",
      "execution_count": null,
      "metadata": {
        "id": "m_lDnhstXEej"
      },
      "outputs": [],
      "source": []
    },
    {
      "cell_type": "code",
      "execution_count": null,
      "metadata": {
        "colab": {
          "background_save": true,
          "base_uri": "https://localhost:8080/"
        },
        "id": "mNBlS6QwXEh1",
        "outputId": "3888b8ef-bc7a-4cf3-93b6-461c05f62739"
      },
      "outputs": [
        {
          "name": "stdout",
          "output_type": "stream",
          "text": [
            "Set after updating: {'e', 'k', 's', 'f', 'g'}\n"
          ]
        }
      ],
      "source": [
        "s = {'g', 'e', 'k', 's'}\n",
        " \n",
        "# adding 's'\n",
        "s.add('f')\n",
        "print('Set after updating:', s)"
      ]
    },
    {
      "cell_type": "code",
      "execution_count": null,
      "metadata": {
        "id": "kIMNcmpFbch3"
      },
      "outputs": [],
      "source": []
    },
    {
      "cell_type": "code",
      "execution_count": null,
      "metadata": {
        "colab": {
          "base_uri": "https://localhost:8080/"
        },
        "id": "eoLcZTJCauHi",
        "outputId": "a9ea17d8-b93b-41d7-db63-75ece13e8fa8"
      },
      "outputs": [
        {
          "name": "stdout",
          "output_type": "stream",
          "text": [
            "set after updating {1, 2, 4, 7, 8}\n"
          ]
        }
      ],
      "source": [
        "ruthika={1,2,4,7,8,5}\n",
        "ruthika.discard(5)\n",
        "print(\"set after updating\",ruthika)\n"
      ]
    },
    {
      "cell_type": "code",
      "execution_count": null,
      "metadata": {
        "colab": {
          "base_uri": "https://localhost:8080/"
        },
        "id": "h_UoIbRwbYJK",
        "outputId": "2170fa9f-86e8-4617-9624-5281a760d2c0"
      },
      "outputs": [
        {
          "name": "stdout",
          "output_type": "stream",
          "text": [
            "set after updating {1, 2, 4, 8}\n"
          ]
        }
      ],
      "source": [
        "ruthika.remove(7)\n",
        "print(\"set after updating\",ruthika)"
      ]
    },
    {
      "cell_type": "code",
      "execution_count": null,
      "metadata": {
        "colab": {
          "base_uri": "https://localhost:8080/"
        },
        "id": "oWDhWtX3a8T6",
        "outputId": "f58ef8ad-bbcc-4d4b-dc58-b9e5bf92f88f"
      },
      "outputs": [
        {
          "name": "stdout",
          "output_type": "stream",
          "text": [
            "\n",
            " popped element 1\n",
            "set after updating: {2, 4, 8}\n"
          ]
        }
      ],
      "source": [
        "print('\\n popped element',ruthika.pop())\n",
        "print('set after updating:',ruthika)"
      ]
    },
    {
      "cell_type": "code",
      "execution_count": null,
      "metadata": {
        "id": "HMwPudKTdKJp"
      },
      "outputs": [],
      "source": []
    },
    {
      "cell_type": "markdown",
      "metadata": {
        "id": "I07O-VA2cs3f"
      },
      "source": [
        "here pop element which is based on the stack implementation like  **LIFO**\n",
        "\n",
        "---\n",
        "\n",
        "pop the first element"
      ]
    },
    {
      "cell_type": "code",
      "execution_count": null,
      "metadata": {
        "colab": {
          "base_uri": "https://localhost:8080/"
        },
        "id": "WiCE--q3dHVq",
        "outputId": "62224d09-b7d9-43ab-9ac6-47f9b65181e2"
      },
      "outputs": [
        {
          "name": "stdout",
          "output_type": "stream",
          "text": [
            "\n",
            " set after updating: set()\n"
          ]
        }
      ],
      "source": [
        "ruthika.clear()\n",
        "print('\\n set after updating:',ruthika)"
      ]
    },
    {
      "cell_type": "code",
      "execution_count": null,
      "metadata": {
        "id": "OvxeVOSVxL6r"
      },
      "outputs": [],
      "source": []
    },
    {
      "cell_type": "code",
      "execution_count": null,
      "metadata": {
        "colab": {
          "base_uri": "https://localhost:8080/"
        },
        "id": "9wi_7U0QdAU6",
        "outputId": "7c25485e-4273-45f7-83e4-b1486a829890"
      },
      "outputs": [
        {
          "name": "stdout",
          "output_type": "stream",
          "text": [
            "\n",
            " set after updating set()\n"
          ]
        }
      ],
      "source": [
        "ruthika.copy()\n",
        "print('\\n set after updating',ruthika)"
      ]
    },
    {
      "cell_type": "code",
      "execution_count": null,
      "metadata": {
        "colab": {
          "base_uri": "https://localhost:8080/",
          "height": 183
        },
        "id": "fPolWKujeA_L",
        "outputId": "4a755766-1421-4852-b546-1b97fe95226f"
      },
      "outputs": [
        {
          "ename": "AttributeError",
          "evalue": "ignored",
          "output_type": "error",
          "traceback": [
            "\u001b[0;31m---------------------------------------------------------------------------\u001b[0m",
            "\u001b[0;31mAttributeError\u001b[0m                            Traceback (most recent call last)",
            "\u001b[0;32m<ipython-input-16-1b6b393a028a>\u001b[0m in \u001b[0;36m<module>\u001b[0;34m\u001b[0m\n\u001b[0;32m----> 1\u001b[0;31m \u001b[0mruthika\u001b[0m\u001b[0;34m.\u001b[0m\u001b[0mfrozenset\u001b[0m\u001b[0;34m(\u001b[0m\u001b[0;34m)\u001b[0m\u001b[0;34m\u001b[0m\u001b[0;34m\u001b[0m\u001b[0m\n\u001b[0m\u001b[1;32m      2\u001b[0m \u001b[0mprint\u001b[0m\u001b[0;34m(\u001b[0m\u001b[0;34m'\\n set after upsdating'\u001b[0m\u001b[0;34m,\u001b[0m\u001b[0mruthika\u001b[0m\u001b[0;34m)\u001b[0m\u001b[0;34m\u001b[0m\u001b[0;34m\u001b[0m\u001b[0m\n",
            "\u001b[0;31mAttributeError\u001b[0m: 'set' object has no attribute 'frozenset'"
          ]
        }
      ],
      "source": [
        "ruthika.frozenset()\n",
        "print('\\n set after upsdating',ruthika)"
      ]
    },
    {
      "cell_type": "markdown",
      "metadata": {
        "id": "lNBpKLpbeT8X"
      },
      "source": [
        "here set object doesnt have a frozen **set**"
      ]
    },
    {
      "cell_type": "code",
      "execution_count": null,
      "metadata": {
        "colab": {
          "base_uri": "https://localhost:8080/"
        },
        "id": "Ej1f5ZUTecEJ",
        "outputId": "688ab985-a6b5-40a2-f532-f33ba26fc7fb"
      },
      "outputs": [
        {
          "name": "stdout",
          "output_type": "stream",
          "text": [
            "{40, 10, 20}\n",
            "{49, 100, 60}\n"
          ]
        }
      ],
      "source": [
        "\n",
        "A={10,20,30,40,50}\n",
        "B={100,30,60,49,50}\n",
        "print(A-B)\n",
        "print(B-A)"
      ]
    },
    {
      "cell_type": "markdown",
      "metadata": {
        "id": "jYFSagZXhgSp"
      },
      "source": [
        "**python set diffrence updat**e"
      ]
    },
    {
      "cell_type": "code",
      "execution_count": null,
      "metadata": {
        "colab": {
          "base_uri": "https://localhost:8080/"
        },
        "id": "K4qdJVyihoWx",
        "outputId": "f9fb33ed-e54d-4496-d459-586aa385a573"
      },
      "outputs": [
        {
          "name": "stdout",
          "output_type": "stream",
          "text": [
            "{10, 20}\n"
          ]
        }
      ],
      "source": [
        "A = {10, 20, 30, 40, 80}\n",
        "B = {100, 30, 80, 40, 60}\n",
        " \n",
        "# Modifies A and returns None\n",
        "A.difference_update(B)\n",
        " \n",
        "# Prints the modified set\n",
        "print (A)\n"
      ]
    },
    {
      "cell_type": "code",
      "execution_count": null,
      "metadata": {
        "colab": {
          "base_uri": "https://localhost:8080/",
          "height": 218
        },
        "id": "i2-SDSzGmric",
        "outputId": "5e5dd642-f1ff-4b72-9809-31f8544ab963"
      },
      "outputs": [
        {
          "ename": "AttributeError",
          "evalue": "ignored",
          "output_type": "error",
          "traceback": [
            "\u001b[0;31m---------------------------------------------------------------------------\u001b[0m",
            "\u001b[0;31mAttributeError\u001b[0m                            Traceback (most recent call last)",
            "\u001b[0;32m<ipython-input-21-213f33823230>\u001b[0m in \u001b[0;36m<module>\u001b[0;34m\u001b[0m\n\u001b[1;32m      1\u001b[0m \u001b[0ma\u001b[0m\u001b[0;34m=\u001b[0m\u001b[0;34m{\u001b[0m\u001b[0;36m1\u001b[0m\u001b[0;34m,\u001b[0m\u001b[0;36m2\u001b[0m\u001b[0;34m,\u001b[0m\u001b[0;36m3\u001b[0m\u001b[0;34m,\u001b[0m\u001b[0;36m4\u001b[0m\u001b[0;34m,\u001b[0m\u001b[0;36m5\u001b[0m\u001b[0;34m,\u001b[0m\u001b[0;36m6\u001b[0m\u001b[0;34m}\u001b[0m\u001b[0;34m\u001b[0m\u001b[0;34m\u001b[0m\u001b[0m\n\u001b[1;32m      2\u001b[0m \u001b[0mb\u001b[0m\u001b[0;34m=\u001b[0m\u001b[0;34m{\u001b[0m\u001b[0;36m6\u001b[0m\u001b[0;34m,\u001b[0m\u001b[0;36m7\u001b[0m\u001b[0;34m,\u001b[0m\u001b[0;36m8\u001b[0m\u001b[0;34m,\u001b[0m\u001b[0;36m2\u001b[0m\u001b[0;34m,\u001b[0m\u001b[0;36m3\u001b[0m\u001b[0;34m,\u001b[0m\u001b[0;36m4\u001b[0m\u001b[0;34m}\u001b[0m\u001b[0;34m\u001b[0m\u001b[0;34m\u001b[0m\u001b[0m\n\u001b[0;32m----> 3\u001b[0;31m \u001b[0ma\u001b[0m\u001b[0;34m.\u001b[0m\u001b[0mdiffrence_update\u001b[0m\u001b[0;34m(\u001b[0m\u001b[0mb\u001b[0m\u001b[0;34m)\u001b[0m\u001b[0;34m\u001b[0m\u001b[0;34m\u001b[0m\u001b[0m\n\u001b[0m\u001b[1;32m      4\u001b[0m \u001b[0mprint\u001b[0m\u001b[0;34m(\u001b[0m\u001b[0ma\u001b[0m\u001b[0;34m)\u001b[0m\u001b[0;34m\u001b[0m\u001b[0;34m\u001b[0m\u001b[0m\n",
            "\u001b[0;31mAttributeError\u001b[0m: 'set' object has no attribute 'diffrence_update'"
          ]
        }
      ],
      "source": [
        "a={1,2,3,4,5,6}\n",
        "b={6,7,8,2,3,4}\n",
        "a.diffrence_update(b)\n",
        "print(a)"
      ]
    },
    {
      "cell_type": "markdown",
      "metadata": {
        "id": "Ms_iJeY7r39w"
      },
      "source": [
        "**set and frozen set**\n",
        "    set doesnt allow duplicate elements\n",
        "    it is a unordered collection it is unique\n",
        "    To remove duplicate elements use set\n",
        "    EXAMPLE\n",
        "**bold text**"
      ]
    },
    {
      "cell_type": "code",
      "execution_count": null,
      "metadata": {
        "colab": {
          "base_uri": "https://localhost:8080/"
        },
        "id": "qjwLEWgVs-fJ",
        "outputId": "35f05f6c-284b-4653-dd9f-c13f8b50d486"
      },
      "outputs": [
        {
          "name": "stdout",
          "output_type": "stream",
          "text": [
            "{1, 2, 3, 4}\n"
          ]
        }
      ],
      "source": [
        "numbers=[1,2,3,4,3,4]\n",
        "unique_numbers=set(numbers)\n",
        "print(unique_numbers)"
      ]
    },
    {
      "cell_type": "markdown",
      "metadata": {
        "id": "aLMtcP7Ttbd9"
      },
      "source": [
        "to add a element in a unique element"
      ]
    },
    {
      "cell_type": "code",
      "execution_count": null,
      "metadata": {
        "colab": {
          "base_uri": "https://localhost:8080/"
        },
        "id": "DOTgcbIUthf-",
        "outputId": "0b842032-1798-484f-8866-77c16e9d119d"
      },
      "outputs": [
        {
          "name": "stdout",
          "output_type": "stream",
          "text": [
            "{1, 2, 3, 4, 5}\n"
          ]
        }
      ],
      "source": [
        "unique_numbers.add(5)\n",
        "print(unique_numbers)"
      ]
    },
    {
      "cell_type": "markdown",
      "metadata": {
        "id": "gHPodUjSt20A"
      },
      "source": [
        "**Frozen set**\n",
        "there is no chance to change the content of our set in that case we can use a frozen set"
      ]
    },
    {
      "cell_type": "code",
      "execution_count": null,
      "metadata": {
        "colab": {
          "base_uri": "https://localhost:8080/"
        },
        "id": "OwxOYdN7uOM6",
        "outputId": "a5097d00-df8d-4ff5-bd51-2515b03a928b"
      },
      "outputs": [
        {
          "name": "stdout",
          "output_type": "stream",
          "text": [
            "frozenset({1, 2, 3, 4})\n"
          ]
        }
      ],
      "source": [
        "fs=frozenset(numbers)\n",
        "print(fs)"
      ]
    },
    {
      "cell_type": "markdown",
      "metadata": {
        "id": "WSHAtOkiud5R"
      },
      "source": [
        "in frozen set we cannot able to** add **the element that why the content is not **changeable**"
      ]
    },
    {
      "cell_type": "code",
      "execution_count": null,
      "metadata": {
        "colab": {
          "base_uri": "https://localhost:8080/",
          "height": 183
        },
        "id": "SptY0p03u2ij",
        "outputId": "35c24542-ca8b-4a3d-bdbf-85af740556c5"
      },
      "outputs": [
        {
          "ename": "AttributeError",
          "evalue": "ignored",
          "output_type": "error",
          "traceback": [
            "\u001b[0;31m---------------------------------------------------------------------------\u001b[0m",
            "\u001b[0;31mAttributeError\u001b[0m                            Traceback (most recent call last)",
            "\u001b[0;32m<ipython-input-25-36b6127b78d3>\u001b[0m in \u001b[0;36m<module>\u001b[0;34m\u001b[0m\n\u001b[0;32m----> 1\u001b[0;31m \u001b[0mfrozenset\u001b[0m\u001b[0;34m.\u001b[0m\u001b[0madd\u001b[0m\u001b[0;34m(\u001b[0m\u001b[0;36m5\u001b[0m\u001b[0;34m)\u001b[0m\u001b[0;34m\u001b[0m\u001b[0;34m\u001b[0m\u001b[0m\n\u001b[0m\u001b[1;32m      2\u001b[0m \u001b[0mprint\u001b[0m\u001b[0;34m(\u001b[0m\u001b[0mfrozenset\u001b[0m\u001b[0;34m)\u001b[0m\u001b[0;34m\u001b[0m\u001b[0;34m\u001b[0m\u001b[0m\n",
            "\u001b[0;31mAttributeError\u001b[0m: type object 'frozenset' has no attribute 'add'"
          ]
        }
      ],
      "source": [
        "frozenset.add(5)\n",
        "print(frozenset)"
      ]
    },
    {
      "cell_type": "code",
      "execution_count": null,
      "metadata": {
        "colab": {
          "base_uri": "https://localhost:8080/"
        },
        "id": "_qZul28ZvaEE",
        "outputId": "b0a1a04c-b380-4401-97ec-8a642f2f3530"
      },
      "outputs": [
        {
          "name": "stdout",
          "output_type": "stream",
          "text": [
            "a\n",
            "b\n",
            "c\n"
          ]
        }
      ],
      "source": [
        "X={'a','b','c'}#should be configured while declaring  as such it should not be given declare in string format...\n",
        "\"a\" in X \n",
        "\"g\" in X\n",
        "for i in X:\n",
        "  print(i)"
      ]
    },
    {
      "cell_type": "markdown",
      "metadata": {
        "id": "svBQEyI-CslC"
      },
      "source": [
        "Binary search time complexity (log n)  \n",
        "all the values has to be sorted \n",
        "specify lower bound and upper bound\n",
        "find middle value\n",
        "**mid=lower+upper/2**\n",
        "check whether the mid value what we have got is matched with the given searching index value\n",
        "if  it is not matched change the lower bound or upper  bound\n",
        "for this we have to check the value which we are searching for is smaller or bigger than the mid value\n",
        "if the value is smaller change the upper bound\n",
        "if the value is bigger than mid value then change the lower and mid becomes new lower bound\n",
        " \n",
        "\n",
        "\n"
      ]
    },
    {
      "cell_type": "markdown",
      "metadata": {
        "id": "-hCmiumJZqxW"
      },
      "source": [
        "Linked list used a node to move one from other,\n",
        "node contains  a pointer\n",
        "here pointer is memoryaddressof next node\n",
        "linked list is changeable\n",
        "linear search"
      ]
    },
    {
      "cell_type": "code",
      "execution_count": null,
      "metadata": {
        "id": "eRpDxE6naXBB"
      },
      "outputs": [],
      "source": [
        "class node:\n",
        "  def_init_(self,data=None):\n",
        "    self.data=data\n",
        "    self.next=None  #pointer \n",
        "class linkedlist:\n",
        "   def_init_(self):\n",
        "     self.head=node() #here head is main to keep track of every node\n",
        "  def append(self,data) :\n",
        "    new_node=node(data) ##creating new node for class node and insertig the data\n",
        "  ##creating a variable to store the node\n",
        "  cur=self.head\n",
        "  while cur.next!=None:\n",
        "    cur=cur.next \n",
        "    ##once we know the last element of list we can set the new noe\n",
        "    cur.next=new_node\n",
        "    ##to figure the length\n",
        "    def length(self):\n",
        "      curr=self.head\n",
        "      total=0\n",
        "      while cur.next!\n",
        "\n",
        "                   "
      ]
    },
    {
      "cell_type": "markdown",
      "metadata": {
        "id": "_zKjXGfn5MKX"
      },
      "source": [
        "**DICTONARY**"
      ]
    },
    {
      "cell_type": "code",
      "execution_count": null,
      "metadata": {
        "colab": {
          "base_uri": "https://localhost:8080/"
        },
        "id": "GYM4YmqR5R22",
        "outputId": "468e30c3-5c67-44e8-edb7-aa153b0bdcb1"
      },
      "outputs": [
        {
          "name": "stdout",
          "output_type": "stream",
          "text": [
            "{1: 'python', 2: 'java', 3: 'c++'}\n"
          ]
        }
      ],
      "source": [
        "dict={}\n",
        "dict1={1:'python',2:'java',3:'c++'}\n",
        "print(dict1)"
      ]
    },
    {
      "cell_type": "code",
      "execution_count": null,
      "metadata": {
        "colab": {
          "base_uri": "https://localhost:8080/"
        },
        "id": "0WT_Jm796W1I",
        "outputId": "fa19a33a-72f9-4712-bab3-9fd59f45c4ed"
      },
      "outputs": [
        {
          "name": "stdout",
          "output_type": "stream",
          "text": [
            "dict_keys([1, 2, 3])\n",
            "python\n",
            "java\n",
            "c++\n"
          ]
        }
      ],
      "source": [
        "dict={1:'python',2:'java',3:'c++'}\n",
        "print(dict.keys())\n",
        "for x in dict:\n",
        "   print(dict[x])"
      ]
    },
    {
      "cell_type": "code",
      "execution_count": null,
      "metadata": {
        "colab": {
          "base_uri": "https://localhost:8080/",
          "height": 35
        },
        "id": "7HsOr9iF7YBH",
        "outputId": "f041bf57-6a42-448e-800e-0032f3634e1e"
      },
      "outputs": [
        {
          "data": {
            "application/vnd.google.colaboratory.intrinsic+json": {
              "type": "string"
            },
            "text/plain": [
              "\"{1: 'python'}\""
            ]
          },
          "execution_count": 30,
          "metadata": {},
          "output_type": "execute_result"
        }
      ],
      "source": [
        "dict1={1:'python'}  ## for updating\n",
        "dict[3]=\"c\"\n",
        "dict[4]=\"php\"\n",
        "len(dict1)\n",
        "str(dict1)"
      ]
    },
    {
      "cell_type": "markdown",
      "metadata": {
        "id": "30ThhbBx8aGx"
      },
      "source": [
        "for deleting"
      ]
    },
    {
      "cell_type": "code",
      "execution_count": null,
      "metadata": {
        "colab": {
          "base_uri": "https://localhost:8080/",
          "height": 253
        },
        "id": "EM4W63PQ8JZA",
        "outputId": "0a642398-1e43-4c59-9906-e5ed0ef40a7e"
      },
      "outputs": [
        {
          "name": "stdout",
          "output_type": "stream",
          "text": [
            "{1: 'Python', 2: 'Java', 4: 'PHP'}\n",
            "dict :  {}\n"
          ]
        },
        {
          "ename": "TypeError",
          "evalue": "ignored",
          "output_type": "error",
          "traceback": [
            "\u001b[0;31m---------------------------------------------------------------------------\u001b[0m",
            "\u001b[0;31mTypeError\u001b[0m                                 Traceback (most recent call last)",
            "\u001b[0;32m<ipython-input-9-bd7550f10863>\u001b[0m in \u001b[0;36m<module>\u001b[0;34m\u001b[0m\n\u001b[1;32m      7\u001b[0m \u001b[0;34m\u001b[0m\u001b[0m\n\u001b[1;32m      8\u001b[0m \u001b[0;32mdel\u001b[0m \u001b[0mdict\u001b[0m \u001b[0;31m# delete entire dictionary\u001b[0m\u001b[0;34m\u001b[0m\u001b[0;34m\u001b[0m\u001b[0m\n\u001b[0;32m----> 9\u001b[0;31m \u001b[0mprint\u001b[0m\u001b[0;34m(\u001b[0m\u001b[0mdict\u001b[0m\u001b[0;34m[\u001b[0m\u001b[0;36m2\u001b[0m\u001b[0;34m]\u001b[0m\u001b[0;34m)\u001b[0m\u001b[0;34m\u001b[0m\u001b[0;34m\u001b[0m\u001b[0m\n\u001b[0m\u001b[1;32m     10\u001b[0m \u001b[0;34m\u001b[0m\u001b[0m\n",
            "\u001b[0;31mTypeError\u001b[0m: 'type' object is not subscriptable"
          ]
        }
      ],
      "source": [
        "dict = {1:'Python',2:'Java',3:'C++',4 : 'PHP'}\n",
        "del dict[3] # remove entry with key 'Name'\n",
        "print(dict)\n",
        "\n",
        "dict.clear() # remove all entries in dict\n",
        "print(\"dict : \",dict)\n",
        "\n",
        "del dict # delete entire dictionary\n",
        "print(dict[2])\n",
        "\n"
      ]
    },
    {
      "cell_type": "code",
      "execution_count": null,
      "metadata": {
        "colab": {
          "base_uri": "https://localhost:8080/",
          "height": 131
        },
        "id": "Y-olJWPzAEBM",
        "outputId": "f85a1c8c-0466-4758-c1a7-07f3e0091a67"
      },
      "outputs": [
        {
          "ename": "SyntaxError",
          "evalue": "ignored",
          "output_type": "error",
          "traceback": [
            "\u001b[0;36m  File \u001b[0;32m\"<ipython-input-19-7926e3382732>\"\u001b[0;36m, line \u001b[0;32m2\u001b[0m\n\u001b[0;31m    dict2=dict1.(copy)\u001b[0m\n\u001b[0m                ^\u001b[0m\n\u001b[0;31mSyntaxError\u001b[0m\u001b[0;31m:\u001b[0m invalid syntax\n"
          ]
        }
      ],
      "source": [
        "dict1={1:'ruthika',2:'janani',3:'kanishka'}\n",
        "dict2=dict1.(copy)\n",
        "print(dict2)"
      ]
    },
    {
      "cell_type": "code",
      "execution_count": null,
      "metadata": {
        "colab": {
          "base_uri": "https://localhost:8080/",
          "height": 131
        },
        "id": "mgYRZf8GA2MI",
        "outputId": "563d8470-cc69-4257-c651-d4dbf7c4c746"
      },
      "outputs": [
        {
          "ename": "SyntaxError",
          "evalue": "ignored",
          "output_type": "error",
          "traceback": [
            "\u001b[0;36m  File \u001b[0;32m\"<ipython-input-22-1c1fad23e3f3>\"\u001b[0;36m, line \u001b[0;32m2\u001b[0m\n\u001b[0;31m    print dict=dict.fromkeys(seq)\u001b[0m\n\u001b[0m             ^\u001b[0m\n\u001b[0;31mSyntaxError\u001b[0m\u001b[0;31m:\u001b[0m invalid syntax\n"
          ]
        }
      ],
      "source": []
    },
    {
      "cell_type": "code",
      "execution_count": null,
      "metadata": {
        "colab": {
          "base_uri": "https://localhost:8080/"
        },
        "id": "tVNC3KuMBzbh",
        "outputId": "9ee080d0-3b07-4421-db70-004a60c99278"
      },
      "outputs": [
        {
          "name": "stdout",
          "output_type": "stream",
          "text": [
            "dict_items([(1, 'Python'), (2, 'Java'), (3, 'C++'), (4, 'PHP')])\n"
          ]
        }
      ],
      "source": [
        "dict1 = {1:'Python',2:'Java',3:'C++',4 : 'PHP'}\n",
        "print(dict1.items())"
      ]
    },
    {
      "cell_type": "code",
      "execution_count": null,
      "metadata": {
        "id": "DVcuNMFMVe2V"
      },
      "outputs": [],
      "source": [
        "##FOR LOOP\n",
        "##post test\n",
        "##the control will enter the loop after that the condition will be cheked\n",
        "pre test\n",
        "##the condition will be checked in the beginning of the loop\n",
        "int python there is post test only pretest\n",
        "\n",
        "\n"
      ]
    },
    {
      "cell_type": "markdown",
      "metadata": {
        "id": "Ki5FbTXJYkBZ"
      },
      "source": [
        "while loop will be used when we do know how many iterations to be done\n",
        "SYNTAX:\n",
        "  while expression:\n",
        "  statements\n",
        "example\n",
        "print the integers  from 0 to 9"
      ]
    },
    {
      "cell_type": "code",
      "execution_count": null,
      "metadata": {
        "colab": {
          "base_uri": "https://localhost:8080/"
        },
        "id": "TMKmzgxhY7BB",
        "outputId": "7881ef1e-9a41-4ec5-ac2a-cd8aa7543b80"
      },
      "outputs": [
        {
          "name": "stdout",
          "output_type": "stream",
          "text": [
            "number 0\n",
            "number 1\n",
            "number 2\n",
            "number 3\n",
            "number 4\n",
            "number 5\n",
            "number 6\n",
            "number 7\n",
            "number 8\n",
            "good bye\n"
          ]
        }
      ],
      "source": [
        "count =0\n",
        "while count<9:\n",
        "  print(\"number\",count)\n",
        "  count=count+1\n",
        "print(\"good bye\")"
      ]
    },
    {
      "cell_type": "code",
      "execution_count": null,
      "metadata": {
        "colab": {
          "base_uri": "https://localhost:8080/",
          "height": 356
        },
        "id": "YZZouIrTYyYZ",
        "outputId": "34b527bb-3c53-4a99-9fa6-8264907ad34c"
      },
      "outputs": [
        {
          "name": "stdout",
          "output_type": "stream",
          "text": [
            "new number:3\n",
            "number too small\n",
            "new number:6\n",
            "number too small\n",
            "new number:7\n",
            "number too small\n",
            "new number:\n"
          ]
        },
        {
          "ename": "ValueError",
          "evalue": "ignored",
          "output_type": "error",
          "traceback": [
            "\u001b[0;31m---------------------------------------------------------------------------\u001b[0m",
            "\u001b[0;31mValueError\u001b[0m                                Traceback (most recent call last)",
            "\u001b[0;32m<ipython-input-5-a2bfa978dd9b>\u001b[0m in \u001b[0;36m<module>\u001b[0;34m\u001b[0m\n\u001b[1;32m      4\u001b[0m \u001b[0mguess\u001b[0m \u001b[0;34m=\u001b[0m \u001b[0;36m0\u001b[0m\u001b[0;34m\u001b[0m\u001b[0;34m\u001b[0m\u001b[0m\n\u001b[1;32m      5\u001b[0m \u001b[0;32mwhile\u001b[0m \u001b[0mguess\u001b[0m \u001b[0;34m!=\u001b[0m\u001b[0mto_be_guessed\u001b[0m\u001b[0;34m:\u001b[0m\u001b[0;34m\u001b[0m\u001b[0;34m\u001b[0m\u001b[0m\n\u001b[0;32m----> 6\u001b[0;31m     \u001b[0mguess\u001b[0m\u001b[0;34m=\u001b[0m\u001b[0mint\u001b[0m\u001b[0;34m(\u001b[0m\u001b[0minput\u001b[0m\u001b[0;34m(\u001b[0m\u001b[0;34m\"new number:\"\u001b[0m\u001b[0;34m)\u001b[0m\u001b[0;34m)\u001b[0m\u001b[0;34m\u001b[0m\u001b[0;34m\u001b[0m\u001b[0m\n\u001b[0m\u001b[1;32m      7\u001b[0m     \u001b[0;32mif\u001b[0m \u001b[0mguess\u001b[0m\u001b[0;34m>\u001b[0m\u001b[0;36m0\u001b[0m\u001b[0;34m:\u001b[0m\u001b[0;34m\u001b[0m\u001b[0;34m\u001b[0m\u001b[0m\n\u001b[1;32m      8\u001b[0m         \u001b[0;32mif\u001b[0m \u001b[0mguess\u001b[0m \u001b[0;34m>\u001b[0m \u001b[0mto_be_guessed\u001b[0m\u001b[0;34m:\u001b[0m\u001b[0;34m\u001b[0m\u001b[0;34m\u001b[0m\u001b[0m\n",
            "\u001b[0;31mValueError\u001b[0m: invalid literal for int() with base 10: ''"
          ]
        }
      ],
      "source": [
        "import random\n",
        "n=20\n",
        "to_be_guessed = int(n*random.random()+1)\n",
        "guess = 0\n",
        "while guess !=to_be_guessed:\n",
        "    guess=int(input(\"new number:\"))\n",
        "    if guess>0:\n",
        "        if guess > to_be_guessed:\n",
        "            print(\"number too large\")\n",
        "        elif guess <to_be_guessed:\n",
        "            print(\"number too small\")\n",
        "    else:\n",
        "         print(\"sorry that you are giving up!\")\n",
        "         break\n",
        "else:\n",
        "    print(\"congratulation .you made it!\")5\n",
        "    78"
      ]
    },
    {
      "cell_type": "code",
      "execution_count": null,
      "metadata": {
        "colab": {
          "base_uri": "https://localhost:8080/"
        },
        "id": "8yrErxaabgui",
        "outputId": "bcf607fd-23a4-4182-a94c-106048850b18"
      },
      "outputs": [
        {
          "name": "stdout",
          "output_type": "stream",
          "text": [
            "current fruits mango\n",
            "current fruits apple\n",
            "current fruits banana\n",
            "good bye\n"
          ]
        }
      ],
      "source": [
        "#FOR LOOP\n",
        "#it is used ehen the number of iteration are reqired:\n",
        "fruits = ['mango','apple','banana']\n",
        "for fruit in fruits:\n",
        "  print(\"current fruits\",fruit)\n",
        "print(\"good bye\")\n",
        "\n"
      ]
    },
    {
      "cell_type": "code",
      "execution_count": null,
      "metadata": {
        "colab": {
          "base_uri": "https://localhost:8080/"
        },
        "id": "sNLBSKqydOsk",
        "outputId": "b74bff6d-3b59-41ac-a092-2d4cf2b0302c"
      },
      "outputs": [
        {
          "name": "stdout",
          "output_type": "stream",
          "text": [
            "attempt 1 .\n",
            "attempt 3 ...\n",
            "attempt 5 .....\n",
            "attempt 7 .......\n",
            "attempt 9 .........\n"
          ]
        }
      ],
      "source": [
        "for number in range(1,10,2):\n",
        "  print(\"attempt\",number,(number)* \".\")"
      ]
    },
    {
      "cell_type": "code",
      "execution_count": null,
      "metadata": {
        "colab": {
          "base_uri": "https://localhost:8080/",
          "height": 287
        },
        "id": "hnmQskPr0lu9",
        "outputId": "ddd02b27-ca82-46d7-a7b1-20e71eba761f"
      },
      "outputs": [
        {
          "name": "stdout",
          "output_type": "stream",
          "text": [
            "attempt\n",
            "attempt\n",
            "attempt\n"
          ]
        },
        {
          "ename": "NameError",
          "evalue": "ignored",
          "output_type": "error",
          "traceback": [
            "\u001b[0;31m---------------------------------------------------------------------------\u001b[0m",
            "\u001b[0;31mNameError\u001b[0m                                 Traceback (most recent call last)",
            "\u001b[0;32m<ipython-input-12-d86ebd3e88e8>\u001b[0m in \u001b[0;36m<module>\u001b[0;34m\u001b[0m\n\u001b[1;32m      2\u001b[0m \u001b[0;32mfor\u001b[0m  \u001b[0mnumber\u001b[0m \u001b[0;32min\u001b[0m \u001b[0mrange\u001b[0m \u001b[0;34m(\u001b[0m\u001b[0;36m3\u001b[0m\u001b[0;34m)\u001b[0m\u001b[0;34m:\u001b[0m\u001b[0;34m\u001b[0m\u001b[0;34m\u001b[0m\u001b[0m\n\u001b[1;32m      3\u001b[0m   \u001b[0mprint\u001b[0m\u001b[0;34m(\u001b[0m\u001b[0;34m\"attempt\"\u001b[0m\u001b[0;34m)\u001b[0m\u001b[0;34m\u001b[0m\u001b[0;34m\u001b[0m\u001b[0m\n\u001b[0;32m----> 4\u001b[0;31m \u001b[0;32mif\u001b[0m \u001b[0msuccessful\u001b[0m\u001b[0;34m:\u001b[0m\u001b[0;34m\u001b[0m\u001b[0;34m\u001b[0m\u001b[0m\n\u001b[0m\u001b[1;32m      5\u001b[0m      \u001b[0mprint\u001b[0m\u001b[0;34m(\u001b[0m\u001b[0;34m\"successful\"\u001b[0m\u001b[0;34m)\u001b[0m\u001b[0;34m\u001b[0m\u001b[0;34m\u001b[0m\u001b[0m\n\u001b[1;32m      6\u001b[0m \u001b[0;34m\u001b[0m\u001b[0m\n",
            "\u001b[0;31mNameError\u001b[0m: name 'successful' is not defined"
          ]
        }
      ],
      "source": [
        "succesful = True\n",
        "for  number in range (3):\n",
        "  print(\"attempt\")\n",
        "if successful:\n",
        "     print(\"successful\")\n",
        "     \n"
      ]
    },
    {
      "cell_type": "code",
      "execution_count": null,
      "metadata": {
        "colab": {
          "base_uri": "https://localhost:8080/"
        },
        "id": "gr-fghZO2Tq8",
        "outputId": "1983f645-e10d-4c7b-a61f-c929288ad7f5"
      },
      "outputs": [
        {
          "name": "stdout",
          "output_type": "stream",
          "text": [
            "1\n",
            "2\n",
            "3\n",
            "registration\n"
          ]
        }
      ],
      "source": [
        "x=[1,2,3,\"registration\"]\n",
        "for i in x:\n",
        "  print(i)"
      ]
    },
    {
      "cell_type": "code",
      "execution_count": null,
      "metadata": {
        "colab": {
          "base_uri": "https://localhost:8080/",
          "height": 130
        },
        "id": "c5Kta_Hn4xes",
        "outputId": "a9950b9a-9d0f-46e2-906d-b446fe826a99"
      },
      "outputs": [
        {
          "ename": "SyntaxError",
          "evalue": "ignored",
          "output_type": "error",
          "traceback": [
            "\u001b[0;36m  File \u001b[0;32m\"<ipython-input-15-6a63e7311202>\"\u001b[0;36m, line \u001b[0;32m2\u001b[0m\n\u001b[0;31m    def_init_(self,node):\u001b[0m\n\u001b[0m                         ^\u001b[0m\n\u001b[0;31mSyntaxError\u001b[0m\u001b[0;31m:\u001b[0m invalid syntax\n"
          ]
        }
      ],
      "source": [
        "class node:\n",
        "  def_init_(self,node):"
      ]
    },
    {
      "cell_type": "code",
      "execution_count": null,
      "metadata": {
        "id": "O0irMrz9OBcO"
      },
      "outputs": [],
      "source": [
        "your_name=input('please enter your name')\n",
        "print(your_name)"
      ]
    },
    {
      "cell_type": "markdown",
      "metadata": {
        "id": "kvpqZy3TA8d8"
      },
      "source": [
        "arrays in python\n"
      ]
    },
    {
      "cell_type": "code",
      "execution_count": null,
      "metadata": {
        "id": "WmtCdEfPBBbZ"
      },
      "outputs": [],
      "source": [
        "##Homogeneous and heterogeneous\n",
        "##it contains  same data type \n",
        "##it contains diffrent data type\n",
        "##length of an array\n"
      ]
    },
    {
      "cell_type": "code",
      "execution_count": null,
      "metadata": {
        "colab": {
          "base_uri": "https://localhost:8080/",
          "height": 130
        },
        "id": "4wbMvF7dBOZ-",
        "outputId": "555ff466-e4b6-48a4-b6ee-e4c43161c2db"
      },
      "outputs": [
        {
          "ename": "SyntaxError",
          "evalue": "ignored",
          "output_type": "error",
          "traceback": [
            "\u001b[0;36m  File \u001b[0;32m\"<ipython-input-6-e0016d0ee7e7>\"\u001b[0;36m, line \u001b[0;32m2\u001b[0m\n\u001b[0;31m    def reverse arr (a):\u001b[0m\n\u001b[0m                  ^\u001b[0m\n\u001b[0;31mSyntaxError\u001b[0m\u001b[0;31m:\u001b[0m invalid syntax\n"
          ]
        }
      ],
      "source": [
        "  "
      ]
    },
    {
      "cell_type": "code",
      "execution_count": null,
      "metadata": {
        "colab": {
          "base_uri": "https://localhost:8080/"
        },
        "id": "Zk_BuuBCHC5U",
        "outputId": "40090ec6-f50d-4ff7-c178-86516d308c2a"
      },
      "outputs": [
        {
          "name": "stdout",
          "output_type": "stream",
          "text": [
            "how many elemnet to store in the array4\n",
            "\n",
            " Enter 4 element:5,6,7,8\n",
            "\n",
            " array of elements are\n",
            "8\n",
            "\n",
            " array of elements are\n",
            "3\n",
            "\n",
            " array of elements are\n",
            "55\n",
            "\n",
            " array of elements are\n"
          ]
        }
      ],
      "source": [
        "print(\"how many elemnet to store in the array\",end=\"\")\n",
        "num=input()\n",
        "arr=[]\n",
        "print(\"\\n Enter\",num,\"element:\")\n",
        "num=int(num)\n",
        "for i in range(num):\n",
        "  element=input()\n",
        "  arr.append(element)\n",
        "  print(\"array of elements are\")\n",
        "  \n",
        "\n"
      ]
    },
    {
      "cell_type": "code",
      "execution_count": null,
      "metadata": {
        "colab": {
          "base_uri": "https://localhost:8080/"
        },
        "id": "9Yk_ShoTS3Ig",
        "outputId": "4dd5889e-b748-4216-8d4a-5ebf1cda4d6d"
      },
      "outputs": [
        {
          "name": "stdout",
          "output_type": "stream",
          "text": [
            "input the number:5\n",
            "input ther number:3\n",
            "[[0, 0, 0], [0, 1, 2], [0, 2, 4], [0, 3, 6], [0, 4, 8]]\n"
          ]
        }
      ],
      "source": [
        "r_num=int(input(\"input the number:\"))\n",
        "c_num=int(input(\"input ther number:\"))\n",
        "twod_arr=[[0 for col in range(c_num)] for row in range(r_num)]\n",
        "for row in range(r_num):\n",
        "  for col in range(c_num):\n",
        "    twod_arr[row][col]=row*col\n",
        "print(twod_arr)"
      ]
    },
    {
      "cell_type": "code",
      "execution_count": null,
      "metadata": {
        "colab": {
          "base_uri": "https://localhost:8080/",
          "height": 252
        },
        "id": "LBnckpLLV45f",
        "outputId": "f074a93e-773a-4619-8e14-df0ce5ebe68a"
      },
      "outputs": [
        {
          "name": "stdout",
          "output_type": "stream",
          "text": [
            "input the number:3\n",
            "input ther number:2\n"
          ]
        },
        {
          "ename": "IndexError",
          "evalue": "ignored",
          "output_type": "error",
          "traceback": [
            "\u001b[0;31m---------------------------------------------------------------------------\u001b[0m",
            "\u001b[0;31mIndexError\u001b[0m                                Traceback (most recent call last)",
            "\u001b[0;32m<ipython-input-22-6f9e2ae2158c>\u001b[0m in \u001b[0;36m<module>\u001b[0;34m\u001b[0m\n\u001b[1;32m      4\u001b[0m \u001b[0;32mfor\u001b[0m \u001b[0mrow\u001b[0m \u001b[0;32min\u001b[0m \u001b[0mrange\u001b[0m\u001b[0;34m(\u001b[0m\u001b[0mr_num\u001b[0m\u001b[0;34m)\u001b[0m\u001b[0;34m:\u001b[0m\u001b[0;34m\u001b[0m\u001b[0;34m\u001b[0m\u001b[0m\n\u001b[1;32m      5\u001b[0m   \u001b[0;32mfor\u001b[0m \u001b[0mcol\u001b[0m \u001b[0;32min\u001b[0m \u001b[0mrange\u001b[0m\u001b[0;34m(\u001b[0m\u001b[0mc_num\u001b[0m\u001b[0;34m)\u001b[0m\u001b[0;34m:\u001b[0m\u001b[0;34m\u001b[0m\u001b[0;34m\u001b[0m\u001b[0m\n\u001b[0;32m----> 6\u001b[0;31m     \u001b[0mtwod_arr\u001b[0m\u001b[0;34m[\u001b[0m\u001b[0mcol\u001b[0m\u001b[0;34m]\u001b[0m\u001b[0;34m[\u001b[0m\u001b[0mrow\u001b[0m\u001b[0;34m]\u001b[0m\u001b[0;34m=\u001b[0m\u001b[0mcol\u001b[0m\u001b[0;34m*\u001b[0m\u001b[0mrow\u001b[0m\u001b[0;34m\u001b[0m\u001b[0;34m\u001b[0m\u001b[0m\n\u001b[0m\u001b[1;32m      7\u001b[0m \u001b[0mprint\u001b[0m\u001b[0;34m(\u001b[0m\u001b[0mtwod_arr\u001b[0m\u001b[0;34m)\u001b[0m\u001b[0;34m\u001b[0m\u001b[0;34m\u001b[0m\u001b[0m\n",
            "\u001b[0;31mIndexError\u001b[0m: list index out of range"
          ]
        }
      ],
      "source": [
        "r_num=int(input(\"input the number:\"))\n",
        "c_num=int(input(\"input ther number:\"))\n",
        "twod_arr=[[0 for row in range(r_num) for col in range(c_num)]]\n",
        "for row in range(r_num):\n",
        "  for col in range(c_num):\n",
        "    twod_arr[col][row]=col*row\n",
        "print(twod_arr)"
      ]
    },
    {
      "cell_type": "code",
      "execution_count": null,
      "metadata": {
        "id": "43EpkskggoJk"
      },
      "outputs": [],
      "source": [
        "arr =[10,2,35,34,5,67]\n",
        "temp=0;\n",
        "##displaying elements for orginal array\n",
        "print(\"elements of orginal array\")\n",
        "for i in range(0,len(arr)):\n",
        "  print(arr[i])\n",
        "##sort the array in ascending order\n",
        "for i in range(0,len(arr)):\n",
        "   for j in range(i+1,len(arr)):\n",
        "     if(arr[i]>arr[j]):\n",
        "       temp=arr[i];\n",
        "       arr[i]=arr[j];\n",
        "       arr[j] =temp;\n"
      ]
    },
    {
      "cell_type": "code",
      "execution_count": null,
      "metadata": {
        "colab": {
          "base_uri": "https://localhost:8080/"
        },
        "id": "ujOx8NazX5Qi",
        "outputId": "f65dc1b6-987d-4539-d96c-2f4abf933119"
      },
      "outputs": [
        {
          "name": "stdout",
          "output_type": "stream",
          "text": [
            "enter the size of an array\n",
            "4\n",
            "enter the elements\n",
            "3\n",
            "4\n",
            "6\n",
            "7\n",
            "enter the values to delete:\n",
            "3\n",
            "the new array:\n",
            "4 \n",
            "6 \n",
            "7 \n"
          ]
        }
      ],
      "source": [
        "print(\"enter the size of an array\")\n",
        "tot=int(input())\n",
        "arr=[]\n",
        "print(\"enter the elements\")\n",
        "for i in range(tot):\n",
        "  arr.append(input())\n",
        "print(\"enter the values to delete:\")\n",
        "val=input()\n",
        "if val in arr:\n",
        "   arr.remove(val)\n",
        "   print(\"the new array:\")\n",
        "   for i in range(tot-1):\n",
        "      print(arr[i]+\" \")\n",
        "else:\n",
        "    print(\"element doesnot exist in the list\")"
      ]
    },
    {
      "cell_type": "code",
      "execution_count": null,
      "metadata": {
        "colab": {
          "base_uri": "https://localhost:8080/"
        },
        "id": "HFmU75LeavrM",
        "outputId": "713da694-6fc2-4355-d91e-920a1e9ef639"
      },
      "outputs": [
        {
          "name": "stdout",
          "output_type": "stream",
          "text": [
            "enter the size of array6\n",
            "enter the elements5\n",
            "2\n",
            "3\n",
            "1\n",
            "4\n",
            "6\n",
            "enter the values to delete:1\n",
            "element does not exist\n"
          ]
        }
      ],
      "source": [
        "x=int(input(\"enter the size of array\"))\n",
        "arr=[]\n",
        "y=int(input(\"enter the elements\"))\n",
        "for i in range(y):\n",
        "    arr.append(input())\n",
        "z=int(input(\"enter the values to delete:\"))\n",
        "if z in arr:\n",
        "    arr.remove(z)\n",
        "    print(\"the new array is\")\n",
        "    for i in range(z-1):\n",
        "        print(arr[i]+1)\n",
        "else:\n",
        "    print(\"element does not exist\")\n",
        "\n"
      ]
    },
    {
      "cell_type": "code",
      "execution_count": null,
      "metadata": {
        "id": "1A1pq8PUPx1h"
      },
      "outputs": [],
      "source": []
    },
    {
      "cell_type": "markdown",
      "metadata": {
        "id": "CRmzEKodJr3K"
      },
      "source": [
        "**LINEAR SEARCH**"
      ]
    },
    {
      "cell_type": "code",
      "execution_count": null,
      "metadata": {
        "colab": {
          "background_save": true,
          "base_uri": "https://localhost:8080/"
        },
        "id": "TBiylGUvJvbc",
        "outputId": "34340ff4-25c3-4d7a-bb23-dcf899c0af30"
      },
      "outputs": [
        {
          "name": "stdout",
          "output_type": "stream",
          "text": [
            "found at 6\n"
          ]
        }
      ],
      "source": [
        "pos=-1\n",
        "def search(list,n):\n",
        "  i=0\n",
        "  while i<len(list):\n",
        "    if list[i] ==n:\n",
        "     globals()['pos']=i\n",
        "     return True;\n",
        "    i=i+1  \n",
        "  return False;\n",
        "\n",
        "list=[5,8,4,6,9,2]\n",
        "n=2\n",
        "if search(list,n):\n",
        "   print(\"found at\",pos+1)\n",
        "else:\n",
        "  print(\"not found\")"
      ]
    },
    {
      "cell_type": "markdown",
      "metadata": {
        "id": "XVM_yJ2EjAWg"
      },
      "source": [
        "Linaer search is a sequential search\n",
        "it sequentially checks\n",
        "until it matches"
      ]
    },
    {
      "cell_type": "code",
      "source": [
        "arr=[1,2,3,4,5]\n",
        "def getsubarraywith sum(arr,s):\n",
        "  result=[]\n",
        "  for x in range(len(arr)):\n",
        "    result.append(arr[x])\n",
        "    if"
      ],
      "metadata": {
        "id": "JVpX-5lP1wRI"
      },
      "execution_count": null,
      "outputs": []
    },
    {
      "cell_type": "code",
      "source": [
        "#stack\n",
        "class stack:\n",
        "  def__init__(self)\n",
        "  self.stack=[]"
      ],
      "metadata": {
        "id": "yYNF0uKq1ssR"
      },
      "execution_count": null,
      "outputs": []
    },
    {
      "cell_type": "code",
      "source": [
        "a=25\n",
        "b=30\n",
        "c=a+b\n",
        "print(\"total:\",c)\n",
        "print(type(a))\n",
        "print(id(a))\n",
        "print(id(b))"
      ],
      "metadata": {
        "colab": {
          "base_uri": "https://localhost:8080/"
        },
        "id": "Ma8mhTs2bS-L",
        "outputId": "8a0e159d-3545-443d-fbb5-5a90e5e27e4f"
      },
      "execution_count": null,
      "outputs": [
        {
          "output_type": "stream",
          "name": "stdout",
          "text": [
            "total: 55\n",
            "<class 'int'>\n",
            "11123360\n",
            "11123520\n"
          ]
        }
      ]
    },
    {
      "cell_type": "code",
      "source": [
        "import keyword\n",
        "print(keyword.kwlist)"
      ],
      "metadata": {
        "colab": {
          "base_uri": "https://localhost:8080/"
        },
        "id": "JnKVHcC6fdMF",
        "outputId": "734faa94-fbe7-4d99-c850-cab24715d839"
      },
      "execution_count": null,
      "outputs": [
        {
          "output_type": "stream",
          "name": "stdout",
          "text": [
            "['False', 'None', 'True', 'and', 'as', 'assert', 'async', 'await', 'break', 'class', 'continue', 'def', 'del', 'elif', 'else', 'except', 'finally', 'for', 'from', 'global', 'if', 'import', 'in', 'is', 'lambda', 'nonlocal', 'not', 'or', 'pass', 'raise', 'return', 'try', 'while', 'with', 'yield']\n"
          ]
        }
      ]
    },
    {
      "cell_type": "code",
      "source": [],
      "metadata": {
        "id": "hBjfGuRThu2p"
      },
      "execution_count": null,
      "outputs": []
    },
    {
      "cell_type": "code",
      "source": [
        "name=input(\"enter the name\")\n",
        "print(name)\n",
        "print(type(name))"
      ],
      "metadata": {
        "colab": {
          "base_uri": "https://localhost:8080/"
        },
        "id": "rHl4O1OwgRkg",
        "outputId": "b72e2778-c6ba-4144-f515-3cde73126d8d"
      },
      "execution_count": null,
      "outputs": [
        {
          "output_type": "stream",
          "name": "stdout",
          "text": [
            "enter the nameruthika\n",
            "ruthika\n",
            "<class 'str'>\n"
          ]
        }
      ]
    },
    {
      "cell_type": "code",
      "source": [
        "a=int(input(\"enter the value of a\"))\n",
        "b=int(input(\"enter the value of b\"))\n",
        "c=a+b\n",
        "print(c)\n",
        "print(type(a))"
      ],
      "metadata": {
        "colab": {
          "base_uri": "https://localhost:8080/"
        },
        "id": "MdF-pmU8hCek",
        "outputId": "c5a4bbba-5847-4c3e-fc73-2f48462c750d"
      },
      "execution_count": null,
      "outputs": [
        {
          "output_type": "stream",
          "name": "stdout",
          "text": [
            "enter the value of a2\n",
            "enter the value of b3\n",
            "5\n",
            "<class 'int'>\n"
          ]
        }
      ]
    },
    {
      "cell_type": "code",
      "source": [
        "name1,name2,name3 = input(\"enter 3 names\").split(',')\n",
        "print(\"name1:\",name1)\n",
        "print(\"name2:\",name2)\n",
        "print(\"name3:\",name3)"
      ],
      "metadata": {
        "colab": {
          "base_uri": "https://localhost:8080/",
          "height": 235
        },
        "id": "Q8YagO6DhxRz",
        "outputId": "3c5e3d6a-c77e-4577-ce4e-9a46acb87ffe"
      },
      "execution_count": null,
      "outputs": [
        {
          "name": "stdout",
          "output_type": "stream",
          "text": [
            "enter 3 namesruthika\n"
          ]
        },
        {
          "output_type": "error",
          "ename": "ValueError",
          "evalue": "ignored",
          "traceback": [
            "\u001b[0;31m---------------------------------------------------------------------------\u001b[0m",
            "\u001b[0;31mValueError\u001b[0m                                Traceback (most recent call last)",
            "\u001b[0;32m<ipython-input-16-1affa1471345>\u001b[0m in \u001b[0;36m<module>\u001b[0;34m\u001b[0m\n\u001b[0;32m----> 1\u001b[0;31m \u001b[0mname1\u001b[0m\u001b[0;34m,\u001b[0m\u001b[0mname2\u001b[0m\u001b[0;34m,\u001b[0m\u001b[0mname3\u001b[0m \u001b[0;34m=\u001b[0m \u001b[0minput\u001b[0m\u001b[0;34m(\u001b[0m\u001b[0;34m\"enter 3 names\"\u001b[0m\u001b[0;34m)\u001b[0m\u001b[0;34m.\u001b[0m\u001b[0msplit\u001b[0m\u001b[0;34m(\u001b[0m\u001b[0;34m','\u001b[0m\u001b[0;34m)\u001b[0m\u001b[0;34m\u001b[0m\u001b[0;34m\u001b[0m\u001b[0m\n\u001b[0m\u001b[1;32m      2\u001b[0m \u001b[0mprint\u001b[0m\u001b[0;34m(\u001b[0m\u001b[0;34m\"name1:\"\u001b[0m\u001b[0;34m,\u001b[0m\u001b[0mname1\u001b[0m\u001b[0;34m)\u001b[0m\u001b[0;34m\u001b[0m\u001b[0;34m\u001b[0m\u001b[0m\n\u001b[1;32m      3\u001b[0m \u001b[0mprint\u001b[0m\u001b[0;34m(\u001b[0m\u001b[0;34m\"name2:\"\u001b[0m\u001b[0;34m,\u001b[0m\u001b[0mname2\u001b[0m\u001b[0;34m)\u001b[0m\u001b[0;34m\u001b[0m\u001b[0;34m\u001b[0m\u001b[0m\n\u001b[1;32m      4\u001b[0m \u001b[0mprint\u001b[0m\u001b[0;34m(\u001b[0m\u001b[0;34m\"name3:\"\u001b[0m\u001b[0;34m,\u001b[0m\u001b[0mname3\u001b[0m\u001b[0;34m)\u001b[0m\u001b[0;34m\u001b[0m\u001b[0;34m\u001b[0m\u001b[0m\n",
            "\u001b[0;31mValueError\u001b[0m: not enough values to unpack (expected 3, got 1)"
          ]
        }
      ]
    },
    {
      "cell_type": "code",
      "source": [
        "a=\"\"\"ruhtika manju janani kanishka \"\"\"\n",
        "print(type(a))"
      ],
      "metadata": {
        "colab": {
          "base_uri": "https://localhost:8080/"
        },
        "id": "cf96NsbTi6NF",
        "outputId": "ef1ae01b-5d88-4642-d567-a60a58aea56e"
      },
      "execution_count": null,
      "outputs": [
        {
          "output_type": "stream",
          "name": "stdout",
          "text": [
            "<class 'str'>\n"
          ]
        }
      ]
    },
    {
      "cell_type": "code",
      "source": [
        "para=[]\n",
        "print(type(para))"
      ],
      "metadata": {
        "colab": {
          "base_uri": "https://localhost:8080/"
        },
        "id": "pBnCKunJjWtH",
        "outputId": "f60ccff6-dba6-4eb6-fe30-5ec47a9516ce"
      },
      "execution_count": null,
      "outputs": [
        {
          "output_type": "stream",
          "name": "stdout",
          "text": [
            "<class 'list'>\n"
          ]
        }
      ]
    },
    {
      "cell_type": "code",
      "source": [
        "para=[\"22\",\"24\",\"56\"]\n",
        "print(para[2])\n",
        "print(para)\n",
        "print( ','.join(para))"
      ],
      "metadata": {
        "colab": {
          "base_uri": "https://localhost:8080/"
        },
        "id": "We1mTUTLjpNK",
        "outputId": "7952e9c7-3803-45e7-8ade-e7ec45cf1d6b"
      },
      "execution_count": null,
      "outputs": [
        {
          "output_type": "stream",
          "name": "stdout",
          "text": [
            "56\n",
            "['22', '24', '56']\n",
            "22,24,56\n"
          ]
        }
      ]
    },
    {
      "cell_type": "code",
      "source": [
        "para=[]\n",
        "print(\"enter the para\")\n",
        "while True:\n",
        "  line=input()\n",
        "  if line:\n",
        "    para.append(line)\n",
        "  else:\n",
        "    break\n",
        "print(\"para\")"
      ],
      "metadata": {
        "colab": {
          "base_uri": "https://localhost:8080/"
        },
        "id": "BnPmGtWEkM0n",
        "outputId": "22bcf7e4-2712-48b8-e15a-21e41e50189a"
      },
      "execution_count": null,
      "outputs": [
        {
          "name": "stdout",
          "output_type": "stream",
          "text": [
            "enter the para\n",
            "ruthika jodusudhjmx\n",
            "ndjhdi\n",
            "1\n",
            "\n"
          ]
        }
      ]
    },
    {
      "cell_type": "code",
      "source": [
        "para=[]\n",
        "print(\"enter the para\")\n",
        "while True:\n",
        "  line=input()\n",
        "  if line:\n",
        "    para.append(line)\n",
        "else:\n",
        "     break\n",
        "print(para)\n"
      ],
      "metadata": {
        "id": "D7flKnSKlHE9",
        "colab": {
          "base_uri": "https://localhost:8080/",
          "height": 96
        },
        "outputId": "ab14ecd2-eb54-415d-aac6-3fbd85ac0074"
      },
      "execution_count": null,
      "outputs": [
        {
          "output_type": "error",
          "ename": "SyntaxError",
          "evalue": "ignored",
          "traceback": [
            "\u001b[0;36m  File \u001b[0;32m\"<ipython-input-2-3f1d3146cb7f>\"\u001b[0;36m, line \u001b[0;32m11\u001b[0m\n\u001b[0;31mSyntaxError\u001b[0m\u001b[0;31m:\u001b[0m 'break' outside loop\n"
          ]
        }
      ]
    },
    {
      "cell_type": "code",
      "source": [
        "##typecasting\n",
        "\"\"\"a=10.0\n",
        "print(a)\n",
        "print(type(a))\n",
        "b=int(a)\n",
        "print(b)\"\"\"\n",
        "a=int(input(\"enter the value of a:\"))\n",
        "b=int(input(\"enter the value of b:\"))\n",
        "c=a+b\n",
        "print(\"total:\",(c))\n"
      ],
      "metadata": {
        "colab": {
          "base_uri": "https://localhost:8080/"
        },
        "id": "JajQw8c5Nh5B",
        "outputId": "500f2008-3341-4522-a485-710334636f3c"
      },
      "execution_count": null,
      "outputs": [
        {
          "output_type": "stream",
          "name": "stdout",
          "text": [
            "enter the value of a:20\n",
            "enter the value of b:20\n",
            "total: 40\n"
          ]
        }
      ]
    },
    {
      "cell_type": "code",
      "source": [
        "##string and string function\n",
        "s=\"tutor joe\"\n",
        "print(s)\n",
        "print(type(s))\n",
        "print(s.upper())\n",
        "print(s.lower())\n",
        "print(s.capitalize)\n",
        "print(s.title())\n",
        "print(s.count(\"j\"))\n",
        "print(s.endswith(\"ED\"))\n",
        "print(s.find('o',5))\n",
        "print(s.replace('o','0'))\n",
        "a=\"\"\n",
        "\n"
      ],
      "metadata": {
        "colab": {
          "base_uri": "https://localhost:8080/"
        },
        "id": "911SAkq8P-nW",
        "outputId": "84bc7956-c57d-4c71-ce45-7e89256a8249"
      },
      "execution_count": null,
      "outputs": [
        {
          "output_type": "stream",
          "name": "stdout",
          "text": [
            "tutor joe\n",
            "<class 'str'>\n",
            "TUTOR JOE\n",
            "tutor joe\n",
            "<built-in method capitalize of str object at 0x7fe55493f670>\n",
            "Tutor Joe\n",
            "1\n",
            "False\n",
            "7\n",
            "tut0r j0e\n"
          ]
        }
      ]
    }
  ],
  "metadata": {
    "colab": {
      "collapsed_sections": [],
      "provenance": [],
      "include_colab_link": true
    },
    "kernelspec": {
      "display_name": "Python 3",
      "name": "python3"
    },
    "language_info": {
      "name": "python"
    }
  },
  "nbformat": 4,
  "nbformat_minor": 0
}