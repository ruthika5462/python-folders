{
  "nbformat": 4,
  "nbformat_minor": 0,
  "metadata": {
    "colab": {
      "provenance": [],
      "authorship_tag": "ABX9TyMm2iOskbF9utJ77lIIIKUj",
      "include_colab_link": true
    },
    "kernelspec": {
      "name": "python3",
      "display_name": "Python 3"
    },
    "language_info": {
      "name": "python"
    }
  },
  "cells": [
    {
      "cell_type": "markdown",
      "metadata": {
        "id": "view-in-github",
        "colab_type": "text"
      },
      "source": [
        "<a href=\"https://colab.research.google.com/github/ruthika5462/python-folders/blob/main/oops.ipynb\" target=\"_parent\"><img src=\"https://colab.research.google.com/assets/colab-badge.svg\" alt=\"Open In Colab\"/></a>"
      ]
    },
    {
      "cell_type": "code",
      "execution_count": null,
      "metadata": {
        "colab": {
          "base_uri": "https://localhost:8080/"
        },
        "id": "lYuHZzYGtGkT",
        "outputId": "88b99cb8-9697-4dc0-ce8e-3fea46733744"
      },
      "outputs": [
        {
          "output_type": "stream",
          "name": "stdout",
          "text": [
            "<class 'int'>\n",
            "<class 'type'>\n",
            "True\n",
            "True\n",
            "<class '__main__.car'>\n"
          ]
        }
      ],
      "source": [
        "##class and object\n",
        "class car():\n",
        "  pass\n",
        "a=10\n",
        "print(type(a))\n",
        "print(type(car))\n",
        "swift=car()\n",
        "print(isinstance(swift,car))\n",
        "print(isinstance(a,int))\n",
        "print(type(swift))"
      ]
    },
    {
      "cell_type": "code",
      "source": [
        "##class attributes\n",
        "class student():\n",
        "  name=\"ruthika\"\n",
        "  age=19\n",
        "##getattr method\n",
        "print(getattr(student,'age'))\n",
        "print(getattr(student,'name'))\n",
        "print(getattr(student,'gender','No such attribute found'))\n"
      ],
      "metadata": {
        "colab": {
          "base_uri": "https://localhost:8080/"
        },
        "id": "fsRnByKFxClv",
        "outputId": "6b760b53-65d0-40cf-db4d-179edc72162d"
      },
      "execution_count": null,
      "outputs": [
        {
          "output_type": "stream",
          "name": "stdout",
          "text": [
            "19\n",
            "ruthika\n",
            "No such attribute found\n"
          ]
        }
      ]
    },
    {
      "cell_type": "code",
      "source": [
        "##dot notation\n",
        "print(student.name)\n",
        "print(student.age)\n",
        "##setattr\n",
        "setattr(student,'name','manju')\n",
        "print(student.name)\n",
        "setattr(student,'gender','female')\n",
        "print(student.gender)\n",
        "student.city=\"salem\"\n",
        "print(student.city)\n",
        "print(student.__dict__)\n",
        "delattr(student,\"city\")\n",
        "print(student.__dict__)\n",
        "del student.gender\n",
        "print(student.__dict__)"
      ],
      "metadata": {
        "colab": {
          "base_uri": "https://localhost:8080/"
        },
        "id": "GnE_s0mfx4Kq",
        "outputId": "b94f4197-e58b-486e-f92c-c403b9392a03"
      },
      "execution_count": null,
      "outputs": [
        {
          "output_type": "stream",
          "name": "stdout",
          "text": [
            "manju\n",
            "19\n",
            "manju\n",
            "female\n",
            "salem\n",
            "{'__module__': '__main__', 'name': 'manju', 'age': 19, '__dict__': <attribute '__dict__' of 'student' objects>, '__weakref__': <attribute '__weakref__' of 'student' objects>, '__doc__': None, 'gender': 'female', 'city': 'salem'}\n",
            "{'__module__': '__main__', 'name': 'manju', 'age': 19, '__dict__': <attribute '__dict__' of 'student' objects>, '__weakref__': <attribute '__weakref__' of 'student' objects>, '__doc__': None, 'gender': 'female'}\n",
            "{'__module__': '__main__', 'name': 'manju', 'age': 19, '__dict__': <attribute '__dict__' of 'student' objects>, '__weakref__': <attribute '__weakref__' of 'student' objects>, '__doc__': None}\n"
          ]
        }
      ]
    },
    {
      "cell_type": "code",
      "source": [
        "##instance attribute\n",
        "class user():\n",
        "  course=\"python\"\n",
        "o=user()\n",
        "print(user.__dict__)\n",
        "print(user.course)\n",
        "print(o.__dict__)\n",
        "print(o.course)\n",
        "o.course=\"html\"\n",
        "print(o.course)\n",
        "o2=user()\n",
        "print(o2.course)\n",
        "\n"
      ],
      "metadata": {
        "colab": {
          "base_uri": "https://localhost:8080/"
        },
        "id": "FVjJU6uRzvrv",
        "outputId": "0a93d2d1-8573-42ab-f941-e554fd417cb5"
      },
      "execution_count": null,
      "outputs": [
        {
          "output_type": "stream",
          "name": "stdout",
          "text": [
            "{'__module__': '__main__', 'course': 'python', '__dict__': <attribute '__dict__' of 'user' objects>, '__weakref__': <attribute '__weakref__' of 'user' objects>, '__doc__': None}\n",
            "python\n",
            "{}\n",
            "python\n",
            "html\n",
            "python\n"
          ]
        }
      ]
    },
    {
      "cell_type": "code",
      "source": [
        "##class methods\n",
        "class student:\n",
        "  name =\"ruthika\"\n",
        "  age=19\n",
        "  def printall():\n",
        "    print(\"name:\",student.name)\n",
        "    print(\"name:\",student.age)\n",
        "student.printall()\n",
        "print(student.__dict__)\n",
        "print(getattr(student,\"printall\"))"
      ],
      "metadata": {
        "colab": {
          "base_uri": "https://localhost:8080/"
        },
        "id": "d1H1VkjKNvxL",
        "outputId": "50cd5b7c-a1f5-4b8d-f5b8-44bf5078194a"
      },
      "execution_count": 2,
      "outputs": [
        {
          "output_type": "stream",
          "name": "stdout",
          "text": [
            "name: ruthika\n",
            "name: 19\n",
            "{'__module__': '__main__', 'name': 'ruthika', 'age': 19, 'printall': <function student.printall at 0x7f92631d5680>, '__dict__': <attribute '__dict__' of 'student' objects>, '__weakref__': <attribute '__weakref__' of 'student' objects>, '__doc__': None}\n",
            "<function student.printall at 0x7f92631d5680>\n"
          ]
        }
      ]
    },
    {
      "cell_type": "code",
      "source": [
        "##instance method\n",
        "class student:\n",
        "  name=\"ruthika\"\n",
        "  age=19\n",
        "  gender=\"male\"\n",
        "  def printall(self): ##instance method (object)\n",
        "    print(\"name:\",student.name)\n",
        "    print(\"age:\",student.age)\n",
        "    print(\"gender:\",student.gender)\n",
        "o=student()\n",
        "o.printall()\n"
      ],
      "metadata": {
        "colab": {
          "base_uri": "https://localhost:8080/"
        },
        "id": "hWfo5fO1O5AO",
        "outputId": "bc6b6b92-20c5-4db8-bcef-0409189a0234"
      },
      "execution_count": 9,
      "outputs": [
        {
          "output_type": "stream",
          "name": "stdout",
          "text": [
            "name: ruthika\n",
            "age: 19\n",
            "gender: male\n"
          ]
        }
      ]
    },
    {
      "cell_type": "code",
      "source": [
        "##_init_method\n",
        "class user:\n",
        "  def __init__(self,name):\n",
        "     print(\"call  when new instance created\")\n",
        "     self.name=name\n",
        "\n",
        "     def printall(self):\n",
        "       print(\"name:\",self.name)\n",
        "\n",
        "o1=user(\"ruthika\")\n",
        "\n",
        "o1.printall()\n",
        "print(o1.__dict__)\n",
        "\n"
      ],
      "metadata": {
        "colab": {
          "base_uri": "https://localhost:8080/",
          "height": 252
        },
        "id": "cK-12bmcQcrn",
        "outputId": "d67386ce-0f52-4b00-ba7c-5c810ec1e8c1"
      },
      "execution_count": 14,
      "outputs": [
        {
          "output_type": "stream",
          "name": "stdout",
          "text": [
            "call  when new instance created\n"
          ]
        },
        {
          "output_type": "error",
          "ename": "AttributeError",
          "evalue": "ignored",
          "traceback": [
            "\u001b[0;31m---------------------------------------------------------------------------\u001b[0m",
            "\u001b[0;31mAttributeError\u001b[0m                            Traceback (most recent call last)",
            "\u001b[0;32m<ipython-input-14-4a0312adcb4e>\u001b[0m in \u001b[0;36m<module>\u001b[0;34m\u001b[0m\n\u001b[1;32m     10\u001b[0m \u001b[0mo1\u001b[0m\u001b[0;34m=\u001b[0m\u001b[0muser\u001b[0m\u001b[0;34m(\u001b[0m\u001b[0;34m\"ruthika\"\u001b[0m\u001b[0;34m)\u001b[0m\u001b[0;34m\u001b[0m\u001b[0;34m\u001b[0m\u001b[0m\n\u001b[1;32m     11\u001b[0m \u001b[0;34m\u001b[0m\u001b[0m\n\u001b[0;32m---> 12\u001b[0;31m \u001b[0mo1\u001b[0m\u001b[0;34m.\u001b[0m\u001b[0mprintall\u001b[0m\u001b[0;34m(\u001b[0m\u001b[0;34m)\u001b[0m\u001b[0;34m\u001b[0m\u001b[0;34m\u001b[0m\u001b[0m\n\u001b[0m\u001b[1;32m     13\u001b[0m \u001b[0mprint\u001b[0m\u001b[0;34m(\u001b[0m\u001b[0mo1\u001b[0m\u001b[0;34m.\u001b[0m\u001b[0m__dict__\u001b[0m\u001b[0;34m)\u001b[0m\u001b[0;34m\u001b[0m\u001b[0;34m\u001b[0m\u001b[0m\n\u001b[1;32m     14\u001b[0m \u001b[0;34m\u001b[0m\u001b[0m\n",
            "\u001b[0;31mAttributeError\u001b[0m: 'user' object has no attribute 'printall'"
          ]
        }
      ]
    },
    {
      "cell_type": "code",
      "source": [
        "##property decarator\n",
        "class user:\n",
        "     def __init__(self,name,age):\n",
        "       self.name=name\n",
        "       self.age=age\n",
        "       self.msg=self.name+\"is \"+str(self.age) +\"years old\"\n",
        "       @property\n",
        "       def msg(self):\n",
        "         return self.name+\"is \"+str(self.age) +\"years old\"\n",
        "o=user(\"tutor joes\",25)\n",
        "print(o.name)\n",
        "print(o.age)\n",
        "print(o.msg)\n",
        "o.age=45\n",
        "print(o.msg)"
      ],
      "metadata": {
        "colab": {
          "base_uri": "https://localhost:8080/"
        },
        "id": "gGkKyUzbZTCN",
        "outputId": "da58b4d6-4f51-46a2-ee33-ebc78d6c45be"
      },
      "execution_count": 21,
      "outputs": [
        {
          "output_type": "stream",
          "name": "stdout",
          "text": [
            "tutor joes\n",
            "25\n",
            "tutor joesis 25years old\n",
            "tutor joesis 25years old\n"
          ]
        }
      ]
    },
    {
      "cell_type": "code",
      "source": [
        "##property decarator getter and setter\n",
        "class student:\n",
        "  def __init__(self,total):\n",
        "    self._total=total\n",
        "  def average(self):\n",
        "    return self.total/5.0\n",
        "  @property  ##getter\n",
        "  def total(self):\n",
        "    return self._total\n",
        "  @total.setter\n",
        "  def total(self,t):\n",
        "    self._total = t\n",
        "o=student(450)\n",
        "print(\"total:\",o.total)\n",
        "print(\"average:\",o.average())\n",
        "o.total = 250\n",
        "print(\"total:\",o.total)\n",
        "print(\"average:\",o.average)"
      ],
      "metadata": {
        "colab": {
          "base_uri": "https://localhost:8080/"
        },
        "id": "987-X7Qqa0O9",
        "outputId": "2738a450-b684-4094-cce7-ec63ce0be4a2"
      },
      "execution_count": 24,
      "outputs": [
        {
          "output_type": "stream",
          "name": "stdout",
          "text": [
            "total: 450\n",
            "average: 90.0\n",
            "total: 250\n",
            "average: <bound method student.average of <__main__.student object at 0x7f9263135150>>\n"
          ]
        }
      ]
    },
    {
      "cell_type": "code",
      "source": [
        "class nokia:\n",
        "  company = \"nokia india\"\n",
        "  website = \"www.nokia-india.com\"\n",
        "  def contact_details(self):\n",
        "    print(\"Address:cherry road,nearbusstand,salem\")\n",
        "class nokia1100(nokia):\n",
        "  def __init__(self):\n",
        "    self.name = \"nokia 1100\"\n",
        "    self.year = 1998\n",
        "  def product_details(self):\n",
        "    print(\"name:\",self.name)\n",
        "    print(\"year :\",self.year)\n",
        "    print(\"company:\",self.company)\n",
        "    print(\"website:\",self.website)\n",
        "mobile = nokia1100()\n",
        "mobile.product_details()\n",
        "mobile.contact_details()"
      ],
      "metadata": {
        "colab": {
          "base_uri": "https://localhost:8080/"
        },
        "id": "LXSqNyZXd9u-",
        "outputId": "a9b5f5e1-6523-4580-d8a8-aa8e4dc2dbdb"
      },
      "execution_count": 26,
      "outputs": [
        {
          "output_type": "stream",
          "name": "stdout",
          "text": [
            "name: nokia 1100\n",
            "year : 1998\n",
            "company: nokia india\n",
            "website: www.nokia-india.com\n",
            "Address:cherry road,nearbusstand,salem\n"
          ]
        }
      ]
    },
    {
      "cell_type": "code",
      "source": [
        "#multiple inheritance\n",
        "class Father:\n",
        "    def fishing(self):\n",
        "      print(\"fishing in rivers\")\n",
        "    def chess(self):\n",
        "      print(\"playing chess from father\")\n",
        "class mother:\n",
        "    def cooking(self):\n",
        "      print(\"cooking food\")\n",
        "    def chess(self):\n",
        "      print(\"playing chess from mother\")\n",
        "class son(Father,mother):\n",
        "  def ride(self):\n",
        "    print(\"riding bicycle\")\n",
        "o=son()\n",
        "o.ride()\n",
        "o.fishing()\n",
        "o.cooking()\n",
        "o.chess()\n"
      ],
      "metadata": {
        "colab": {
          "base_uri": "https://localhost:8080/"
        },
        "id": "oQoJqgbnlcdm",
        "outputId": "7d177d1a-73e2-4299-d0ca-e5562852d482"
      },
      "execution_count": 28,
      "outputs": [
        {
          "output_type": "stream",
          "name": "stdout",
          "text": [
            "riding bicycle\n",
            "fishing in rivers\n",
            "cooking food\n",
            "playing chess from father\n"
          ]
        }
      ]
    },
    {
      "cell_type": "code",
      "source": [
        "##multilevel inheritance\n",
        "class grandfather:\n",
        "    def ownhouse(self):\n",
        "      print(\"grandpa house\")\n",
        "class father(grandfather):\n",
        "    def ownbike(self):\n",
        "      print(\"father's bike\")\n",
        "class son(father):\n",
        "    def ownbook(self):\n",
        "      print(\"son have own book\")\n",
        "o=son()\n",
        "o.ownhouse()\n",
        "o.ownbike()\n",
        "o.ownbook()"
      ],
      "metadata": {
        "colab": {
          "base_uri": "https://localhost:8080/"
        },
        "id": "bxeP77g5nLKj",
        "outputId": "7fdbd776-6cf5-4849-b704-b5494c266183"
      },
      "execution_count": 29,
      "outputs": [
        {
          "output_type": "stream",
          "name": "stdout",
          "text": [
            "grandpa house\n",
            "father's bike\n",
            "son have own book\n"
          ]
        }
      ]
    },
    {
      "cell_type": "code",
      "source": [
        "##function overriding\n",
        "class employee:\n",
        "    def workinghrs(self):\n",
        "      self.hrs=50\n",
        "\n",
        "    def printhrs(self):\n",
        "      print(\"total working hrs:\",self.hrs)\n",
        "\n",
        "class trainee(employee):\n",
        "    def workinghrs(self):\n",
        "      self.hrs=60\n",
        "\n",
        "      def resethrs(self):\n",
        "        super().workinghours()\n",
        "employee = employee()\n",
        "employee.workinghrs()\n",
        "employee.printhrs()\n",
        "\n",
        "\n",
        "trainee=trainee()\n",
        "trainee.workinghrs()\n",
        "trainee.printhrs()\n",
        "\n"
      ],
      "metadata": {
        "colab": {
          "base_uri": "https://localhost:8080/"
        },
        "id": "S6E3jT45ooWP",
        "outputId": "56714d36-96b0-497d-f203-e64792b3654e"
      },
      "execution_count": 34,
      "outputs": [
        {
          "output_type": "stream",
          "name": "stdout",
          "text": [
            "total working hrs: 50\n",
            "total working hrs: 60\n"
          ]
        }
      ]
    },
    {
      "cell_type": "code",
      "source": [],
      "metadata": {
        "id": "u3bvssoxsn7_"
      },
      "execution_count": null,
      "outputs": []
    }
  ]
}