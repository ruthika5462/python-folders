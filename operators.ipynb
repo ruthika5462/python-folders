{
  "nbformat": 4,
  "nbformat_minor": 0,
  "metadata": {
    "colab": {
      "provenance": [],
      "authorship_tag": "ABX9TyNrkN2RHyzN5z3GXO6p8+V9",
      "include_colab_link": true
    },
    "kernelspec": {
      "name": "python3",
      "display_name": "Python 3"
    },
    "language_info": {
      "name": "python"
    }
  },
  "cells": [
    {
      "cell_type": "markdown",
      "metadata": {
        "id": "view-in-github",
        "colab_type": "text"
      },
      "source": [
        "<a href=\"https://colab.research.google.com/github/ruthika5462/python-folders/blob/main/operators.ipynb\" target=\"_parent\"><img src=\"https://colab.research.google.com/assets/colab-badge.svg\" alt=\"Open In Colab\"/></a>"
      ]
    },
    {
      "cell_type": "code",
      "execution_count": 3,
      "metadata": {
        "colab": {
          "base_uri": "https://localhost:8080/"
        },
        "id": "ifJ6TEsLY1IO",
        "outputId": "852d62ce-d359-4404-e1d4-357e35f08f8d"
      },
      "outputs": [
        {
          "output_type": "stream",
          "name": "stdout",
          "text": [
            "140518774827280\n",
            "140518774827280\n",
            "True\n",
            "False\n",
            "True\n",
            "False\n",
            "True\n",
            "False\n"
          ]
        }
      ],
      "source": [
        "\n",
        "#identity operators\n",
        "##is\n",
        "##is not\n",
        "a=[1,2]\n",
        "b=[1,2]\n",
        "c=a\n",
        "print(id(a))\n",
        "print(id(c))\n",
        "print(a is c)\n",
        "print( a is b)\n",
        "print(a==b)\n",
        "print(a is not c)\n",
        "print(a is not b)\n",
        "print(a!=b)"
      ]
    },
    {
      "cell_type": "code",
      "source": [
        "##membership operators\n",
        "a=[10,25,45,88]\n",
        "print(45 in a)\n",
        "print(22 in a)\n",
        "print(22 not in a)\n"
      ],
      "metadata": {
        "colab": {
          "base_uri": "https://localhost:8080/"
        },
        "id": "2pZM2Co7ZzZa",
        "outputId": "31996206-8048-4a8b-99ce-e610a2570592"
      },
      "execution_count": 6,
      "outputs": [
        {
          "output_type": "stream",
          "name": "stdout",
          "text": [
            "True\n",
            "False\n",
            "True\n"
          ]
        }
      ]
    },
    {
      "cell_type": "code",
      "source": [
        "##functions\n",
        "def welcome():\n",
        "  print(\"welcome to tutor joe\")\n",
        "welcome()\n",
        "welcome()\n",
        "welcome()"
      ],
      "metadata": {
        "colab": {
          "base_uri": "https://localhost:8080/"
        },
        "id": "z04ksRGvaRlP",
        "outputId": "aa6ebfb9-18fa-47b2-ff6a-402b874355b3"
      },
      "execution_count": 7,
      "outputs": [
        {
          "output_type": "stream",
          "name": "stdout",
          "text": [
            "welcome to tutor joe\n",
            "welcome to tutor joe\n",
            "welcome to tutor joe\n"
          ]
        }
      ]
    },
    {
      "cell_type": "code",
      "source": [
        "#no returntype without argument function in python\n",
        "def add():\n",
        "  a=int(input(\"enter the value of a:\"))\n",
        "  b=int(input(\"enter thee value of b\"))\n",
        "  c=a+b\n",
        "  print(\"total\",c)\n",
        "add()"
      ],
      "metadata": {
        "colab": {
          "base_uri": "https://localhost:8080/"
        },
        "id": "6G0yepkianbB",
        "outputId": "6f85e2a5-6acd-4a04-dc4c-24837ff7f780"
      },
      "execution_count": 8,
      "outputs": [
        {
          "output_type": "stream",
          "name": "stdout",
          "text": [
            "enter the value of a:10\n",
            "enter thee value of b20\n",
            "total 30\n"
          ]
        }
      ]
    },
    {
      "cell_type": "code",
      "source": [
        "#no return with argument\n",
        "def sub(a,b):\n",
        "  c=a-b\n",
        "  print(\"diffrence:\",c)\n",
        "sub(25,2)"
      ],
      "metadata": {
        "colab": {
          "base_uri": "https://localhost:8080/"
        },
        "id": "r7sOP3ZObF0H",
        "outputId": "c010c63b-babf-4b42-de0b-0b26ddd5b11d"
      },
      "execution_count": 9,
      "outputs": [
        {
          "output_type": "stream",
          "name": "stdout",
          "text": [
            "diffrence: 23\n"
          ]
        }
      ]
    },
    {
      "cell_type": "code",
      "source": [
        "##return type without argument\n",
        "def mul():\n",
        "  a=int(input(\"enter the value of a:\"))\n",
        "  b=int(input(\"enter the value of b:\"))\n",
        "  c=a*b\n",
        "  return c\n",
        "x=mul()\n",
        "print(\"Mul\",x)"
      ],
      "metadata": {
        "colab": {
          "base_uri": "https://localhost:8080/"
        },
        "id": "PQJ8jwQVbZPS",
        "outputId": "9475e8a4-e7aa-44cf-c6fd-2e052351c81e"
      },
      "execution_count": 10,
      "outputs": [
        {
          "output_type": "stream",
          "name": "stdout",
          "text": [
            "enter the value of a:23\n",
            "enter the value of b:45\n",
            "Mul 1035\n"
          ]
        }
      ]
    },
    {
      "cell_type": "code",
      "source": [
        "##return type with argument\n",
        "def div(a,b):\n",
        "  c=a-b\n",
        "  return c\n",
        "x=div(25,2)\n",
        "print(\"division\",x)"
      ],
      "metadata": {
        "colab": {
          "base_uri": "https://localhost:8080/"
        },
        "id": "ZU4fvHC1b08z",
        "outputId": "10b9ae7f-da42-4b9e-a65e-3d1e00a98779"
      },
      "execution_count": 12,
      "outputs": [
        {
          "output_type": "stream",
          "name": "stdout",
          "text": [
            "division 23\n"
          ]
        }
      ]
    },
    {
      "cell_type": "code",
      "source": [
        "##arbitary argument(**)\n",
        "def class_10(*students):\n",
        "  print(students)\n",
        "  for user in students:\n",
        "    print(user)\n",
        "class_10(\"Ram\",\"sam\",\"raja\",\"sara\")\n"
      ],
      "metadata": {
        "colab": {
          "base_uri": "https://localhost:8080/"
        },
        "id": "gdX9VJaUcNG5",
        "outputId": "7d45ccbc-bc52-4188-84b1-ddb0a7e99d81"
      },
      "execution_count": 13,
      "outputs": [
        {
          "output_type": "stream",
          "name": "stdout",
          "text": [
            "('Ram', 'sam', 'raja', 'sara')\n",
            "Ram\n",
            "sam\n",
            "raja\n",
            "sara\n"
          ]
        }
      ]
    },
    {
      "cell_type": "code",
      "source": [
        "##keyword  function\n",
        "def message(name,age):\n",
        "  print(name,\"age is\",age)\n",
        "message(age=25,name=\"Ram\")\n"
      ],
      "metadata": {
        "colab": {
          "base_uri": "https://localhost:8080/"
        },
        "id": "ukK6GGN6cp4U",
        "outputId": "574d2815-3245-4316-ce6b-d5b52fa4457f"
      },
      "execution_count": 15,
      "outputs": [
        {
          "output_type": "stream",
          "name": "stdout",
          "text": [
            "Ram age is 25\n"
          ]
        }
      ]
    },
    {
      "cell_type": "code",
      "source": [
        "##arbitary keyword function\n",
        "def biodata(**data):\n",
        "  print(data)\n",
        "biodata(name=\"Ram kumar\",age=25,gender=\"male\")"
      ],
      "metadata": {
        "colab": {
          "base_uri": "https://localhost:8080/"
        },
        "id": "N1IcYkC5doYS",
        "outputId": "42a1e155-23a3-4bc9-ce55-c779af799756"
      },
      "execution_count": 16,
      "outputs": [
        {
          "output_type": "stream",
          "name": "stdout",
          "text": [
            "{'name': 'Ram kumar', 'age': 25, 'gender': 'male'}\n"
          ]
        }
      ]
    },
    {
      "cell_type": "code",
      "source": [
        "##default parameter function\n",
        "def user(name,city=\"salem\"):\n",
        "     print(name,\"is from\",city)\n",
        "user(\"ram\",\"namakkal\")\n",
        "user(\"sam\")"
      ],
      "metadata": {
        "colab": {
          "base_uri": "https://localhost:8080/"
        },
        "id": "rnvzX7j-eW7A",
        "outputId": "8022774d-338c-421c-f869-dcbda6bdec17"
      },
      "execution_count": 17,
      "outputs": [
        {
          "output_type": "stream",
          "name": "stdout",
          "text": [
            "ram is from namakkal\n",
            "sam is from salem\n"
          ]
        }
      ]
    },
    {
      "cell_type": "code",
      "source": [
        "##passing a list as argument in function\n",
        "def total (marks):\n",
        "  return sum(marks)\n",
        "print(total([56,78,90,34,67,89]))"
      ],
      "metadata": {
        "colab": {
          "base_uri": "https://localhost:8080/"
        },
        "id": "PwQkVqMUe1Ed",
        "outputId": "6c6ca1a2-161a-4136-8faf-5ec115e8fce4"
      },
      "execution_count": 19,
      "outputs": [
        {
          "output_type": "stream",
          "name": "stdout",
          "text": [
            "414\n"
          ]
        }
      ]
    },
    {
      "cell_type": "code",
      "source": [
        "##recursive function\n",
        "def factorial(x):\n",
        "    if x==1:\n",
        "      return 1\n",
        "    else:\n",
        "      return(x*factorial(x-1))\n",
        "print(\"factorial:\",factorial(5))"
      ],
      "metadata": {
        "colab": {
          "base_uri": "https://localhost:8080/"
        },
        "id": "elDu5nWlfWok",
        "outputId": "87b11b10-82a1-434c-a690-6c09b1aeaa1a"
      },
      "execution_count": 22,
      "outputs": [
        {
          "output_type": "stream",
          "name": "stdout",
          "text": [
            "factorial: 120\n"
          ]
        }
      ]
    },
    {
      "cell_type": "code",
      "source": [
        "##lambda function\n",
        "c=lambda a:a+50\n",
        "print(c(5))\n",
        "c=lambda a,b:a*b\n",
        "print(c(10,25))"
      ],
      "metadata": {
        "colab": {
          "base_uri": "https://localhost:8080/"
        },
        "id": "uu3bFouOgSD1",
        "outputId": "18b8fb4f-8fc8-4af3-b5b9-2e8a5bce7051"
      },
      "execution_count": 24,
      "outputs": [
        {
          "output_type": "stream",
          "name": "stdout",
          "text": [
            "55\n",
            "250\n"
          ]
        }
      ]
    },
    {
      "cell_type": "code",
      "source": [
        "from pickle import DICT\n",
        "##data time function\n",
        "import datetime as dt\n",
        "current_date=dt.date.today()\n",
        "print(\"current date:\",current_date)\n",
        "new=dt.date(2022,11,30)\n",
        "print(new)\n",
        "print(\"year:\",new.year)\n",
        "print(\"month:\",new.month)\n",
        "print(\"day:\",new.day)\n",
        "print(\"_______________________\")\n",
        "a=dt.time(10,45,5,555505)\n",
        "print(a)\n",
        "print(\"hour:\",a.hour)\n",
        "print(\"minute:\",a.minute)\n",
        "print(\"second:\",a.second)\n",
        "current_time=dt.datetime.now()\n",
        "print(\"current time:\",current_time)\n",
        "print(\"__________________________\")\n",
        "new=dt.datetime(2021,5,31,12,2,10)\n",
        "print(new)\n",
        "print(new.date())\n",
        "print(new.time())\n",
        "print(\"______________________\")\n",
        "current=dt.datetime.now()\n",
        "print(current)\n",
        "s=current.strftime(\"%a %b %d %y\")\n",
        "print(s)\n",
        "\n"
      ],
      "metadata": {
        "colab": {
          "base_uri": "https://localhost:8080/"
        },
        "id": "sqjJgqtYgvPO",
        "outputId": "33e00778-c844-40cb-8a2f-50ab7d57257f"
      },
      "execution_count": 34,
      "outputs": [
        {
          "output_type": "stream",
          "name": "stdout",
          "text": [
            "current date: 2022-10-30\n",
            "2022-11-30\n",
            "year: 2022\n",
            "month: 11\n",
            "day: 30\n",
            "_______________________\n",
            "10:45:05.555505\n",
            "hour: 10\n",
            "minute: 45\n",
            "second: 5\n",
            "current time: 2022-10-30 01:49:32.008413\n",
            "__________________________\n",
            "2021-05-31 12:02:10\n",
            "2021-05-31\n",
            "12:02:10\n",
            "______________________\n",
            "2022-10-30 01:49:32.015674\n",
            "Sun Oct 30 22\n"
          ]
        }
      ]
    },
    {
      "cell_type": "code",
      "source": [
        "import math\n",
        "print(math.sqrt(4))\n",
        "print(math.ceil(1.55555))\n",
        "print(math.floor(1.55555))\n",
        "print(math.factorial(5))\n",
        "print(math.fabs(-5))\n",
        "print(math.pow(2,4))\n",
        "print(math.log2(2))\n",
        "print(math.log10(2))\n",
        "print(math.pi)\n",
        "print(math.e)"
      ],
      "metadata": {
        "colab": {
          "base_uri": "https://localhost:8080/"
        },
        "id": "x2QbzkIOnW9S",
        "outputId": "f9543b79-74b4-4feb-ef4d-3c9955f336c6"
      },
      "execution_count": 46,
      "outputs": [
        {
          "output_type": "stream",
          "name": "stdout",
          "text": [
            "2.0\n",
            "2\n",
            "1\n",
            "120\n",
            "5.0\n",
            "16.0\n",
            "1.0\n",
            "0.3010299956639812\n",
            "3.141592653589793\n",
            "2.718281828459045\n"
          ]
        }
      ]
    },
    {
      "cell_type": "code",
      "source": [
        "##try block\n",
        "try:\n",
        "     a=10/0\n",
        "except Exception as e:\n",
        "   print(e)"
      ],
      "metadata": {
        "colab": {
          "base_uri": "https://localhost:8080/"
        },
        "id": "ATMVgdt7oZhD",
        "outputId": "c47cb6d2-d2db-42b6-a771-571649b3f8c0"
      },
      "execution_count": 48,
      "outputs": [
        {
          "output_type": "stream",
          "name": "stdout",
          "text": [
            "division by zero\n"
          ]
        }
      ]
    },
    {
      "cell_type": "code",
      "source": [
        "##try else block\n",
        "try:\n",
        "       a=10/25\n",
        "except Exception as e:\n",
        "        print(e)\n",
        "else:\n",
        "  print(\"A value:\",a)"
      ],
      "metadata": {
        "colab": {
          "base_uri": "https://localhost:8080/"
        },
        "id": "O0LjArNHo9EC",
        "outputId": "bfd49aeb-8cda-4f33-83f4-42d6373fcf69"
      },
      "execution_count": 50,
      "outputs": [
        {
          "output_type": "stream",
          "name": "stdout",
          "text": [
            "A value: 0.4\n"
          ]
        }
      ]
    },
    {
      "cell_type": "code",
      "source": [
        "##try except else finally\n",
        "try:\n",
        "       a=10/25\n",
        "except Exception as e:\n",
        "        print(e)\n",
        "else:\n",
        "  print(\"A value:\",a)\n",
        "finally:\n",
        "  print(\"thankyou\")"
      ],
      "metadata": {
        "id": "5J8Q8qh7pYSd",
        "outputId": "9b36e21c-bdcc-4262-df5e-56f4c0240ad6",
        "colab": {
          "base_uri": "https://localhost:8080/"
        }
      },
      "execution_count": 52,
      "outputs": [
        {
          "output_type": "stream",
          "name": "stdout",
          "text": [
            "A value: 0.4\n",
            "thankyou\n"
          ]
        }
      ]
    },
    {
      "cell_type": "code",
      "source": [
        "##types of exception\n",
        "print(dir(locals()['__builtins__']))\n",
        "print(len(dir(locals()['__builtins__'])))\n",
        "try:\n",
        "  f=open(\"test.txt\")\n",
        "except FileNotFoundError:\n",
        "  print(\"file not found\")\n",
        "else:\n",
        "  print(f.read())\n"
      ],
      "metadata": {
        "id": "QgH2U6aSpwOv",
        "outputId": "9dddbad8-b7b2-43b4-c80b-297d86ba2918",
        "colab": {
          "base_uri": "https://localhost:8080/"
        }
      },
      "execution_count": 54,
      "outputs": [
        {
          "output_type": "stream",
          "name": "stdout",
          "text": [
            "['ArithmeticError', 'AssertionError', 'AttributeError', 'BaseException', 'BlockingIOError', 'BrokenPipeError', 'BufferError', 'BytesWarning', 'ChildProcessError', 'ConnectionAbortedError', 'ConnectionError', 'ConnectionRefusedError', 'ConnectionResetError', 'DeprecationWarning', 'EOFError', 'Ellipsis', 'EnvironmentError', 'Exception', 'False', 'FileExistsError', 'FileNotFoundError', 'FloatingPointError', 'FutureWarning', 'GeneratorExit', 'IOError', 'ImportError', 'ImportWarning', 'IndentationError', 'IndexError', 'InterruptedError', 'IsADirectoryError', 'KeyError', 'KeyboardInterrupt', 'LookupError', 'MemoryError', 'ModuleNotFoundError', 'NameError', 'None', 'NotADirectoryError', 'NotImplemented', 'NotImplementedError', 'OSError', 'OverflowError', 'PendingDeprecationWarning', 'PermissionError', 'ProcessLookupError', 'RecursionError', 'ReferenceError', 'ResourceWarning', 'RuntimeError', 'RuntimeWarning', 'StopAsyncIteration', 'StopIteration', 'SyntaxError', 'SyntaxWarning', 'SystemError', 'SystemExit', 'TabError', 'TimeoutError', 'True', 'TypeError', 'UnboundLocalError', 'UnicodeDecodeError', 'UnicodeEncodeError', 'UnicodeError', 'UnicodeTranslateError', 'UnicodeWarning', 'UserWarning', 'ValueError', 'Warning', 'ZeroDivisionError', '__IPYTHON__', '__build_class__', '__debug__', '__doc__', '__import__', '__loader__', '__name__', '__package__', '__spec__', 'abs', 'all', 'any', 'ascii', 'bin', 'bool', 'breakpoint', 'bytearray', 'bytes', 'callable', 'chr', 'classmethod', 'compile', 'complex', 'copyright', 'credits', 'delattr', 'dict', 'dir', 'display', 'divmod', 'enumerate', 'eval', 'exec', 'execfile', 'filter', 'float', 'format', 'frozenset', 'get_ipython', 'getattr', 'globals', 'hasattr', 'hash', 'help', 'hex', 'id', 'input', 'int', 'isinstance', 'issubclass', 'iter', 'len', 'license', 'list', 'locals', 'map', 'max', 'memoryview', 'min', 'next', 'object', 'oct', 'open', 'ord', 'pow', 'print', 'property', 'range', 'repr', 'reversed', 'round', 'runfile', 'set', 'setattr', 'slice', 'sorted', 'staticmethod', 'str', 'sum', 'super', 'tuple', 'type', 'vars', 'zip']\n",
            "155\n",
            "file not found\n"
          ]
        }
      ]
    }
  ]
}