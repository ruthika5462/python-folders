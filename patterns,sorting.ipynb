{
  "nbformat": 4,
  "nbformat_minor": 0,
  "metadata": {
    "colab": {
      "provenance": [],
      "authorship_tag": "ABX9TyPMaJXyDcWbaYBR22G95rhu",
      "include_colab_link": true
    },
    "kernelspec": {
      "name": "python3",
      "display_name": "Python 3"
    },
    "language_info": {
      "name": "python"
    }
  },
  "cells": [
    {
      "cell_type": "markdown",
      "metadata": {
        "id": "view-in-github",
        "colab_type": "text"
      },
      "source": [
        "<a href=\"https://colab.research.google.com/github/ruthika5462/python-folders/blob/main/patterns%2Csorting.ipynb\" target=\"_parent\"><img src=\"https://colab.research.google.com/assets/colab-badge.svg\" alt=\"Open In Colab\"/></a>"
      ]
    },
    {
      "cell_type": "code",
      "execution_count": 4,
      "metadata": {
        "colab": {
          "base_uri": "https://localhost:8080/"
        },
        "id": "VVCyIqCmwP5I",
        "outputId": "60518860-aaa6-46ae-d3db-454f6fd4d8eb"
      },
      "outputs": [
        {
          "output_type": "stream",
          "name": "stdout",
          "text": [
            "enter the number of rows:4\n",
            "* \n",
            "* * \n",
            "* * * \n",
            "* * * * \n"
          ]
        }
      ],
      "source": [
        "num=int(input(\"enter the number of rows:\"))\n",
        "row=0\n",
        "while row<num:\n",
        "   star=row+1\n",
        "   while star>0:\n",
        "      print(\"*\",end=\" \")\n",
        "      star=star-1\n",
        "   row = row+1\n",
        "   print()\n",
        "\n"
      ]
    },
    {
      "cell_type": "code",
      "source": [
        "num=int(input(\"enter the number of rows:\"))\n",
        "row = 0\n",
        "while row<num: ##enter num less than num excecute 0<4\n",
        "  space=num-row-1\n",
        "  while space>0:\n",
        "    print(end=\" \")\n",
        "    space=space-1\n",
        "  star=row+1\n",
        "  while star>0:\n",
        "    print(\"*\",end=\" \")\n",
        "    star=star-1\n",
        "    row=row+1  ##to increment row value\n",
        "print()"
      ],
      "metadata": {
        "colab": {
          "base_uri": "https://localhost:8080/"
        },
        "id": "TK_eK8-7y57-",
        "outputId": "500fd024-0275-4b6d-9eaf-b2d7c9005371"
      },
      "execution_count": 36,
      "outputs": [
        {
          "output_type": "stream",
          "name": "stdout",
          "text": [
            "enter the number of rows:5\n",
            "    *    * *  * * * * \n"
          ]
        }
      ]
    },
    {
      "cell_type": "code",
      "source": [
        "for  row in range(7):\n",
        "  for col in range(7):\n",
        "     if row+col==3 or col-row==2 or row-col==3 or row+col==9:\n",
        "       print(\"*\",end=\" \")\n",
        "     else:\n",
        "         print(end=\" \")\n",
        "  print()  \n",
        "      "
      ],
      "metadata": {
        "colab": {
          "base_uri": "https://localhost:8080/"
        },
        "id": "EN_1QOKw4KQe",
        "outputId": "a01a4ae7-20b4-49e7-aa1b-c9ede7e4c2ba"
      },
      "execution_count": 19,
      "outputs": [
        {
          "output_type": "stream",
          "name": "stdout",
          "text": [
            "  * *    \n",
            "  * *    \n",
            " *   *   \n",
            "*     * * \n",
            " *    * * \n",
            "  *  *   \n",
            "   *    \n"
          ]
        }
      ]
    },
    {
      "cell_type": "code",
      "source": [
        "##reverse a string\n",
        "def reverse(string): ##entered input\n",
        "  reversed_string=\"\"  ##to store output\n",
        "  for i in string:  \n",
        "    reversed_string=i+reversed_string \n",
        "  print(\"reversed string is:\",reversed_string)\n",
        "string=input(\"enter a string:\")\n",
        "print(\"entered string\",string)\n",
        "reverse(string)"
      ],
      "metadata": {
        "colab": {
          "base_uri": "https://localhost:8080/"
        },
        "id": "dXYcHhqo9A2D",
        "outputId": "2f7951e5-ed22-4023-8ff5-4c7d8d9a32b9"
      },
      "execution_count": 21,
      "outputs": [
        {
          "output_type": "stream",
          "name": "stdout",
          "text": [
            "enter a string:ruthika\n",
            "entered string ruthika\n",
            "reversed string is: akihtur\n"
          ]
        }
      ]
    },
    {
      "cell_type": "code",
      "source": [
        "##gcd of two numbers\n",
        "import math\n",
        "math.gcd(4,18)\n"
      ],
      "metadata": {
        "colab": {
          "base_uri": "https://localhost:8080/"
        },
        "id": "Wxed882tBpjH",
        "outputId": "4b20ba4c-a75c-4f9c-c23d-2bcd066dadb5"
      },
      "execution_count": 25,
      "outputs": [
        {
          "output_type": "execute_result",
          "data": {
            "text/plain": [
              "2"
            ]
          },
          "metadata": {},
          "execution_count": 25
        }
      ]
    },
    {
      "cell_type": "code",
      "source": [
        "def computeGCD(a,b):\n",
        "  if b==0:\n",
        "    return a\n",
        "  else:\n",
        "    return computeGCD(b,a%b)\n",
        "num1=int(input(\"enter the first number:\")) \n",
        "num2=int(input(\"enter the second number:\")) \n",
        "print(computeGCD(num1,num2)) "
      ],
      "metadata": {
        "colab": {
          "base_uri": "https://localhost:8080/"
        },
        "id": "DDZTMjG8GZRU",
        "outputId": "06201040-8b5a-4bc1-9a40-7aa59f5d4093"
      },
      "execution_count": 26,
      "outputs": [
        {
          "output_type": "stream",
          "name": "stdout",
          "text": [
            "enter the first number:64\n",
            "enter the second number:48\n",
            "16\n"
          ]
        }
      ]
    },
    {
      "cell_type": "code",
      "source": [
        "x=None ##anything empty is called as false [],(),{},0\n",
        "if x:\n",
        "  print(x,\"True\")\n",
        "else:\n",
        "  print(x,\"False\")"
      ],
      "metadata": {
        "colab": {
          "base_uri": "https://localhost:8080/"
        },
        "id": "IwcugSokImZq",
        "outputId": "08399958-7dfc-4a92-95db-5644fa1b4626"
      },
      "execution_count": 31,
      "outputs": [
        {
          "output_type": "stream",
          "name": "stdout",
          "text": [
            "None False\n"
          ]
        }
      ]
    },
    {
      "cell_type": "code",
      "source": [
        "p=(1,10)\n",
        "q=0\n",
        "r=[]\n",
        "if p or q and r:  ##precedence f-f=f,p=true or output true\n",
        "  print(\"True\")\n",
        "else:\n",
        "  print(\"False\")"
      ],
      "metadata": {
        "colab": {
          "base_uri": "https://localhost:8080/"
        },
        "id": "rqpBkm1CI8a0",
        "outputId": "f8a56bba-ddb2-4286-e1aa-d6cdc31902ce"
      },
      "execution_count": 32,
      "outputs": [
        {
          "output_type": "stream",
          "name": "stdout",
          "text": [
            "True\n"
          ]
        }
      ]
    },
    {
      "cell_type": "code",
      "source": [],
      "metadata": {
        "id": "CN867Ep-KyqQ"
      },
      "execution_count": null,
      "outputs": []
    }
  ]
}