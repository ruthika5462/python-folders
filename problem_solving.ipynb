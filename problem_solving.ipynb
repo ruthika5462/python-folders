{
  "nbformat": 4,
  "nbformat_minor": 0,
  "metadata": {
    "colab": {
      "provenance": [],
      "collapsed_sections": [],
      "authorship_tag": "ABX9TyNQNHOV18XE0VN0ymKT7WIq",
      "include_colab_link": true
    },
    "kernelspec": {
      "name": "python3",
      "display_name": "Python 3"
    },
    "language_info": {
      "name": "python"
    }
  },
  "cells": [
    {
      "cell_type": "markdown",
      "metadata": {
        "id": "view-in-github",
        "colab_type": "text"
      },
      "source": [
        "<a href=\"https://colab.research.google.com/github/ruthika5462/python-folders/blob/main/problem_solving.ipynb\" target=\"_parent\"><img src=\"https://colab.research.google.com/assets/colab-badge.svg\" alt=\"Open In Colab\"/></a>"
      ]
    },
    {
      "cell_type": "code",
      "source": [
        "##amstrong number\n",
        "for i in range(99):\n",
        "  num=i\n",
        "  result=0\n",
        "  n=len(str(i))\n",
        "  while(i!=0):\n",
        "    digit=i%10\n",
        "    result==result+digit**n\n",
        "    i=i//10\n",
        "  if num==result:\n",
        "    print(result)"
      ],
      "metadata": {
        "colab": {
          "base_uri": "https://localhost:8080/"
        },
        "id": "TUE6o631r4P4",
        "outputId": "c6e05220-0654-4809-cc70-ba18d4ca0643"
      },
      "execution_count": null,
      "outputs": [
        {
          "output_type": "stream",
          "name": "stdout",
          "text": [
            "0\n"
          ]
        }
      ]
    },
    {
      "cell_type": "code",
      "source": [
        "n = int(input(\"enter the number of rows:\"))\n",
        "for i in range(1,n+1):\n",
        "  for j in range(1,i+1):\n",
        "    print(i,end=\"\")\n",
        "  print()\n",
        "\n"
      ],
      "metadata": {
        "colab": {
          "base_uri": "https://localhost:8080/"
        },
        "id": "QkEvTU9s0cTe",
        "outputId": "f48e6174-d8fb-4a0d-cc61-a7d90006d2cb"
      },
      "execution_count": null,
      "outputs": [
        {
          "output_type": "stream",
          "name": "stdout",
          "text": [
            "enter the number of rows:5\n",
            "1\n",
            "22\n",
            "333\n",
            "4444\n",
            "55555\n"
          ]
        }
      ]
    },
    {
      "cell_type": "code",
      "source": [
        "n=int(input(\"enter the number of rows:\"))\n",
        "for row  in range(n):\n",
        "  for  col in range(n):\n",
        "    if col==0 or row==(n-1) or row==col:\n",
        "      print(\"*\",end=\"\")\n",
        "    else:\n",
        "      print(end=\" \")\n",
        "  print()\n"
      ],
      "metadata": {
        "colab": {
          "base_uri": "https://localhost:8080/"
        },
        "id": "YamawjBp2sBO",
        "outputId": "274759fa-7284-42e3-b6e7-ac7aabe53997"
      },
      "execution_count": null,
      "outputs": [
        {
          "output_type": "stream",
          "name": "stdout",
          "text": [
            "enter the number of rows:10\n",
            "*         \n",
            "**        \n",
            "* *       \n",
            "*  *      \n",
            "*   *     \n",
            "*    *    \n",
            "*     *   \n",
            "*      *  \n",
            "*       * \n",
            "**********\n"
          ]
        }
      ]
    },
    {
      "cell_type": "code",
      "source": [
        "n=int(input(\"enter the number of rows:\"))\n",
        "for row in range(n):\n",
        "  for col in range(n):\n",
        "       if  col==0 or  row==n-1 or row==col:\n",
        "           print(\"*\",end=\"\")\n",
        "       else:\n",
        "           print(end=\"\")\n",
        "  print()"
      ],
      "metadata": {
        "colab": {
          "base_uri": "https://localhost:8080/"
        },
        "id": "ZZWAJkb2-bvJ",
        "outputId": "9e2c5451-2b3b-4742-dbbf-06a8a157586b"
      },
      "execution_count": null,
      "outputs": [
        {
          "output_type": "stream",
          "name": "stdout",
          "text": [
            "enter the number of rows:10\n",
            "*\n",
            "**\n",
            "**\n",
            "**\n",
            "**\n",
            "**\n",
            "**\n",
            "**\n",
            "**\n",
            "**********\n"
          ]
        }
      ]
    },
    {
      "cell_type": "code",
      "source": [
        "##factorial in inbuilt\n",
        "import math\n",
        "n=int(input(\"enter the number:\"))\n",
        "result=math.factorial(n)\n",
        "print(\"factorial of \",n,\"is\",result)\n",
        "\n",
        "\n"
      ],
      "metadata": {
        "colab": {
          "base_uri": "https://localhost:8080/"
        },
        "id": "WLwlXAT_BZdR",
        "outputId": "156ced40-a507-4adb-c8bb-407c5d13790c"
      },
      "execution_count": null,
      "outputs": [
        {
          "output_type": "stream",
          "name": "stdout",
          "text": [
            "enter the number:9\n",
            "factorial of  9 is 362880\n"
          ]
        }
      ]
    },
    {
      "cell_type": "code",
      "source": [
        "##factorial in recursion n!=(n-1)\n",
        "def fact(n):\n",
        "  if n==0:\n",
        "    return 1\n",
        "  else:\n",
        "    return n*fact(n-1)\n",
        "n = int(input(\"enter the number:\"))\n",
        "result = fact(n)  \n",
        "print(\"factorial of\",n,\"is\",result)\n",
        "\n"
      ],
      "metadata": {
        "id": "Q3DXd1-sEEzX",
        "colab": {
          "base_uri": "https://localhost:8080/"
        },
        "outputId": "84262f50-5312-45fd-801c-074e72225b1a"
      },
      "execution_count": null,
      "outputs": [
        {
          "output_type": "stream",
          "name": "stdout",
          "text": [
            "enter the number:0\n",
            "factorial of 0 is 1\n"
          ]
        }
      ]
    },
    {
      "cell_type": "code",
      "source": [
        "n=int(input(\"enter the number:\"))\n",
        "result=1\n",
        "for i in range(n,0,-1): ##5 4 3  2 1\n",
        "   result=result*i\n",
        "print(\"factorial of\",n,\"is\",result)\n"
      ],
      "metadata": {
        "colab": {
          "base_uri": "https://localhost:8080/"
        },
        "id": "FLD-4vJdi8P0",
        "outputId": "2ebb2788-1ac6-4a73-f35b-0cc7839d7398"
      },
      "execution_count": 5,
      "outputs": [
        {
          "output_type": "stream",
          "name": "stdout",
          "text": [
            "enter the number:-5\n",
            "factorial of -5 is 1\n"
          ]
        }
      ]
    },
    {
      "cell_type": "code",
      "source": [
        "n=int(input(\"enter the number of rows:\"))\n",
        "for row in range(0,n):\n",
        "  for col in range(0,n):\n",
        "    if row==0 or col==(n-1) or  row==col:\n",
        "        print(\"*\",end=\"\")\n",
        "    else:\n",
        "      print(end=\" \")\n",
        "  print()\n",
        "     \n"
      ],
      "metadata": {
        "colab": {
          "base_uri": "https://localhost:8080/"
        },
        "id": "B1yrZfMFlidY",
        "outputId": "1ad84f91-de97-47bb-9d24-45289d7428c7"
      },
      "execution_count": 8,
      "outputs": [
        {
          "output_type": "stream",
          "name": "stdout",
          "text": [
            "enter the number of rows:6\n",
            "******\n",
            " *   *\n",
            "  *  *\n",
            "   * *\n",
            "    **\n",
            "     *\n"
          ]
        }
      ]
    },
    {
      "cell_type": "code",
      "source": [
        "##flodys triangle\n",
        "n=int(input(\"enter the number of rows:\"))\n",
        "num=1\n",
        "for row in range(1,n+1):\n",
        "  for col in range(1,row+1):\n",
        "    print(num,end=\"  \")\n",
        "    num=num+1\n",
        "  print() \n",
        "\n"
      ],
      "metadata": {
        "colab": {
          "base_uri": "https://localhost:8080/"
        },
        "id": "2qexgF34qCq5",
        "outputId": "9fa7c8d6-1bff-4157-cd7e-0fccade40c00"
      },
      "execution_count": 10,
      "outputs": [
        {
          "output_type": "stream",
          "name": "stdout",
          "text": [
            "enter the number of rows:5\n",
            "1  \n",
            "2  3  \n",
            "4  5  6  \n",
            "7  8  9  10  \n",
            "11  12  13  14  15  \n"
          ]
        }
      ]
    },
    {
      "cell_type": "code",
      "source": [
        "string=input(\"enter the string:\")\n",
        "length=len(string)  ##no of rows\n",
        "for row in range(length):\n",
        "    for col in range(row+1):\n",
        "         print strin\n"
      ],
      "metadata": {
        "colab": {
          "base_uri": "https://localhost:8080/",
          "height": 130
        },
        "id": "0YlEUMCnsjFn",
        "outputId": "b2762418-3c79-4513-a4f0-71ad39519376"
      },
      "execution_count": 13,
      "outputs": [
        {
          "output_type": "error",
          "ename": "SyntaxError",
          "evalue": "ignored",
          "traceback": [
            "\u001b[0;36m  File \u001b[0;32m\"<ipython-input-13-41b5322fb84d>\"\u001b[0;36m, line \u001b[0;32m5\u001b[0m\n\u001b[0;31m    print string [col]\u001b[0m\n\u001b[0m               ^\u001b[0m\n\u001b[0;31mSyntaxError\u001b[0m\u001b[0;31m:\u001b[0m Missing parentheses in call to 'print'. Did you mean print(string [col])?\n"
          ]
        }
      ]
    },
    {
      "cell_type": "code",
      "source": [
        "n=int(input(\"enter  how many numbers you want in this series:\"))\n",
        "first = 0  ##var\n",
        "second = 1  ##var\n",
        "for i in range(n):\n",
        "  print(first)\n",
        "  temp = first\n",
        "  first = second\n",
        "  second=temp+second"
      ],
      "metadata": {
        "colab": {
          "base_uri": "https://localhost:8080/"
        },
        "id": "VZQnlOhfywAp",
        "outputId": "ab7b1b3d-630d-4041-ecd1-ddb0be6a1969"
      },
      "execution_count": 14,
      "outputs": [
        {
          "output_type": "stream",
          "name": "stdout",
          "text": [
            "enter  how many numbers you want in this series:10\n",
            "0\n",
            "1\n",
            "1\n",
            "2\n",
            "3\n",
            "5\n",
            "8\n",
            "13\n",
            "21\n",
            "34\n"
          ]
        }
      ]
    },
    {
      "cell_type": "code",
      "source": [
        "n =int(input(\"enter the number of rows:\"))\n",
        "for row in range(n,0,-1):\n",
        "  for col in range(1,row+1):\n",
        "    print(col,end=\" \")\n",
        "  print()\n",
        "\n",
        "\n",
        "\n"
      ],
      "metadata": {
        "colab": {
          "base_uri": "https://localhost:8080/"
        },
        "id": "FQLFsfyw45f_",
        "outputId": "bb45a229-b583-477c-abcb-30cc8e023050"
      },
      "execution_count": 15,
      "outputs": [
        {
          "output_type": "stream",
          "name": "stdout",
          "text": [
            "enter the number of rows:6\n",
            "1 2 3 4 5 6 \n",
            "1 2 3 4 5 \n",
            "1 2 3 4 \n",
            "1 2 3 \n",
            "1 2 \n",
            "1 \n"
          ]
        }
      ]
    },
    {
      "cell_type": "code",
      "source": [
        "##prime numbers in given interval\n",
        "lower=int(input(\"enter the lower interval:\"))\n",
        "upper=int(input(\"enter the upper interval:\"))\n",
        "for num in range(lower,upper+1):\n",
        "  if num>1:\n",
        "    for i in range(2,num):\n",
        "        if(num%1)==0:\n",
        "            break\n",
        "    else:\n",
        "      print(num)\n"
      ],
      "metadata": {
        "colab": {
          "base_uri": "https://localhost:8080/"
        },
        "id": "cF2yK3re-Qvm",
        "outputId": "45d18c7b-f9de-4742-bda4-593e0f8ff991"
      },
      "execution_count": 19,
      "outputs": [
        {
          "output_type": "stream",
          "name": "stdout",
          "text": [
            "enter the lower interval:1\n",
            "enter the upper interval:100\n",
            "2\n"
          ]
        }
      ]
    },
    {
      "cell_type": "code",
      "source": [
        "num=int(input(\"enter any positive number to check whteher it is prime or not:\"))\n",
        "if num>1:\n",
        "  for i in range(2,num):\n",
        "    if (num%i)==0:\n",
        "      print(num,\"is not a prime number\")\n",
        "      break\n",
        "  else:\n",
        "        print(num,\"is a prime number\")\n",
        "else:\n",
        "     print(num,\"is not a prime number\")\n"
      ],
      "metadata": {
        "colab": {
          "base_uri": "https://localhost:8080/"
        },
        "id": "l2RjUkoqGyeu",
        "outputId": "c22ba4df-40e9-4bea-e97b-44484d89eec8"
      },
      "execution_count": 21,
      "outputs": [
        {
          "output_type": "stream",
          "name": "stdout",
          "text": [
            "enter any positive number to check whteher it is prime or not:15\n",
            "15 is not a prime number\n"
          ]
        }
      ]
    },
    {
      "cell_type": "code",
      "source": [
        "n=int(input(\"enter the number of rows:\"))\n",
        "for row in range(1,n+1):\n",
        "  for col in range(1,2*n):\n",
        "     if row==n or  row+col==n+1 or col-row==n-1:\n",
        "       print(\"*\",end=\"\")\n",
        "     else:\n",
        "      print(end=\" \")\n",
        "  print()"
      ],
      "metadata": {
        "colab": {
          "base_uri": "https://localhost:8080/"
        },
        "id": "l2MR5UyLJ754",
        "outputId": "e34e474f-a51b-4fa4-f418-547359e19531"
      },
      "execution_count": 27,
      "outputs": [
        {
          "output_type": "stream",
          "name": "stdout",
          "text": [
            "enter the number of rows:6\n",
            "     *     \n",
            "    * *    \n",
            "   *   *   \n",
            "  *     *  \n",
            " *       * \n",
            "***********\n"
          ]
        }
      ]
    },
    {
      "cell_type": "code",
      "source": [
        "##perfect number\n",
        "num=int(input(\"enter the number:\"))\n",
        "result=0\n",
        "for i in range(1,num):\n",
        "  if (num%i)==0:\n",
        "    result=result+i\n",
        "if result==num:\n",
        "   print(num,\"is perfect number\")\n",
        "else:\n",
        "  print(num,\"not a perfect number\")\n",
        "\n",
        "\n",
        "\n",
        "\n"
      ],
      "metadata": {
        "id": "jvuwJvqpN-NN",
        "outputId": "ace4f6a6-13a5-4cda-ca40-2b2b361897a4",
        "colab": {
          "base_uri": "https://localhost:8080/"
        }
      },
      "execution_count": 33,
      "outputs": [
        {
          "output_type": "stream",
          "name": "stdout",
          "text": [
            "enter the number:28\n",
            "28 is perfect number\n"
          ]
        }
      ]
    },
    {
      "cell_type": "code",
      "source": [
        "##perfect number in the interval\n",
        "lower=int(input(\"enter the lower limit:\"))\n",
        "upper=int(input(\"enter the upper limit\"))\n",
        "for num in range(lower,upper+1):\n",
        "  result=0\n",
        "  for i in range(1,num):\n",
        "    if (num%i)==0:\n",
        "      result=result+i\n",
        "    if result==num:\n",
        "      print(num,\"is perfect number\")\n",
        "  else:\n",
        "    print(num,\"not a perfect number\")\n",
        "      \n",
        "\n",
        "      \n"
      ],
      "metadata": {
        "id": "dkcg7sMNZvNY",
        "outputId": "0afe7166-f40b-46ce-8139-932955a4d99d",
        "colab": {
          "base_uri": "https://localhost:8080/"
        }
      },
      "execution_count": 37,
      "outputs": [
        {
          "output_type": "stream",
          "name": "stdout",
          "text": [
            "enter the lower limit:1\n",
            "enter the upper limit10\n",
            "1 not a perfect number\n",
            "2 not a perfect number\n",
            "3 not a perfect number\n",
            "4 not a perfect number\n",
            "5 not a perfect number\n",
            "6 is perfect number\n",
            "6 is perfect number\n",
            "6 is perfect number\n",
            "6 not a perfect number\n",
            "7 not a perfect number\n",
            "8 not a perfect number\n",
            "9 not a perfect number\n",
            "10 not a perfect number\n"
          ]
        }
      ]
    },
    {
      "cell_type": "code",
      "source": [
        "##swapping two numbers\n",
        "a=int(input(\"enter the value of a:\"))\n",
        "b=int(input(\"enter the value of b:\"))\n",
        "temp=a\n",
        "a=b\n",
        "b=temp\n",
        "print(\"after swapping\")\n",
        "print(\"value of a:\",a)\n",
        "print(\"value of b:\",b)"
      ],
      "metadata": {
        "id": "VAdemo0TiIVP",
        "outputId": "0efdb514-d52b-4647-fee8-b0758af8f860",
        "colab": {
          "base_uri": "https://localhost:8080/"
        }
      },
      "execution_count": 38,
      "outputs": [
        {
          "output_type": "stream",
          "name": "stdout",
          "text": [
            "enter the value of a:10\n",
            "enter the value of b:5\n",
            "after swapping\n",
            "value of a: 5\n",
            "value of b: 10\n"
          ]
        }
      ]
    },
    {
      "cell_type": "code",
      "source": [
        "a=int(input(\"enter the value of a:\"))\n",
        "b=int(input(\"enter the value of b:\"))\n",
        "a=a+b\n",
        "b=a-b\n",
        "a=a-b\n",
        "print(\"after swapping\")\n",
        "print(\"value of a\",a)\n",
        "print(\"value of b\",b)"
      ],
      "metadata": {
        "id": "qCljs0HGj_pl",
        "outputId": "e529a278-6a3d-4a87-e1c1-07e28075d1a2",
        "colab": {
          "base_uri": "https://localhost:8080/"
        }
      },
      "execution_count": 39,
      "outputs": [
        {
          "output_type": "stream",
          "name": "stdout",
          "text": [
            "enter the value of a:5\n",
            "enter the value of b:10\n",
            "after swapping\n",
            "value of a 10\n",
            "value of b 5\n"
          ]
        }
      ]
    },
    {
      "cell_type": "code",
      "source": [
        "##while loop to print the pattern\n",
        "num=int(input(\"enter the number of rows:\"))\n"
      ],
      "metadata": {
        "id": "TF_DOqBXkoGx"
      },
      "execution_count": null,
      "outputs": []
    }
  ]
}