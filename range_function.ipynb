{
  "nbformat": 4,
  "nbformat_minor": 0,
  "metadata": {
    "colab": {
      "provenance": [],
      "collapsed_sections": [],
      "authorship_tag": "ABX9TyP5tMFKlgaoZ2X2uYQSrYTG",
      "include_colab_link": true
    },
    "kernelspec": {
      "name": "python3",
      "display_name": "Python 3"
    },
    "language_info": {
      "name": "python"
    }
  },
  "cells": [
    {
      "cell_type": "markdown",
      "metadata": {
        "id": "view-in-github",
        "colab_type": "text"
      },
      "source": [
        "<a href=\"https://colab.research.google.com/github/ruthika5462/python-folders/blob/main/range_function.ipynb\" target=\"_parent\"><img src=\"https://colab.research.google.com/assets/colab-badge.svg\" alt=\"Open In Colab\"/></a>"
      ]
    },
    {
      "cell_type": "code",
      "execution_count": null,
      "metadata": {
        "colab": {
          "base_uri": "https://localhost:8080/"
        },
        "id": "kWI2RSdkd01Q",
        "outputId": "97e6ceba-1bbd-4ee7-c46a-7a70101871ae"
      },
      "outputs": [
        {
          "output_type": "stream",
          "name": "stdout",
          "text": [
            "[0, 1, 2, 3, 4]\n",
            "[0, 2, 4, 6, 8, 10, 12, 14, 16, 18, 20]\n",
            "[1, 3, 5, 7, 9, 11, 13, 15, 17, 19]\n"
          ]
        }
      ],
      "source": [
        "##range in python\n",
        "print(list(range(5)))\n",
        "print(list(range(0,21,2)))\n",
        "print(list(range(1,20,2)))"
      ]
    },
    {
      "cell_type": "code",
      "source": [
        "##for loop\n",
        "for i in range(20):\n",
        "  print(i)\n",
        "for i in range(5):\n",
        "  a=int(input(\"Enter a no:\"))\n",
        "  b=int(input(\"enter a no\"))\n",
        "  print(a+b )"
      ],
      "metadata": {
        "colab": {
          "base_uri": "https://localhost:8080/"
        },
        "id": "aOxQafxWgiAE",
        "outputId": "7260723e-95a2-494c-f40f-dea83f794242"
      },
      "execution_count": null,
      "outputs": [
        {
          "output_type": "stream",
          "name": "stdout",
          "text": [
            "0\n",
            "1\n",
            "2\n",
            "3\n",
            "4\n",
            "5\n",
            "6\n",
            "7\n",
            "8\n",
            "9\n",
            "10\n",
            "11\n",
            "12\n",
            "13\n",
            "14\n",
            "15\n",
            "16\n",
            "17\n",
            "18\n",
            "19\n",
            "Enter a no:10\n",
            "enter a no10\n",
            "20\n",
            "Enter a no:50\n",
            "enter a no50\n",
            "100\n",
            "Enter a no:70\n",
            "enter a no60\n",
            "130\n",
            "Enter a no:70\n",
            "enter a no60\n",
            "130\n",
            "Enter a no:40\n",
            "enter a no30\n",
            "70\n"
          ]
        }
      ]
    },
    {
      "cell_type": "code",
      "source": [
        "##nested loop\n",
        "for i in range(5):\n",
        "  for j in range(i):\n",
        "    print(\"*\",end=\" \")  \n",
        "  print(\"\")  \n",
        "print(\"________________\")\n",
        "for i in range(5,0,-1):\n",
        "  for j in range(i):\n",
        "    print(\"*\",end=\" \")\n",
        "  print(\"\")\n",
        "print(\"________________\")\n",
        "for i in range(65,70,1):\n",
        "  for j in range(64,70,1):\n",
        "       print(chr(i),end=\" \")\n",
        "  print(\"\")     "
      ],
      "metadata": {
        "colab": {
          "base_uri": "https://localhost:8080/"
        },
        "id": "DKesOZy_hknD",
        "outputId": "7b4a6ec6-4e71-417f-80b5-57259f1ef165"
      },
      "execution_count": null,
      "outputs": [
        {
          "output_type": "stream",
          "name": "stdout",
          "text": [
            "\n",
            "* \n",
            "* * \n",
            "* * * \n",
            "* * * * \n",
            "________________\n",
            "* * * * * \n",
            "* * * * \n",
            "* * * \n",
            "* * \n",
            "* \n",
            "________________\n",
            "A A A A A A \n",
            "B B B B B B \n",
            "C C C C C C \n",
            "D D D D D D \n",
            "E E E E E E \n"
          ]
        }
      ]
    },
    {
      "cell_type": "code",
      "source": [
        "##while else and for else\n",
        "i=1\n",
        "while i<=5:\n",
        "  print(i)\n",
        "  i+=1\n",
        "else:\n",
        "  print(\"loop completed\")"
      ],
      "metadata": {
        "id": "tOn8q0W6j1iL"
      },
      "execution_count": null,
      "outputs": []
    },
    {
      "cell_type": "code",
      "source": [
        "##LIST ##mutable\n",
        "a=[1,2,3,4,5]\n",
        "print(a)\n",
        "print(type(a))\n",
        "a[0]=100\n",
        "print(a)\n",
        "print(a[1])\n",
        "print(a[-1])\n",
        "print(a[0:3])\n",
        "print(a[2:])\n",
        "print(a[:3])\n",
        "print(\"____________________\")\n",
        "a=[1,True,'Ram',2.5,[1,2,3,4,5]]\n",
        "print(type(a))\n",
        "print(a[0],\" type is\",type(a[0]))\n",
        "print(a[1],\" type is\",type(a[1]))\n",
        "print(a[2],\" type is\",type(a[2]))\n",
        "print(a[3],\" type is\",type(a[3]))\n",
        "print(a[4],\"type is\",type(a[4]))\n",
        "print(a[4][1])\n",
        "print(\"_____________________\")\n",
        "a=[10,20,20,26,78]\n",
        "print(a)\n",
        "a.clear()\n",
        "print(a)\n",
        "a=[10,25,35,45]\n",
        "b=a.copy()\n",
        "print(b)\n",
        "a=[2,3,4,5,6,7]\n",
        "print(a.count(7))\n",
        "print(len(a))\n",
        "print(max(a))\n",
        "print(min(a))\n",
        "a.pop(0)\n",
        "print(a)\n",
        "a=[10,23,45,67,89,25,24]\n",
        "a.remove(25)\n",
        "print(a)\n",
        "names=[\"Ram\"]\n",
        "names.append(\"shyam\")\n",
        "names.append(\"ravi\")\n",
        "print(names)\n",
        "name2=[\"ruthika\",\"anitha\"]\n",
        "names.extend(name2)\n",
        "print(names)\n",
        "names.insert(0,\"suriya\")\n",
        "print(names)\n",
        "print(list(range(5)))\n",
        "print(list(\"tutor joes\"))\n",
        "a=[12,45,67,78,95,34]\n",
        "a.sort()\n",
        "print(a)\n",
        "a.sort(reverse=True)\n",
        "print(a)\n",
        "a=[\"orange\",\"apple\",\"zebra\"]\n",
        "a.sort()\n",
        "print(a)\n",
        "a.sort(reverse=True)\n",
        "print(a)\n",
        "a.sort(key=len)\n",
        "print(a)"
      ],
      "metadata": {
        "colab": {
          "base_uri": "https://localhost:8080/"
        },
        "id": "t3HdxoQEbJdv",
        "outputId": "738f08ba-adaa-4833-ef28-e397729a9997"
      },
      "execution_count": null,
      "outputs": [
        {
          "output_type": "stream",
          "name": "stdout",
          "text": [
            "[1, 2, 3, 4, 5]\n",
            "<class 'list'>\n",
            "[100, 2, 3, 4, 5]\n",
            "2\n",
            "5\n",
            "[100, 2, 3]\n",
            "[3, 4, 5]\n",
            "[100, 2, 3]\n",
            "____________________\n",
            "<class 'list'>\n",
            "1  type is <class 'int'>\n",
            "True  type is <class 'bool'>\n",
            "Ram  type is <class 'str'>\n",
            "2.5  type is <class 'float'>\n",
            "[1, 2, 3, 4, 5] type is <class 'list'>\n",
            "2\n",
            "_____________________\n",
            "[10, 20, 20, 26, 78]\n",
            "[]\n",
            "[10, 25, 35, 45]\n",
            "1\n",
            "6\n",
            "7\n",
            "2\n",
            "[3, 4, 5, 6, 7]\n",
            "[10, 23, 45, 67, 89, 24]\n",
            "['Ram', 'shyam', 'ravi']\n",
            "['Ram', 'shyam', 'ravi', 'ruthika', 'anitha']\n",
            "['suriya', 'Ram', 'shyam', 'ravi', 'ruthika', 'anitha']\n",
            "[0, 1, 2, 3, 4]\n",
            "['t', 'u', 't', 'o', 'r', ' ', 'j', 'o', 'e', 's']\n",
            "[12, 34, 45, 67, 78, 95]\n",
            "[95, 78, 67, 45, 34, 12]\n",
            "['apple', 'orange', 'zebra']\n",
            "['zebra', 'orange', 'apple']\n",
            "['zebra', 'apple', 'orange']\n"
          ]
        }
      ]
    },
    {
      "cell_type": "code",
      "source": [
        "##tuple  ##immutable\n",
        "a=(1,2.5,True,\"Ram\")\n",
        "print(a)\n",
        "print(type(a))\n",
        "print(a[1])\n",
        "print(a[-1])\n",
        "print(a[0:2])\n",
        "b=list(a)\n",
        "print(b)\n",
        "b.append(\"Raja\")\n",
        "print(b)\n",
        "print(type(b))\n",
        "a=tuple(b)\n",
        "print(a)\n",
        "print(type(a))\n",
        "for i in a:\n",
        "  print(i)\n",
        "if \"Raja \" in a:\n",
        "    print(\"raja is found\")\n",
        "else:\n",
        "  print(\"not found\")\n",
        "print(len(a))\n",
        "a=(1,)  ##single item use comma then only it take as tuple\n",
        "print(type(a))\n",
        "del a\n",
        "a=(1,2,7,4)\n",
        "b=(5,6,7,8)\n",
        "c=a+b\n",
        "print(c.count(7))\n",
        "\n",
        "a=(1,2,3,4,5)\n",
        "b=(5,6,7,8)\n",
        "c=(a,b)\n",
        "print(c)\n",
        "print(c[0])\n",
        "print(c[1])\n",
        "print(c[0][1])\n",
        "x = ('Joes',) *10\n",
        "print(x)\n",
        "print(max(a))\n",
        "\n"
      ],
      "metadata": {
        "id": "9PRlH63WqRiT",
        "colab": {
          "base_uri": "https://localhost:8080/"
        },
        "outputId": "0d981d66-2f79-4a31-cb39-0d5e193021ec"
      },
      "execution_count": null,
      "outputs": [
        {
          "output_type": "stream",
          "name": "stdout",
          "text": [
            "(1, 2.5, True, 'Ram')\n",
            "<class 'tuple'>\n",
            "2.5\n",
            "Ram\n",
            "(1, 2.5)\n",
            "[1, 2.5, True, 'Ram']\n",
            "[1, 2.5, True, 'Ram', 'Raja']\n",
            "<class 'list'>\n",
            "(1, 2.5, True, 'Ram', 'Raja')\n",
            "<class 'tuple'>\n",
            "1\n",
            "2.5\n",
            "True\n",
            "Ram\n",
            "Raja\n",
            "not found\n",
            "5\n",
            "<class 'tuple'>\n",
            "2\n",
            "((1, 2, 3, 4, 5), (5, 6, 7, 8))\n",
            "(1, 2, 3, 4, 5)\n",
            "(5, 6, 7, 8)\n",
            "2\n",
            "('Joes', 'Joes', 'Joes', 'Joes', 'Joes', 'Joes', 'Joes', 'Joes', 'Joes', 'Joes')\n",
            "5\n"
          ]
        }
      ]
    },
    {
      "cell_type": "code",
      "source": [
        "###sets\n",
        "names={'Ram','sam','Ravi'}\n",
        "print(names)\n",
        "print(type(names))\n",
        "for name in names:\n",
        "  print(name)\n",
        "## adding new element\n",
        "names.add('sara')\n",
        "print(names)\n",
        "##update another set of data"
      ],
      "metadata": {
        "colab": {
          "base_uri": "https://localhost:8080/"
        },
        "id": "sR3fMJP0f_yb",
        "outputId": "9697733b-7299-4529-d109-762d6dacb564"
      },
      "execution_count": null,
      "outputs": [
        {
          "output_type": "stream",
          "name": "stdout",
          "text": [
            "{'sam', 'Ravi', 'Ram'}\n",
            "<class 'set'>\n",
            "sam\n",
            "Ravi\n",
            "Ram\n",
            "{'sara', 'sam', 'Ravi', 'Ram'}\n"
          ]
        }
      ]
    },
    {
      "cell_type": "code",
      "source": [
        "a={'ruthika' ,'manju','jayaprakash'}\n",
        "names.update(a)\n",
        "print(names)\n",
        "names.discard('suresh')\n",
        "print(names)\n",
        "names.pop()\n",
        "print(names)\n",
        "names.clear()\n",
        "print(names)\n",
        "\n"
      ],
      "metadata": {
        "colab": {
          "base_uri": "https://localhost:8080/",
          "height": 235
        },
        "id": "C0nGvqlLm3sG",
        "outputId": "b959b9f6-3156-4fd4-89f9-fed389b26e9f"
      },
      "execution_count": null,
      "outputs": [
        {
          "output_type": "error",
          "ename": "NameError",
          "evalue": "ignored",
          "traceback": [
            "\u001b[0;31m---------------------------------------------------------------------------\u001b[0m",
            "\u001b[0;31mNameError\u001b[0m                                 Traceback (most recent call last)",
            "\u001b[0;32m<ipython-input-25-9b8148f0b84d>\u001b[0m in \u001b[0;36m<module>\u001b[0;34m\u001b[0m\n\u001b[1;32m      1\u001b[0m \u001b[0ma\u001b[0m\u001b[0;34m=\u001b[0m\u001b[0;34m{\u001b[0m\u001b[0;34m'ruthika'\u001b[0m \u001b[0;34m,\u001b[0m\u001b[0;34m'manju'\u001b[0m\u001b[0;34m,\u001b[0m\u001b[0;34m'jayaprakash'\u001b[0m\u001b[0;34m}\u001b[0m\u001b[0;34m\u001b[0m\u001b[0;34m\u001b[0m\u001b[0m\n\u001b[0;32m----> 2\u001b[0;31m \u001b[0mnames\u001b[0m\u001b[0;34m.\u001b[0m\u001b[0mupdate\u001b[0m\u001b[0;34m(\u001b[0m\u001b[0ma\u001b[0m\u001b[0;34m)\u001b[0m\u001b[0;34m\u001b[0m\u001b[0;34m\u001b[0m\u001b[0m\n\u001b[0m\u001b[1;32m      3\u001b[0m \u001b[0mprint\u001b[0m\u001b[0;34m(\u001b[0m\u001b[0mnames\u001b[0m\u001b[0;34m)\u001b[0m\u001b[0;34m\u001b[0m\u001b[0;34m\u001b[0m\u001b[0m\n\u001b[1;32m      4\u001b[0m \u001b[0mnames\u001b[0m\u001b[0;34m.\u001b[0m\u001b[0mdiscard\u001b[0m\u001b[0;34m(\u001b[0m\u001b[0;34m'suresh'\u001b[0m\u001b[0;34m)\u001b[0m\u001b[0;34m\u001b[0m\u001b[0;34m\u001b[0m\u001b[0m\n\u001b[1;32m      5\u001b[0m \u001b[0mprint\u001b[0m\u001b[0;34m(\u001b[0m\u001b[0mnames\u001b[0m\u001b[0;34m)\u001b[0m\u001b[0;34m\u001b[0m\u001b[0;34m\u001b[0m\u001b[0m\n",
            "\u001b[0;31mNameError\u001b[0m: name 'names' is not defined"
          ]
        }
      ]
    },
    {
      "cell_type": "code",
      "source": [
        "a={1,2,3,4}\n",
        "b={'a','b','c','d'}\n",
        "c=a.union(b)\n",
        "print(c)\n",
        "a.update(b)\n",
        "print(a)\n",
        "##intersection\n",
        "a={1,2,3,4,5}\n",
        "b={5,6,7,8,9}\n",
        "c=a.intersection(b)\n",
        "print(c)\n",
        "a.intersection_update(b)\n",
        "print(a)\n",
        "##symmetric\n",
        "a={1,2,3,4,5}\n",
        "b={6,7,8,9,5}\n",
        "c=a.symmetric_difference(b)\n",
        "print(c)\n",
        "a.symmetric_difference_update(b)\n",
        "print(a)\n",
        "##disjoint\n",
        "a={1,2,3,4,5}\n",
        "b={5,6,7,8,9}\n",
        "c=a.isdisjoint(b)\n",
        "print(c)\n",
        "##subset\n",
        "a={5,6,7}\n",
        "b={5,6,7,8}\n",
        "c=a.issubset(b)\n",
        "print(c)\n",
        "c=a.issuperset(b)\n",
        "print(c)"
      ],
      "metadata": {
        "colab": {
          "base_uri": "https://localhost:8080/"
        },
        "id": "0ZaxAiReoaba",
        "outputId": "7910a853-c781-4ec5-b510-dc9614941933"
      },
      "execution_count": null,
      "outputs": [
        {
          "output_type": "stream",
          "name": "stdout",
          "text": [
            "{1, 2, 3, 4, 'd', 'b', 'c', 'a'}\n",
            "{1, 2, 3, 4, 'd', 'b', 'c', 'a'}\n",
            "{5}\n",
            "{5}\n",
            "{1, 2, 3, 4, 6, 7, 8, 9}\n",
            "{1, 2, 3, 4, 6, 7, 8, 9}\n",
            "False\n",
            "True\n",
            "False\n"
          ]
        }
      ]
    },
    {
      "cell_type": "code",
      "source": [
        "##dict\n",
        "user={\n",
        "    \"name\" :\"Ram\",\n",
        "    \"age\":25,\n",
        "    \"isMarried\":True\n",
        "}\n",
        "print(user)\n",
        "print(type(user))\n",
        "print(user['name'])\n",
        "print(user.get('age'))\n",
        "print(user.keys())\n",
        "print(user.values())\n",
        "print(user.items())\n",
        "for x in user:\n",
        "  print(x,\"\",user[x])\n",
        "for x in user.values():\n",
        "  print(x)\n",
        "for x in user.keys():\n",
        "  print(x)"
      ],
      "metadata": {
        "colab": {
          "base_uri": "https://localhost:8080/"
        },
        "id": "J1-uAI3Fwb1z",
        "outputId": "ae7df7c9-9412-4691-bacb-c991e9e83a3f"
      },
      "execution_count": null,
      "outputs": [
        {
          "output_type": "stream",
          "name": "stdout",
          "text": [
            "{'name': 'Ram', 'age': 25, 'isMarried': True}\n",
            "<class 'dict'>\n",
            "Ram\n",
            "25\n",
            "dict_keys(['name', 'age', 'isMarried'])\n",
            "dict_values(['Ram', 25, True])\n",
            "dict_items([('name', 'Ram'), ('age', 25), ('isMarried', True)])\n",
            "name  Ram\n",
            "age  25\n",
            "isMarried  True\n"
          ]
        }
      ]
    }
  ]
}